{
 "cells": [
  {
   "cell_type": "markdown",
   "id": "774c9c98",
   "metadata": {},
   "source": [
    "# Understanding the stransverse mass \n",
    "\n",
    "Plotting ttbar vs ttbar+axions in the stransverse mass variable.\n",
    "\n",
    "1. Reading events from the ttbar process i.e. p p > t t~ in madgraph\n",
    "\n",
    "2. Reading events from the ttbar+axion process i.e. p p > t t~ ax in madgraph\n",
    "\n",
    "All with leptonically decaying tops and default madgraph cuts."
   ]
  },
  {
   "cell_type": "code",
   "execution_count": 2,
   "id": "3a3cb36b",
   "metadata": {},
   "outputs": [],
   "source": [
    "import awkward as ak\n",
    "import hist\n",
    "import numpy as np\n",
    "import pylhe\n",
    "from mt2 import mt2"
   ]
  },
  {
   "cell_type": "markdown",
   "id": "51df2d5e",
   "metadata": {},
   "source": [
    "### Input files, parameters"
   ]
  },
  {
   "cell_type": "code",
   "execution_count": 3,
   "id": "293f4045",
   "metadata": {},
   "outputs": [],
   "source": [
    "lumi = 139*1e3 #fb\n",
    "\n",
    "dir_ttbar = '/Users/maevemadigan/Documents/*Work/*TopAlps/TopAlps/Madgraph/ttbar_dilepton/Events/mstr_events_withMTcut/'\n",
    "dir_ttbarax = '/Users/maevemadigan/Documents/*Work/*TopAlps/TopAlps/Madgraph/ttbarax_dilepton/Events/mstr_events/'"
   ]
  },
  {
   "cell_type": "markdown",
   "id": "346634e8",
   "metadata": {},
   "source": [
    "### Histogram normalisations"
   ]
  },
  {
   "cell_type": "code",
   "execution_count": 4,
   "id": "3ca737ce",
   "metadata": {},
   "outputs": [],
   "source": [
    "def read_sigma_nevents(dirname):\n",
    "    filename = dirname + dirname.split('/')[-2]+'_tag_1_banner.txt'\n",
    "    with open(filename,'r') as f:\n",
    "        data = f.readlines()\n",
    "    f.close()\n",
    "    sigma = float(data[-4].split(' ')[-1])\n",
    "    nevents = float(data[-5].split(' ')[-1])\n",
    "    return sigma, nevents"
   ]
  },
  {
   "cell_type": "markdown",
   "id": "4a3544e2",
   "metadata": {},
   "source": [
    "Obtain normalisation factors for each histogram"
   ]
  },
  {
   "cell_type": "code",
   "execution_count": 5,
   "id": "e2dd3510",
   "metadata": {},
   "outputs": [],
   "source": [
    "sigma_sm, nevents_sm = read_sigma_nevents(dir_ttbar)\n",
    "sigma_ax, nevents_ax = read_sigma_nevents(dir_ttbarax)\n",
    "\n",
    "ww_sm = sigma_sm*lumi/nevents_sm\n",
    "ww_ax = sigma_ax*lumi/nevents_ax"
   ]
  },
  {
   "cell_type": "markdown",
   "id": "a2edc4ff",
   "metadata": {},
   "source": [
    "### Load events "
   ]
  },
  {
   "cell_type": "code",
   "execution_count": 6,
   "id": "6d0b6bf0",
   "metadata": {},
   "outputs": [],
   "source": [
    "pylhe.register_awkward()\n",
    "arr_sm = pylhe.to_awkward(pylhe.read_lhe_with_attributes(dir_ttbar+\"unweighted_events.lhe\"))\n",
    "arr_ax = pylhe.to_awkward(pylhe.read_lhe_with_attributes(dir_ttbarax+\"unweighted_events.lhe\"))"
   ]
  },
  {
   "cell_type": "markdown",
   "id": "e197e8f4",
   "metadata": {},
   "source": [
    "SM vectors and properties - ttbar\n",
    "\n",
    "Leptons are at indices 6,9\n",
    "Neutrinos are at indices 7,10\n",
    "\n",
    "To do: generalise this somehow"
   ]
  },
  {
   "cell_type": "code",
   "execution_count": 7,
   "id": "d5bbc8b9",
   "metadata": {},
   "outputs": [],
   "source": [
    "#visible things\n",
    "#Leptons are at index 6,9\n",
    "\n",
    "vecL1SM = arr_sm.particles.vector[:,6]   \n",
    "vecL2SM = arr_sm.particles.vector[:,9] \n",
    "\n",
    "massL1SM = 0.1\n",
    "massL2SM = 0.1\n",
    "\n",
    "pxL1SM = vecL1SM.px\n",
    "pyL1SM = vecL1SM.py\n",
    "\n",
    "pxL2SM = vecL2SM.px\n",
    "pyL2SM = vecL2SM.py\n",
    "\n",
    "#Invisible things\n",
    "#neutrinos are at index 7,10\n",
    "#Assume massless\n",
    "\n",
    "# vecMissSM = arr_sm.particles.vector[:,7] + arr_sm.particles.vector[:,10]\n",
    "# pmiss_xSM = vecMissSM.px\n",
    "# pmiss_ySM = vecMissSM.py\n",
    "\n",
    "# mmiss1SM = 0\n",
    "# mmiss2SM = 0\n",
    "# mmiss1SM\n",
    "\n",
    "\n",
    "#Computing PTmiss as negative the sum of visible transverse PT's.  Should be equal to the sum of neutrino PT's\n",
    "#B quarks are at indices 8,11\n",
    "\n",
    "vecB1SM = arr_sm.particles.vector[:,8]   \n",
    "vecB2SM = arr_sm.particles.vector[:,11]\n",
    "\n",
    "vecMissSM = -(vecL1SM + vecL2SM + vecB1SM + vecB2SM)\n",
    "\n",
    "pmiss_xSM = vecMissSM.px\n",
    "pmiss_ySM = vecMissSM.py\n",
    "\n",
    "mmiss1SM = 0\n",
    "mmiss2SM = 0"
   ]
  },
  {
   "cell_type": "markdown",
   "id": "dc18baea",
   "metadata": {},
   "source": [
    "Axion vectors and properties - ttbar + axion\n",
    "\n",
    "Leptons are at indices 6,9\n",
    "Neutrinos are at indices 7,10\n",
    "Axion is at index 12\n"
   ]
  },
  {
   "cell_type": "code",
   "execution_count": 8,
   "id": "8eea056f",
   "metadata": {},
   "outputs": [],
   "source": [
    "#visible things\n",
    "#Leptons are at index 6,9\n",
    "\n",
    "vecL1AX = arr_ax.particles.vector[:,6]   \n",
    "vecL2AX = arr_ax.particles.vector[:,9] \n",
    "\n",
    "massL1AX = 0.1\n",
    "massL2AX = 0.1\n",
    "\n",
    "pxL1AX = vecL1AX.px\n",
    "pyL1AX = vecL1AX.py\n",
    "\n",
    "pxL2AX = vecL2AX.px\n",
    "pyL2AX = vecL2AX.py\n",
    "\n",
    "#Invisible things\n",
    "#neutrinos are at index 7,10\n",
    "#axion at index 12\n",
    "#Assume massless\n",
    "\n",
    "# vecMissAX = arr_ax.particles.vector[:,7] + arr_ax.particles.vector[:,10] + arr_ax.particles.vector[:,12]\n",
    "# pmiss_xAX = vecMissAX.px\n",
    "# pmiss_yAX = vecMissAX.py\n",
    "\n",
    "# mmiss1AX = 0\n",
    "# mmiss2AX = 0\n",
    "# mmiss1AX\n",
    "\n",
    "#Remaining visible things, so that invisible = - visible\n",
    "#B quarks are at indices 8,11\n",
    "\n",
    "vecB1AX = arr_ax.particles.vector[:,8]   \n",
    "vecB2AX = arr_ax.particles.vector[:,11]\n",
    "\n",
    "vecMissAX = -(vecL1AX + vecL2AX + vecB1AX + vecB2AX)\n",
    "\n",
    "pmiss_xAX = vecMissAX.px\n",
    "pmiss_yAX = vecMissAX.py\n",
    "\n",
    "mmiss1AX = 0\n",
    "mmiss2AX = 0"
   ]
  },
  {
   "cell_type": "markdown",
   "id": "a42aada4",
   "metadata": {},
   "source": [
    "Calculate mt2"
   ]
  },
  {
   "cell_type": "code",
   "execution_count": 9,
   "id": "57f34233",
   "metadata": {},
   "outputs": [],
   "source": [
    "valSM = mt2(\n",
    "        massL1SM, pxL1SM, pyL1SM,  # Visible 1: mass, px, py\n",
    "    massL2SM, pxL2SM, pyL2SM,  # Visible 2: mass, px, py\n",
    "    pmiss_xSM, pmiss_ySM,  # Missing transverse momentum: x, y\n",
    "    mmiss1SM, mmiss2SM)  # Invisible 1 mass, invisible 2 mass\n",
    "\n",
    "\n",
    "valAX = mt2(\n",
    "        massL1AX, pxL1AX, pyL1AX,  # Visible 1: mass, px, py\n",
    "    massL2AX, pxL2AX, pyL2AX,  # Visible 2: mass, px, py\n",
    "    pmiss_xAX, pmiss_yAX,  # Missing transverse momentum: x, y\n",
    "    mmiss1AX, mmiss2AX)  # Invisible 1 mass, invisible 2 mass"
   ]
  },
  {
   "cell_type": "markdown",
   "id": "cd764310",
   "metadata": {},
   "source": [
    "Plot histograms!"
   ]
  },
  {
   "cell_type": "code",
   "execution_count": 14,
   "id": "0ddd7c15",
   "metadata": {},
   "outputs": [
    {
     "data": {
      "image/png": "[encoded data removed]",
      "text/plain": [
       "<Figure size 640x480 with 1 Axes>"
      ]
     },
     "metadata": {},
     "output_type": "display_data"
    }
   ],
   "source": [
    "axis1 = hist.axis.Regular(bins=40, start=10, stop=150, name=\"smtr_SM\");\n",
    "hist1 = hist.Hist(axis1);\n",
    "hist1.fill(smtr_SM=valSM, weight=ww_sm);\n",
    "\n",
    "\n",
    "artists = hist1.plot1d();\n",
    "ax = artists[0].stairs.axes;\n",
    "ax.set_yscale(\"linear\");\n",
    "ax.set_xlabel(r\"\");\n",
    "ax.set_ylabel(\"Count\");\n",
    "ax.set_title('ttbar events, mt2 distribution');\n",
    "ax.set_xlabel('mt2 [GeV]');"
   ]
  },
  {
   "cell_type": "code",
   "execution_count": null,
   "id": "a9a3f669",
   "metadata": {},
   "outputs": [],
   "source": []
  },
  {
   "cell_type": "code",
   "execution_count": 13,
   "id": "a514fe4a",
   "metadata": {},
   "outputs": [
    {
     "data": {
      "image/png": "[encoded data removed]",
      "text/plain": [
       "<Figure size 640x480 with 1 Axes>"
      ]
     },
     "metadata": {},
     "output_type": "display_data"
    }
   ],
   "source": [
    "axis1 = hist.axis.Regular(bins=40, start=85, stop=200, name=\"smtr_SM\");\n",
    "hist1 = hist.Hist(axis1);\n",
    "hist1.fill(smtr_SM=valSM, weight=ww_sm);\n",
    "\n",
    "axis2 = hist.axis.Regular(bins=40, start=85, stop=200, name=\"smtr_AX\");\n",
    "hist2 = hist.Hist(axis2);\n",
    "hist2.fill(smtr_AX=valAX, weight=ww_ax);\n",
    "\n",
    "\n",
    "artists = hist1.plot1d();\n",
    "artists = hist2.plot1d();\n",
    "ax = artists[0].stairs.axes;\n",
    "ax.set_yscale(\"linear\");\n",
    "ax.set_xlabel(r\"\");\n",
    "ax.set_ylabel(\"Count\");\n",
    "ax.set_title('ttbar events (blue) and ttbar + axion events (orange), mt2 distribution');\n",
    "ax.set_xlabel('mt2 [GeV]');"
   ]
  },
  {
   "cell_type": "code",
   "execution_count": null,
   "id": "90cc473d",
   "metadata": {},
   "outputs": [],
   "source": []
  },
  {
   "cell_type": "code",
   "execution_count": null,
   "id": "64796693",
   "metadata": {},
   "outputs": [],
   "source": []
  },
  {
   "cell_type": "code",
   "execution_count": null,
   "id": "d80c0131",
   "metadata": {},
   "outputs": [],
   "source": []
  },
  {
   "cell_type": "code",
   "execution_count": null,
   "id": "f916e012",
   "metadata": {},
   "outputs": [],
   "source": []
  },
  {
   "cell_type": "code",
   "execution_count": null,
   "id": "70560331",
   "metadata": {},
   "outputs": [],
   "source": []
  },
  {
   "cell_type": "code",
   "execution_count": null,
   "id": "48a9e994",
   "metadata": {},
   "outputs": [],
   "source": []
  }
 ],
 "metadata": {
  "kernelspec": {
   "display_name": "Python [conda env:topalps] *",
   "language": "python",
   "name": "conda-env-topalps-py"
  },
  "language_info": {
   "codemirror_mode": {
    "name": "ipython",
    "version": 3
   },
   "file_extension": ".py",
   "mimetype": "text/x-python",
   "name": "python",
   "nbconvert_exporter": "python",
   "pygments_lexer": "ipython3",
   "version": "3.9.13"
  }
 },
 "nbformat": 4,
 "nbformat_minor": 5
}
