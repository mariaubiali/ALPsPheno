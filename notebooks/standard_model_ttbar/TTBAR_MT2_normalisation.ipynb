{
 "cells": [
  {
   "cell_type": "markdown",
   "id": "774c9c98",
   "metadata": {},
   "source": [
    "# Obtaining the ratio of our ttbar simulations to the ATLAS calculation\n",
    "\n",
    "\n",
    "The goal of this notebook is to compare the our simulation of ttbar production in the MT2 variable to the numbers obtained by ATLAS.  The ratio of these distributions can then be used as a normalisation factor, applied to our simulation of the ttbar + axion distribution.\n",
    "\n",
    "We are plotting $t \\bar{t}$ production in the stransverse mass variable MT2.  The MG5 process definition is:\n",
    "\n",
    "- $p p > t t~, (t > l+ vl b), (t~ > l- vl~ b~)$\n",
    "\n",
    "The distribution is compared to ATLAS in https://www.hepdata.net/record/ins1844425?version=1, figure 11 (a).\n",
    "\n",
    "\n",
    "Things to do before finalising this comparison and extracting the normaliation:\n",
    "\n",
    "\n",
    "1. Apply the same cuts as in the exp paper\n",
    "2. Generate more events, so that the stats in the tail are good\n",
    "3. Change the process definition so that we use only different flavour leptons (11 a).  We can then redo this analysis with same flavour leptons only, and compare to figure 11 (b).\n",
    "4. Apply the delta Phi boost cut in dummy_fct.f\n",
    "5. Apply an 'ET miss significance' cut, or understand why this can be neglected"
   ]
  },
  {
   "cell_type": "code",
   "execution_count": 1,
   "id": "3a3cb36b",
   "metadata": {},
   "outputs": [],
   "source": [
    "import awkward as ak\n",
    "import hist\n",
    "import numpy as np\n",
    "import pylhe\n",
    "from mt2 import mt2\n",
    "import csv"
   ]
  },
  {
   "cell_type": "markdown",
   "id": "51df2d5e",
   "metadata": {},
   "source": [
    "### Input files, parameters"
   ]
  },
  {
   "cell_type": "code",
   "execution_count": 2,
   "id": "c45667a2",
   "metadata": {},
   "outputs": [],
   "source": [
    "lumi = 139*1e3"
   ]
  },
  {
   "cell_type": "code",
   "execution_count": 8,
   "id": "293f4045",
   "metadata": {},
   "outputs": [],
   "source": [
    "dir_ttbar = './ttbar_events/'"
   ]
  },
  {
   "cell_type": "markdown",
   "id": "73761300",
   "metadata": {},
   "source": [
    "### CSV reader for ATLAS dataset:"
   ]
  },
  {
   "cell_type": "code",
   "execution_count": 9,
   "id": "20c28388",
   "metadata": {},
   "outputs": [],
   "source": [
    "def csv_reader(filename):\n",
    "    output = []\n",
    "    with open(filename, \"r\") as csvfile:\n",
    "        reader = csv.reader(csvfile, delimiter=',')\n",
    "        for row in reader:\n",
    "            output.append(row)\n",
    "        csvfile.close()\n",
    "\n",
    "    return output"
   ]
  },
  {
   "cell_type": "markdown",
   "id": "346634e8",
   "metadata": {},
   "source": [
    "### Histogram normalisations"
   ]
  },
  {
   "cell_type": "code",
   "execution_count": 10,
   "id": "3ca737ce",
   "metadata": {},
   "outputs": [],
   "source": [
    "def read_sigma_nevents(dirname):\n",
    "    filename = dirname + dirname.split('/')[-2]+'_tag_1_banner.txt'\n",
    "    with open(filename,'r') as f:\n",
    "        data = f.readlines()\n",
    "    f.close()\n",
    "    sigma = float(data[-4].split(' ')[-1])\n",
    "    nevents = float(data[-5].split(' ')[-1])\n",
    "    return sigma, nevents"
   ]
  },
  {
   "cell_type": "markdown",
   "id": "4a3544e2",
   "metadata": {},
   "source": [
    "Obtain normalisation factors for each histogram"
   ]
  },
  {
   "cell_type": "code",
   "execution_count": 11,
   "id": "e2dd3510",
   "metadata": {},
   "outputs": [],
   "source": [
    "sigma_sm, nevents_sm = read_sigma_nevents(dir_ttbar)\n",
    "ww_sm = sigma_sm*lumi/nevents_sm"
   ]
  },
  {
   "cell_type": "markdown",
   "id": "a2edc4ff",
   "metadata": {},
   "source": [
    "### Load events "
   ]
  },
  {
   "cell_type": "code",
   "execution_count": 12,
   "id": "6d0b6bf0",
   "metadata": {},
   "outputs": [],
   "source": [
    "pylhe.register_awkward()\n",
    "arr_sm = pylhe.to_awkward(pylhe.read_lhe_with_attributes(dir_ttbar+\"unweighted_events.lhe\"))"
   ]
  },
  {
   "cell_type": "markdown",
   "id": "e197e8f4",
   "metadata": {},
   "source": [
    "SM vectors and properties - ttbar\n",
    "\n",
    "Leptons are at indices 6,9\n",
    "Neutrinos are at indices 7,10\n",
    "\n",
    "To do: generalise this somehow"
   ]
  },
  {
   "cell_type": "code",
   "execution_count": 90,
   "id": "d5bbc8b9",
   "metadata": {},
   "outputs": [
    {
     "data": {
      "text/plain": [
       "0"
      ]
     },
     "execution_count": 90,
     "metadata": {},
     "output_type": "execute_result"
    }
   ],
   "source": [
    "#visible things\n",
    "#Leptons are at index 6,9\n",
    "\n",
    "vecL1SM = arr_sm.particles.vector[:,-3]   \n",
    "vecL2SM = arr_sm.particles.vector[:,-6] \n",
    "\n",
    "massL1SM = 0.1\n",
    "massL2SM = 0.1\n",
    "\n",
    "pxL1SM = vecL1SM.px\n",
    "pyL1SM = vecL1SM.py\n",
    "\n",
    "pxL2SM = vecL2SM.px\n",
    "pyL2SM = vecL2SM.py\n",
    "\n",
    "#Invisible things\n",
    "#neutrinos are at index 7,10\n",
    "#Assume massless\n",
    "\n",
    "vecMissSM = arr_sm.particles.vector[:,-2] + arr_sm.particles.vector[:,-5]\n",
    "pmiss_xSM = vecMissSM.px\n",
    "pmiss_ySM = vecMissSM.py\n",
    "\n",
    "mmiss1SM = 0\n",
    "mmiss2SM = 0\n",
    "mmiss1SM"
   ]
  },
  {
   "cell_type": "markdown",
   "id": "a42aada4",
   "metadata": {},
   "source": [
    "Calculate mt2"
   ]
  },
  {
   "cell_type": "code",
   "execution_count": 91,
   "id": "57f34233",
   "metadata": {},
   "outputs": [],
   "source": [
    "valSM = mt2(\n",
    "        massL1SM, pxL1SM, pyL1SM,  # Visible 1: mass, px, py\n",
    "    massL2SM, pxL2SM, pyL2SM,  # Visible 2: mass, px, py\n",
    "    pmiss_xSM, pmiss_ySM,  # Missing transverse momentum: x, y\n",
    "    mmiss1SM, mmiss2SM)  # Invisible 1 mass, invisible 2 mass"
   ]
  },
  {
   "cell_type": "markdown",
   "id": "e929a237",
   "metadata": {},
   "source": [
    "# Load data from ATLAS dataset:"
   ]
  },
  {
   "cell_type": "code",
   "execution_count": 92,
   "id": "3fc1021a",
   "metadata": {},
   "outputs": [
    {
     "name": "stdout",
     "output_type": "stream",
     "text": [
      "[100.0, 110.0, 120.0, 140.0, 160.0, 180.0, 220.0]\n"
     ]
    }
   ],
   "source": [
    "data = csv_reader('HEPData-ins1844425-v1-Figure_11a.csv')\n",
    "\n",
    "binC_ttbar = []\n",
    "binL_ttbar = []\n",
    "binH_ttbar = []\n",
    "data_ttbar = []\n",
    "unc_ttbar = []\n",
    "\n",
    "for item in data[30:37]:\n",
    "    binL_ttbar.append(float(item[1]))\n",
    "    binH_ttbar.append(float(item[2]))\n",
    "    binC_ttbar.append(float(item[0]))\n",
    "    data_ttbar.append(float(item[3]))\n",
    "    unc_ttbar.append(float(item[5]))\n",
    "    \n",
    "width = np.array(binH_ttbar)-np.array(binL_ttbar)\n",
    "print(binL_ttbar)"
   ]
  },
  {
   "cell_type": "markdown",
   "id": "cd764310",
   "metadata": {},
   "source": [
    "# Plot histograms"
   ]
  },
  {
   "cell_type": "code",
   "execution_count": 97,
   "id": "0ddd7c15",
   "metadata": {},
   "outputs": [
    {
     "data": {
      "text/plain": [
       "<matplotlib.legend.Legend at 0x7fafc428dc10>"
      ]
     },
     "execution_count": 97,
     "metadata": {},
     "output_type": "execute_result"
    },
    {
     "data": {
      "image/png": "[encoded data removed]",
      "text/plain": [
       "<Figure size 640x480 with 1 Axes>"
      ]
     },
     "metadata": {},
     "output_type": "display_data"
    }
   ],
   "source": [
    "#axis1 = hist.axis.Regular(bins=80, start=100, stop=150, name=\"smtr_SM\");\n",
    "axis1 = hist.axis.Variable([100,110, 120, 140, 160, 180, 220, 280],name = \"smtr_SM\")\n",
    "hist1 = hist.Hist(axis1, );\n",
    "hist1.fill(smtr_SM=valSM, weight=ww_sm); #update this with off-shell events which actually have a distribution here\n",
    "\n",
    "\n",
    "artists = hist1.plot1d(label='SM ttbar events');\n",
    "ax = artists[0].stairs.axes;\n",
    "\n",
    "ax.bar(binC_ttbar, data_ttbar, align='center', width=width, facecolor='red', edgecolor='red', alpha=0.3, label='ATLAS numbers')\n",
    "\n",
    "ax.set_yscale(\"linear\");\n",
    "ax.set_xlabel(r\"\");\n",
    "ax.set_ylabel(\"Events per bin\");\n",
    "ax.set_title('ttbar events, mt2 distribution');\n",
    "ax.set_xlabel('mt2 [GeV]');\n",
    "ax.set_yscale('log')\n",
    "ax.legend()"
   ]
  },
  {
   "cell_type": "markdown",
   "id": "b06e8f72",
   "metadata": {},
   "source": [
    "# Compute ratio:"
   ]
  },
  {
   "cell_type": "code",
   "execution_count": 94,
   "id": "90cc473d",
   "metadata": {},
   "outputs": [
    {
     "name": "stderr",
     "output_type": "stream",
     "text": [
      "/var/folders/xc/fyhlb6b5561216g9lrn3f_jr0000gp/T/ipykernel_96638/2743742107.py:7: RuntimeWarning: invalid value encountered in true_divide\n",
      "  ratio = np.divide(hist1_data, data_ttbar);\n"
     ]
    }
   ],
   "source": [
    "hist1_data = []\n",
    "\n",
    "for item in hist1:\n",
    "    hist1_data.append(item)\n",
    "\n",
    "hist1_data = np.array(hist1_data);\n",
    "ratio = np.divide(hist1_data, data_ttbar);"
   ]
  },
  {
   "cell_type": "code",
   "execution_count": 96,
   "id": "0fda4e65",
   "metadata": {},
   "outputs": [
    {
     "data": {
      "text/plain": [
       "(100.0, 300.0)"
      ]
     },
     "execution_count": 96,
     "metadata": {},
     "output_type": "execute_result"
    },
    {
     "data": {
      "image/png": "[encoded data removed]",
      "text/plain": [
       "<Figure size 640x480 with 1 Axes>"
      ]
     },
     "metadata": {},
     "output_type": "display_data"
    }
   ],
   "source": [
    "import matplotlib.pyplot as plt\n",
    "fig,ax = plt.subplots()\n",
    "\n",
    "ax.plot(binC_ttbar, ratio,'ko',label='ratio')\n",
    "ax.hlines(y=1.0, xmin=80, xmax=300, color='grey')\n",
    "ax.set_yscale(\"linear\");\n",
    "ax.set_xlabel(r\"\");\n",
    "ax.set_ylabel(\"Ratio\");\n",
    "ax.set_title('Ratio of simulation to ATLAS numbers');\n",
    "ax.set_xlabel('mt2 [GeV]');\n",
    "ax.set_xlim([100,300])"
   ]
  },
  {
   "cell_type": "code",
   "execution_count": null,
   "id": "93c49dcc",
   "metadata": {},
   "outputs": [],
   "source": []
  }
 ],
 "metadata": {
  "kernelspec": {
   "display_name": "Python [conda env:topalps] *",
   "language": "python",
   "name": "conda-env-topalps-py"
  },
  "language_info": {
   "codemirror_mode": {
    "name": "ipython",
    "version": 3
   },
   "file_extension": ".py",
   "mimetype": "text/x-python",
   "name": "python",
   "nbconvert_exporter": "python",
   "pygments_lexer": "ipython3",
   "version": "3.9.13"
  }
 },
 "nbformat": 4,
 "nbformat_minor": 5
}
