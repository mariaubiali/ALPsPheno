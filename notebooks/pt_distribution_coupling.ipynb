{
 "cells": [
  {
   "cell_type": "code",
   "execution_count": 20,
   "id": "7fd13955",
   "metadata": {},
   "outputs": [],
   "source": [
    "import awkward as ak\n",
    "import matplotlib.pyplot as plt\n",
    "import hist\n",
    "import numpy as np\n",
    "import vector\n",
    "import os\n",
    "\n",
    "import pylhe"
   ]
  },
  {
   "cell_type": "code",
   "execution_count": 21,
   "id": "b96fa6d6",
   "metadata": {},
   "outputs": [],
   "source": [
    "import seaborn as sns\n",
    "colors = sns.color_palette(\"colorblind\", 8)"
   ]
  },
  {
   "cell_type": "code",
   "execution_count": 22,
   "id": "59599e91",
   "metadata": {},
   "outputs": [
    {
     "data": {
      "text/html": [
       "<svg  width=\"440\" height=\"55\"><rect x=\"0\" y=\"0\" width=\"55\" height=\"55\" style=\"fill:#0173b2;stroke-width:2;stroke:rgb(255,255,255)\"/><rect x=\"55\" y=\"0\" width=\"55\" height=\"55\" style=\"fill:#de8f05;stroke-width:2;stroke:rgb(255,255,255)\"/><rect x=\"110\" y=\"0\" width=\"55\" height=\"55\" style=\"fill:#029e73;stroke-width:2;stroke:rgb(255,255,255)\"/><rect x=\"165\" y=\"0\" width=\"55\" height=\"55\" style=\"fill:#d55e00;stroke-width:2;stroke:rgb(255,255,255)\"/><rect x=\"220\" y=\"0\" width=\"55\" height=\"55\" style=\"fill:#cc78bc;stroke-width:2;stroke:rgb(255,255,255)\"/><rect x=\"275\" y=\"0\" width=\"55\" height=\"55\" style=\"fill:#ca9161;stroke-width:2;stroke:rgb(255,255,255)\"/><rect x=\"330\" y=\"0\" width=\"55\" height=\"55\" style=\"fill:#fbafe4;stroke-width:2;stroke:rgb(255,255,255)\"/><rect x=\"385\" y=\"0\" width=\"55\" height=\"55\" style=\"fill:#949494;stroke-width:2;stroke:rgb(255,255,255)\"/></svg>"
      ],
      "text/plain": [
       "[(0.00392156862745098, 0.45098039215686275, 0.6980392156862745),\n",
       " (0.8705882352941177, 0.5607843137254902, 0.0196078431372549),\n",
       " (0.00784313725490196, 0.6196078431372549, 0.45098039215686275),\n",
       " (0.8352941176470589, 0.3686274509803922, 0.0),\n",
       " (0.8, 0.47058823529411764, 0.7372549019607844),\n",
       " (0.792156862745098, 0.5686274509803921, 0.3803921568627451),\n",
       " (0.984313725490196, 0.6862745098039216, 0.8941176470588236),\n",
       " (0.5803921568627451, 0.5803921568627451, 0.5803921568627451)]"
      ]
     },
     "execution_count": 22,
     "metadata": {},
     "output_type": "execute_result"
    }
   ],
   "source": [
    "colors"
   ]
  },
  {
   "cell_type": "markdown",
   "id": "7b3e37fc",
   "metadata": {},
   "source": [
    "## General parameters"
   ]
  },
  {
   "cell_type": "code",
   "execution_count": 23,
   "id": "1c574add",
   "metadata": {},
   "outputs": [],
   "source": [
    "lumi = 13.3e3 #luminosity in inverse picobars"
   ]
  },
  {
   "cell_type": "code",
   "execution_count": 24,
   "id": "fcbaeca9",
   "metadata": {},
   "outputs": [],
   "source": [
    "num_bins = 50\n",
    "max_bins = 800"
   ]
  },
  {
   "cell_type": "markdown",
   "id": "6df16492",
   "metadata": {},
   "source": [
    "## Functions to read from event files and produce histograms"
   ]
  },
  {
   "cell_type": "code",
   "execution_count": 25,
   "id": "43b6bc7c",
   "metadata": {},
   "outputs": [],
   "source": [
    "def read_sigma_nevents(dirname):\n",
    "    filename = dirname + dirname.split('/')[-2]+'_tag_1_banner.txt'\n",
    "    with open(filename,'r') as f:\n",
    "        data = f.readlines()\n",
    "    f.close()\n",
    "    sigma = float(data[-4].split(' ')[-1])\n",
    "    nevents = float(data[-5].split(' ')[-1])\n",
    "    return sigma, nevents"
   ]
  },
  {
   "cell_type": "code",
   "execution_count": 38,
   "id": "d9253336",
   "metadata": {},
   "outputs": [],
   "source": [
    "def produce_histogram(dirname, scale):\n",
    "    \n",
    "    pylhe.register_awkward()\n",
    "    \n",
    "    filename = dirname + 'unweighted_events.lhe'\n",
    "    arr = pylhe.to_awkward(pylhe.read_lhe_with_attributes(filename))\n",
    "    \n",
    "    sigma, nevents = read_sigma_nevents(dirname)\n",
    "    ww = sigma*lumi/nevents\n",
    "    \n",
    "    leading_pt = np.zeros(int(nevents))\n",
    "    for i in range(0,int(nevents),1):\n",
    "        leading_pt[i] = max(arr.particles.vector[i,2].pt, arr.particles.vector[i,3].pt)\n",
    "                           \n",
    "    axis0 = hist.axis.Regular(bins=num_bins, start=0, stop=max_bins, name=\"p_T\")\n",
    "    storage = hist.storage.Weight()\n",
    "    hist0 = hist.Hist(axis0, storage=storage)\n",
    "    hist0.fill(leading_pt, weight=ww*scale)\n",
    "    \n",
    "    return hist0"
   ]
  },
  {
   "cell_type": "markdown",
   "id": "ea045f1d",
   "metadata": {},
   "source": [
    "## Set directories"
   ]
  },
  {
   "cell_type": "code",
   "execution_count": 39,
   "id": "ce99838c",
   "metadata": {},
   "outputs": [],
   "source": [
    "# SM pp->ttbar\n",
    "dir_ttbar = os.path.expanduser('~/Documents/MadGraph/pptt/Events/run_01/')\n",
    "# pp -> ttbar+ax, c_aPhi = 1\n",
    "dir_ttbarax1 = os.path.expanduser('~/Documents/MadGraph/ppttax/Events/run_01/')\n",
    "# pp -> ttbar+ax, c_aPhi = 10\n",
    "dir_ttbarax10 = os.path.expanduser('~/Documents/MadGraph/ppttax/Events/run_02/')\n",
    "# pp -> ttbar+ax, c_aPhi = 1000\n",
    "dir_ttbarax1000 = os.path.expanduser('~/Documents/MadGraph/ppttax/Events/run_03/')\n",
    "# pp -> ttbar+ax, c_aPhi = 0.1\n",
    "dir_ttbarax01 = os.path.expanduser('~/Documents/MadGraph/ppttax/Events/run_05/')\n",
    "# pp -> ttbar+ax, c_aPhi = 100\n",
    "dir_ttbarax100 = os.path.expanduser('~/Documents/MadGraph/ppttax/Events/run_06/')"
   ]
  },
  {
   "cell_type": "markdown",
   "id": "54142db5",
   "metadata": {},
   "source": [
    "## Generate histogram"
   ]
  },
  {
   "cell_type": "code",
   "execution_count": 40,
   "id": "fd40d1f3",
   "metadata": {},
   "outputs": [],
   "source": [
    "hist0 = produce_histogram(dir_ttbar, 1) # SM\n",
    "hist1 = produce_histogram(dir_ttbarax01, 1e5) # c = 0.1\n",
    "hist2 = produce_histogram(dir_ttbarax1, 1e4) # c = 1\n",
    "hist3 = produce_histogram(dir_ttbarax10, 1e2) # c = 10\n",
    "hist4 = produce_histogram(dir_ttbarax100, 1e0) # c = 100\n",
    "hist5 = produce_histogram(dir_ttbarax1000, 1e-4) # c = 1000"
   ]
  },
  {
   "cell_type": "code",
   "execution_count": 41,
   "id": "a2a5734b",
   "metadata": {},
   "outputs": [
    {
     "data": {
      "text/plain": [
       "<matplotlib.legend.Legend at 0x7f8f526976d0>"
      ]
     },
     "execution_count": 41,
     "metadata": {},
     "output_type": "execute_result"
    },
    {
     "data": {
      "image/png": "[encoded data removed]",
      "text/plain": [
       "<Figure size 432x288 with 1 Axes>"
      ]
     },
     "metadata": {
      "needs_background": "light"
     },
     "output_type": "display_data"
    }
   ],
   "source": [
    "artists0 = hist0.plot1d(label='SM pp -> ttbar', color = colors[0]);\n",
    "artists1 = hist1.plot1d(label='pp->ttbar+ax $C_{a \\Phi} = 0.1$ (scale e5)', color = colors[1]);\n",
    "artists2 = hist2.plot1d(label='pp->ttbar+ax $C_{a \\Phi} = 1$ (scale e4)', color = colors[2]);\n",
    "artists3 = hist3.plot1d(label='pp->ttbar+ax $C_{a \\Phi} = 10$ (scale e2)', color = colors[3]);\n",
    "artists4 = hist4.plot1d(label='pp->ttbar+ax $C_{a \\Phi} = 100$ (scale e0)', color = colors[4]);\n",
    "artists5 = hist5.plot1d(label='pp->ttbar+ax $C_{a \\Phi} = 1000$ (scale e-4)', color = colors[5]);\n",
    "ax = artists0[0].stairs.axes;\n",
    "ax.set_yscale(\"linear\");\n",
    "ax.set_xlabel(\"leading $p_T$ [GeV]\");\n",
    "ax.set_ylabel(\"count\");\n",
    "ax.legend()"
   ]
  },
  {
   "cell_type": "code",
   "execution_count": null,
   "id": "e73eed2a",
   "metadata": {},
   "outputs": [],
   "source": []
  }
 ],
 "metadata": {
  "kernelspec": {
   "display_name": "Python 3 (ipykernel)",
   "language": "python",
   "name": "python3"
  },
  "language_info": {
   "codemirror_mode": {
    "name": "ipython",
    "version": 3
   },
   "file_extension": ".py",
   "mimetype": "text/x-python",
   "name": "python",
   "nbconvert_exporter": "python",
   "pygments_lexer": "ipython3",
   "version": "3.8.13"
  }
 },
 "nbformat": 4,
 "nbformat_minor": 5
}
