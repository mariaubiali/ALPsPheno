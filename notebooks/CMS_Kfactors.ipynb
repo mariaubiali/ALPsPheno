{
 "cells": [
  {
   "cell_type": "markdown",
   "id": "ad5de9c3",
   "metadata": {},
   "source": [
    "# Direct analysis comparing axion signal with CMS data"
   ]
  },
  {
   "cell_type": "code",
   "execution_count": 1,
   "id": "87eafae3",
   "metadata": {},
   "outputs": [],
   "source": [
    "import hist\n",
    "import numpy as np\n",
    "import scipy as sp\n",
    "import pylhe\n",
    "from mt2 import mt2\n",
    "import os\n",
    "import matplotlib.pyplot as plt\n",
    "import matplotlib as mpl\n",
    "import uncertainties.unumpy as unp\n",
    "from uncertainties import ufloat\n",
    "from scipy.optimize import fsolve\n",
    "import csv \n",
    "from scipy.stats import poisson"
   ]
  },
  {
   "cell_type": "code",
   "execution_count": 2,
   "id": "6ca51e75",
   "metadata": {},
   "outputs": [],
   "source": [
    "import seaborn as sns\n",
    "colors = sns.color_palette(\"colorblind\", 8)"
   ]
  },
  {
   "cell_type": "code",
   "execution_count": 3,
   "id": "74864b19",
   "metadata": {},
   "outputs": [],
   "source": [
    "font = {'size'   : 14}\n",
    "mpl.rc('font', **font)"
   ]
  },
  {
   "cell_type": "code",
   "execution_count": 4,
   "id": "0b43d32b",
   "metadata": {},
   "outputs": [],
   "source": [
    "lumi = 137*1e3 #fb"
   ]
  },
  {
   "cell_type": "markdown",
   "id": "d66c9db5",
   "metadata": {},
   "source": [
    "## General functions"
   ]
  },
  {
   "cell_type": "code",
   "execution_count": 5,
   "id": "d301f803",
   "metadata": {},
   "outputs": [],
   "source": [
    "def read_sigma_nevents(dirname):\n",
    "    filename = dirname + dirname.split('/')[-2]+'_tag_1_banner.txt'\n",
    "    with open(filename,'r') as f:\n",
    "        data = f.readlines()\n",
    "    f.close()\n",
    "    sigma = float(data[-4].split(' ')[-1])\n",
    "    nevents = float(data[-5].split(' ')[-1])\n",
    "    return sigma, nevents"
   ]
  },
  {
   "cell_type": "code",
   "execution_count": 6,
   "id": "b80d4721",
   "metadata": {},
   "outputs": [],
   "source": [
    "def csv_reader(filename):\n",
    "    output = []\n",
    "    with open(filename, \"r\") as csvfile:\n",
    "        reader = csv.reader(csvfile, delimiter=',')\n",
    "        for row in reader:\n",
    "            output.append(row)\n",
    "        csvfile.close()\n",
    "\n",
    "    return output"
   ]
  },
  {
   "cell_type": "code",
   "execution_count": 7,
   "id": "6ebc1282",
   "metadata": {},
   "outputs": [],
   "source": [
    "def read_HEPdata():\n",
    "    data = csv_reader('./data/HEPData-ins1893826-v1-Figure_3d.csv')\n",
    "    cms_data  = []\n",
    "    cms_data_err_up = []\n",
    "    cms_data_err_down = []\n",
    "    \n",
    "    for item in data[140:165]:\n",
    "        cms_data.append(float(item[1]))\n",
    "        cms_data_err_up.append(float(item[2]))\n",
    "        cms_data_err_down.append(abs(float(item[3])))\n",
    "    \n",
    "    cms_data_err = (cms_data_err_up, cms_data_err_down)\n",
    "    return cms_data, cms_data_err"
   ]
  },
  {
   "cell_type": "code",
   "execution_count": 8,
   "id": "7eb26a14",
   "metadata": {},
   "outputs": [],
   "source": [
    "def read_HEP_SM():\n",
    "    data = csv_reader('./data/HEPData-ins1893826-v1-Figure_3d.csv')\n",
    "    cms_sm  = []\n",
    "    cms_sm_err = []\n",
    "    \n",
    "    for item in data[32:57]:\n",
    "        cms_sm.append(float(item[1]))\n",
    "        cms_sm_err.append(float(item[2]))\n",
    "    \n",
    "    return cms_sm, cms_sm_err"
   ]
  },
  {
   "cell_type": "code",
   "execution_count": 9,
   "id": "242b501f",
   "metadata": {},
   "outputs": [],
   "source": [
    "def read_HEP_SM_ttbar():\n",
    "    data = csv_reader('./data/HEPData-ins1893826-v1-Figure_3d.csv')\n",
    "    cms_sm_ttbar  = []\n",
    "    \n",
    "    for item in data[59:84]:\n",
    "        cms_sm_ttbar.append(float(item[1]))\n",
    "    \n",
    "    return cms_sm_ttbar"
   ]
  },
  {
   "cell_type": "code",
   "execution_count": 10,
   "id": "f1febd14",
   "metadata": {},
   "outputs": [],
   "source": [
    "def read_HEP_bins():\n",
    "    data = data = csv_reader('./data/HEPData-ins1893826-v1-Figure_3d.csv')\n",
    "    cms_bins = []\n",
    "    \n",
    "    for item in data[32:57]:\n",
    "        cms_bins.append(float(item[0]))\n",
    "    \n",
    "    return cms_bins"
   ]
  },
  {
   "cell_type": "code",
   "execution_count": 11,
   "id": "5f44b537",
   "metadata": {},
   "outputs": [],
   "source": [
    "def calculate_binheight(hist):\n",
    "    numbins = len(cms_bins)-1\n",
    "    binheight = np.zeros(numbins)\n",
    "    for i in range(numbins):\n",
    "        binheight[i] = hist[i]\n",
    "    \n",
    "    return binheight"
   ]
  },
  {
   "cell_type": "code",
   "execution_count": 12,
   "id": "8c5005dc",
   "metadata": {},
   "outputs": [],
   "source": [
    "def ptmiss_ttbar(arr):\n",
    "    \n",
    "    vecL1 = arr.particles.vector[:,-5]   \n",
    "    vecL2 = arr.particles.vector[:,-2] \n",
    "\n",
    "    vecB1 = arr.particles.vector[:,-6]   \n",
    "    vecB2 = arr.particles.vector[:,-3] \n",
    "        \n",
    "    vecNu1 = arr.particles.vector[:,-4]   \n",
    "    vecNu2 = arr.particles.vector[:,-1]\n",
    "\n",
    "    vecMiss = vecNu1 + vecNu2\n",
    "    ptmiss = np.sqrt((vecMiss.px)**2 + (vecMiss.py)**2)\n",
    "    \n",
    "    # alternative calculation, leads to the same result\n",
    "    #vecMiss = -(vecL1 + vecL2 + vecB1 + vecB2)\n",
    "\n",
    "    return ptmiss"
   ]
  },
  {
   "cell_type": "code",
   "execution_count": 13,
   "id": "08e71845",
   "metadata": {},
   "outputs": [],
   "source": [
    "def ptmiss_ttbarax(arr):\n",
    "    \n",
    "    vecL1 = arr.particles.vector[:,-6]   \n",
    "    vecL2 = arr.particles.vector[:,-3] \n",
    "\n",
    "    vecB1 = arr.particles.vector[:,-7]   \n",
    "    vecB2 = arr.particles.vector[:,-4] \n",
    "        \n",
    "    vecNu1 = arr.particles.vector[:,-5]   \n",
    "    vecNu2 = arr.particles.vector[:,-2]\n",
    "    \n",
    "    vecAx = arr.particles.vector[:,-1]\n",
    "\n",
    "    vecMiss = vecNu1 + vecNu2 + vecAx\n",
    "    ptmiss = np.sqrt((vecMiss.px)**2 + (vecMiss.py)**2)\n",
    "    \n",
    "    # alternative calculation, leads to the same result\n",
    "    #vecMiss = -(vecL1 + vecL2 + vecB1 + vecB2)\n",
    "\n",
    "    return ptmiss"
   ]
  },
  {
   "cell_type": "code",
   "execution_count": 14,
   "id": "de583f9e",
   "metadata": {},
   "outputs": [],
   "source": [
    "def calculate_ptmiss(dirname):\n",
    "    \n",
    "    sigma, nevents = read_sigma_nevents(dirname)\n",
    "    ww = sigma*lumi/nevents\n",
    "    \n",
    "    pylhe.register_awkward()\n",
    "    filename = dirname + 'unweighted_events.lhe.gz'\n",
    "    arr = pylhe.to_awkward(pylhe.read_lhe_with_attributes(filename))\n",
    "    val = ptmiss_ttbar(arr)\n",
    "    \n",
    "    return (val, ww)"
   ]
  },
  {
   "cell_type": "code",
   "execution_count": 15,
   "id": "599138a0",
   "metadata": {},
   "outputs": [],
   "source": [
    "def calculate_ptmiss_ax(dirname):\n",
    "    \n",
    "    sigma, nevents = read_sigma_nevents(dirname)\n",
    "    ww = sigma*lumi/nevents\n",
    "    \n",
    "    pylhe.register_awkward()\n",
    "    filename = dirname + 'unweighted_events.lhe.gz'\n",
    "    arr = pylhe.to_awkward(pylhe.read_lhe_with_attributes(filename))\n",
    "    val = ptmiss_ttbarax(arr)\n",
    "    \n",
    "    return (val, ww)"
   ]
  },
  {
   "cell_type": "code",
   "execution_count": 16,
   "id": "6b61e9aa",
   "metadata": {},
   "outputs": [],
   "source": [
    "def mt2_ttbar(arr):\n",
    "    \n",
    "    vecL1 = arr.particles.vector[:,-5]   \n",
    "    vecL2 = arr.particles.vector[:,-2] \n",
    "        \n",
    "    vecB1 = arr.particles.vector[:,-6]   \n",
    "    vecB2 = arr.particles.vector[:,-3]\n",
    "        \n",
    "    massL1 = 0.1 # assume masses for the leptons\n",
    "    massL2 = 0.1\n",
    "\n",
    "    pxL1 = vecL1.px\n",
    "    pyL1 = vecL1.py\n",
    "\n",
    "    pxL2 = vecL2.px\n",
    "    pyL2 = vecL2.py\n",
    "    \n",
    "    vecMiss = -(vecL1 + vecL2 + vecB1 + vecB2)\n",
    "\n",
    "    pmiss_x = vecMiss.px\n",
    "    pmiss_y = vecMiss.py\n",
    "\n",
    "    mmiss1 = 0 # masses of thloc='upper right', bbox_to_anchor=(0.5, 0.5)e neutrinos or other invisible components, set to zero\n",
    "    mmiss2 = 0\n",
    "    \n",
    "    val = mt2(\n",
    "    massL1, pxL1, pyL1,  # Visible 1: mass, px, py\n",
    "    massL2, pxL2, pyL2,  # Visible 2: mass, px, py\n",
    "    pmiss_x, pmiss_y,  # Missing transverse momentum: x, y\n",
    "    mmiss1, mmiss2)  # Invisible 1 mass, invisible 2 mass\n",
    "\n",
    "    return val"
   ]
  },
  {
   "cell_type": "code",
   "execution_count": 17,
   "id": "24bcd1f7",
   "metadata": {},
   "outputs": [],
   "source": [
    "def calculate_mt2(dirname):\n",
    "    \n",
    "    pylhe.register_awkward()\n",
    "    filename = dirname + 'unweighted_events.lhe.gz'\n",
    "    arr = pylhe.to_awkward(pylhe.read_lhe_with_attributes(filename))\n",
    "    mt2 = mt2_ttbar(arr)\n",
    "    val = (mt2>80)\n",
    "    \n",
    "    return (mt2, val)"
   ]
  },
  {
   "cell_type": "markdown",
   "id": "a3804393",
   "metadata": {},
   "source": [
    "## Experimental data and CMS background simulation"
   ]
  },
  {
   "cell_type": "code",
   "execution_count": 18,
   "id": "1e6a15cb",
   "metadata": {},
   "outputs": [],
   "source": [
    "cms_data, cms_data_error = read_HEPdata()"
   ]
  },
  {
   "cell_type": "code",
   "execution_count": 19,
   "id": "6ba7eab0",
   "metadata": {},
   "outputs": [],
   "source": [
    "cms_sm, cms_sm_error = read_HEP_SM()"
   ]
  },
  {
   "cell_type": "code",
   "execution_count": 20,
   "id": "2e8d3c7e",
   "metadata": {},
   "outputs": [],
   "source": [
    "cms_sm_ttbar = read_HEP_SM_ttbar()"
   ]
  },
  {
   "cell_type": "code",
   "execution_count": 21,
   "id": "5e3c582b",
   "metadata": {},
   "outputs": [],
   "source": [
    "cms_bins = read_HEP_bins()"
   ]
  },
  {
   "cell_type": "code",
   "execution_count": 22,
   "id": "634c67c2",
   "metadata": {},
   "outputs": [
    {
     "name": "stdout",
     "output_type": "stream",
     "text": [
      "[55.0, 65.0, 75.0, 85.0, 95.0, 105.0, 115.0, 125.0, 135.0, 145.0, 155.0, 165.0, 175.0, 185.0, 195.0, 205.0, 215.0, 225.0, 235.0, 245.0, 255.0, 265.0, 275.0, 285.0, 295.0]\n"
     ]
    }
   ],
   "source": [
    "print(cms_bins)"
   ]
  },
  {
   "cell_type": "markdown",
   "id": "ecdbff8c",
   "metadata": {},
   "source": [
    "## SM background simulation and K- factor"
   ]
  },
  {
   "cell_type": "code",
   "execution_count": 23,
   "id": "c0bfdd6e",
   "metadata": {},
   "outputs": [],
   "source": [
    "# new run with same cuts but 100 000 events for better statistics\n",
    "dir_ttbar_sm_7 = os.path.expanduser('~/Documents/MadGraph/ppttleptonic_cms/Events/run_07/')"
   ]
  },
  {
   "cell_type": "code",
   "execution_count": 24,
   "id": "2c18a700",
   "metadata": {},
   "outputs": [],
   "source": [
    "sigma_7, nevents_7 = read_sigma_nevents(dir_ttbar_sm_7)"
   ]
  },
  {
   "cell_type": "code",
   "execution_count": 25,
   "id": "511cea8e",
   "metadata": {},
   "outputs": [
    {
     "name": "stderr",
     "output_type": "stream",
     "text": [
      "/var/folders/d0/vjgg68h93_q2fcyzx7cftx_h0000gn/T/ipykernel_37497/1269421786.py:6: DeprecationWarning: pylhe.awkward.register_awkward is deprecated as of pylhe v0.6.0 and will be removed in pylhe v0.8.0. Please remove use of pylhe.awkward.register_awkward in favor of automatic registration.\n",
      "  pylhe.register_awkward()\n"
     ]
    }
   ],
   "source": [
    "ptmiss_7, ww_7 = calculate_ptmiss(dir_ttbar_sm_7)"
   ]
  },
  {
   "cell_type": "code",
   "execution_count": 26,
   "id": "1cc363f5",
   "metadata": {},
   "outputs": [
    {
     "name": "stderr",
     "output_type": "stream",
     "text": [
      "/var/folders/d0/vjgg68h93_q2fcyzx7cftx_h0000gn/T/ipykernel_37497/3507254308.py:3: DeprecationWarning: pylhe.awkward.register_awkward is deprecated as of pylhe v0.6.0 and will be removed in pylhe v0.8.0. Please remove use of pylhe.awkward.register_awkward in favor of automatic registration.\n",
      "  pylhe.register_awkward()\n"
     ]
    }
   ],
   "source": [
    "mt2_7, val_7 = calculate_mt2(dir_ttbar_sm_7)"
   ]
  },
  {
   "cell_type": "code",
   "execution_count": 27,
   "id": "b85900c7",
   "metadata": {},
   "outputs": [],
   "source": [
    "ptmiss_7_mt2cut = ptmiss_7[val_7]"
   ]
  },
  {
   "cell_type": "code",
   "execution_count": 28,
   "id": "523dd2c6",
   "metadata": {},
   "outputs": [
    {
     "name": "stdout",
     "output_type": "stream",
     "text": [
      "0.5866330000000001 100000.0 0.8036872100000001\n"
     ]
    }
   ],
   "source": [
    "print(sigma_7, nevents_7, ww_7)"
   ]
  },
  {
   "cell_type": "code",
   "execution_count": 29,
   "id": "e0997a11",
   "metadata": {},
   "outputs": [],
   "source": [
    "# histogram with normalisation for the correct binheight\n",
    "axis_sm_7 = hist.axis.Variable(cms_bins, name=\"ptmiss\");\n",
    "hist_sm_7 = hist.Hist(axis_sm_7);\n",
    "hist_sm_7.fill(ptmiss=ptmiss_7_mt2cut, weight=ww_7);"
   ]
  },
  {
   "cell_type": "code",
   "execution_count": 30,
   "id": "96578141",
   "metadata": {},
   "outputs": [],
   "source": [
    "width = 0.05\n",
    "binspacing = (cms_bins[1]-cms_bins[0])/2\n",
    "numbins = len(cms_bins) -1 "
   ]
  },
  {
   "cell_type": "code",
   "execution_count": 31,
   "id": "e5ed76dc",
   "metadata": {},
   "outputs": [],
   "source": [
    "# get the binheight from the distributions normalised with the total cross section\n",
    "# get the Nbin from the distribution with no normalisation\n",
    "\n",
    "bincenters = np.zeros(numbins)\n",
    "binheight_sm = np.zeros(numbins)\n",
    "Nbin_sm = np.zeros(numbins)\n",
    "y_err_sm = np.zeros(numbins)\n",
    "    \n",
    "for i in range(numbins):\n",
    "    bincenters[i] = cms_bins[i]+binspacing\n",
    "    binheight_sm[i] = hist_sm_7[i]"
   ]
  },
  {
   "cell_type": "code",
   "execution_count": 32,
   "id": "990260f0",
   "metadata": {},
   "outputs": [
    {
     "data": {
      "image/png": "[encoded data removed]",
      "text/plain": [
       "<Figure size 640x480 with 1 Axes>"
      ]
     },
     "metadata": {},
     "output_type": "display_data"
    }
   ],
   "source": [
    "artists = hist_sm_7.plot1d(color = colors[0]);\n",
    "#artists1 = hist_sm_8.plot1d(color = colors[1]);\n",
    "\n",
    "ax = artists[0].stairs.axes;\n",
    "#ax.set_yscale(\"log\");\n",
    "ax.set_xlabel(\"$p_T^{miss}$ [GeV]\");\n",
    "ax.set_ylabel(r\"$L \\times \\frac{sigma}{bins}$\");\n",
    "ax.set_title(r'differential cross section for $ p p \\rightarrow t \\bar{t}$ with $p_T^{miss}$, allowing for off-shell W');\n",
    "plt.bar(bincenters, binheight_sm, width=width, color='none', yerr=y_err_sm, log = False)\n",
    "plt.rc('axes', labelsize=20)\n",
    "#plt.savefig(\"./plots/ttbar_sm_cms.png\")"
   ]
  },
  {
   "cell_type": "code",
   "execution_count": 33,
   "id": "36f3316c",
   "metadata": {},
   "outputs": [],
   "source": [
    "binheight_mg_sm = unp.uarray(binheight_sm, y_err_sm)"
   ]
  },
  {
   "cell_type": "code",
   "execution_count": 34,
   "id": "0272e752",
   "metadata": {},
   "outputs": [],
   "source": [
    "binheight_sm_cms = unp.uarray(cms_sm, cms_sm_error)"
   ]
  },
  {
   "cell_type": "code",
   "execution_count": 35,
   "id": "eef3dd2c",
   "metadata": {},
   "outputs": [],
   "source": [
    "binheight_sm_ttbar_cms = cms_sm_ttbar"
   ]
  },
  {
   "cell_type": "code",
   "execution_count": 36,
   "id": "90cdb65a",
   "metadata": {},
   "outputs": [],
   "source": [
    "Kfactor_cms = binheight_sm_cms[:10]/binheight_mg_sm[:10]"
   ]
  },
  {
   "cell_type": "code",
   "execution_count": 37,
   "id": "41ac665e",
   "metadata": {},
   "outputs": [],
   "source": [
    "Kfactor_cms_ttbar = binheight_sm_ttbar_cms[:10]/binheight_mg_sm[:10]"
   ]
  },
  {
   "cell_type": "code",
   "execution_count": 38,
   "id": "2bc26b80",
   "metadata": {},
   "outputs": [
    {
     "name": "stdout",
     "output_type": "stream",
     "text": [
      "[22.486719872805374+/-1.0913104977204084\n",
      " 16.269525747582282+/-0.5273964589008284\n",
      " 15.422948848856523+/-0.3652913081288202\n",
      " 13.723157562246273+/-0.26604724769296106\n",
      " 13.496335167412605+/-0.23587908379781033\n",
      " 14.143792695117568+/-0.2351432374380532\n",
      " 15.935314619487864+/-0.2722069333033538\n",
      " 17.155003648046552+/-0.305933361838117\n",
      " 20.745588534849457+/-0.4099590279177944\n",
      " 20.327663710529052+/-0.45132089800624486]\n"
     ]
    }
   ],
   "source": [
    "print(Kfactor_cms)"
   ]
  },
  {
   "cell_type": "code",
   "execution_count": 39,
   "id": "ba17c1cd",
   "metadata": {},
   "outputs": [
    {
     "name": "stdout",
     "output_type": "stream",
     "text": [
      "[16.388321443300555+/-0 13.42390142824205+/-0 13.526855033392318+/-0\n",
      " 12.383659803126195+/-0 12.331250511699814+/-0 13.064960238343923+/-0\n",
      " 14.773787769378773+/-0 16.012322117358156+/-0 19.380544534822633+/-0\n",
      " 18.9988922016896+/-0]\n"
     ]
    }
   ],
   "source": [
    "print(Kfactor_cms_ttbar)"
   ]
  },
  {
   "cell_type": "code",
   "execution_count": 40,
   "id": "3a262999",
   "metadata": {},
   "outputs": [],
   "source": [
    "# define the nominal value of the first bin as \"the K-factor\"\n",
    "kfactor = unp.nominal_values(Kfactor_cms)[0]"
   ]
  },
  {
   "cell_type": "code",
   "execution_count": 41,
   "id": "77464821",
   "metadata": {},
   "outputs": [
    {
     "data": {
      "text/plain": [
       "22.486719872805374"
      ]
     },
     "execution_count": 41,
     "metadata": {},
     "output_type": "execute_result"
    }
   ],
   "source": [
    "kfactor"
   ]
  },
  {
   "cell_type": "code",
   "execution_count": 42,
   "id": "be7ea3ae",
   "metadata": {},
   "outputs": [
    {
     "data": {
      "text/plain": [
       "Text(0.5, 1.0, 'K-factor for LO SM MG simulation for $pp \\\\rightarrow t\\\\bar{t}$ versus CMS prediction')"
      ]
     },
     "execution_count": 42,
     "metadata": {},
     "output_type": "execute_result"
    },
    {
     "data": {
      "image/png": "[encoded data removed]",
      "text/plain": [
       "<Figure size 640x480 with 1 Axes>"
      ]
     },
     "metadata": {},
     "output_type": "display_data"
    }
   ],
   "source": [
    "plt.figure()\n",
    "plt.plot(bincenters[:10], unp.nominal_values(Kfactor_cms), '.')\n",
    "plt.xlabel(r\"$p_T^{miss}$\")\n",
    "plt.ylabel(\"K-factor\")\n",
    "plt.bar(bincenters[:10], unp.nominal_values(Kfactor_cms), width=width, color='none', yerr=unp.std_devs(Kfactor_cms), log = False)\n",
    "plt.title(r\"K-factor for LO SM MG simulation for $pp \\rightarrow t\\bar{t}$ versus CMS prediction\")\n",
    "#plt.savefig(\"./plots/kfactor_cms.pdf\", bbox_inches=\"tight\")"
   ]
  },
  {
   "cell_type": "code",
   "execution_count": 43,
   "id": "25abab52",
   "metadata": {},
   "outputs": [
    {
     "data": {
      "image/png": "[encoded data removed]",
      "text/plain": [
       "<Figure size 700x700 with 1 Axes>"
      ]
     },
     "metadata": {},
     "output_type": "display_data"
    }
   ],
   "source": [
    "# plots\n",
    "\n",
    "cms_sm_plot = np.array(cms_sm)\n",
    "cms_sm_plot_error = np.array(cms_sm_error)\n",
    "binheight_sm_plot = np.concatenate([binheight_sm, [binheight_sm[-1]]])\n",
    "#print(binheight_sm_plot[0])\n",
    "#binheight_sm_plot*=unp.nominal_values(Kfactor_cms)[0]\n",
    "\n",
    "#Create figure and axes\n",
    "fig = plt.figure(figsize=(7, 7))\n",
    "gs = fig.add_gridspec(2, 1, height_ratios=(4, 1), left=0.14, right=0.86, bottom=0.1, top=0.9, wspace=0.55, hspace=0.25)\n",
    "    \n",
    "ax = fig.add_subplot(gs[0, 0])\n",
    "#ax_ratio = fig.add_subplot(gs[1, 0], sharex=ax)\n",
    "\n",
    "#Plot data\n",
    "ax.step(cms_bins, cms_sm_plot, where='post',label='CMS SM prediction', color=colors[0])\n",
    "ax.fill_between(cms_bins, cms_sm_plot-cms_sm_plot_error, cms_sm_plot+cms_sm_plot_error, color=colors[0],step='post', alpha=0.2)\n",
    "ax.set_title('sm predictions compared for CMS and MG simulation')\n",
    "#ax.set_yscale('log')\n",
    "ax.set_xlim([60,300]);\n",
    "ax.set_xlabel(r'$p_T^{miss}$ [GeV]')\n",
    "ax.set_ylabel(r'$L \\times\\frac{\\sigma}{bin}$')\n",
    "\n",
    "ax.step(cms_bins, binheight_sm_plot, where='post',label=r'MG SM simulation', color=colors[1])\n",
    "#ax.step(cms_bins, binheight_sm_2_plot, where='post',label=r'MG SM simulation, drll = 0.4', color=colors[2])\n",
    "\n",
    "ax.legend(fontsize=12, loc='upper right', bbox_to_anchor=(1, 1));\n",
    "#plt.tight_layout()\n",
    "#plt.savefig('plots/sm_simulations_cms.pdf', bbox_inches=\"tight\")\n",
    "plt.show()"
   ]
  },
  {
   "cell_type": "markdown",
   "id": "034e96e1",
   "metadata": {},
   "source": [
    "### Without fortran $m_{T,1}$ cut"
   ]
  },
  {
   "cell_type": "code",
   "execution_count": 44,
   "id": "aa4307f5",
   "metadata": {},
   "outputs": [],
   "source": [
    "# new run with 100 000 events and no fortran cut on m_{T,1}\n",
    "dir_ttbar_sm_8 = os.path.expanduser('~/Documents/MadGraph/ppttleptonic_cms/Events/run_08/')"
   ]
  },
  {
   "cell_type": "code",
   "execution_count": 45,
   "id": "4ea18909",
   "metadata": {},
   "outputs": [],
   "source": [
    "sigma_8, nevents_8 = read_sigma_nevents(dir_ttbar_sm_8)"
   ]
  },
  {
   "cell_type": "code",
   "execution_count": 46,
   "id": "0e463c01",
   "metadata": {},
   "outputs": [],
   "source": [
    "ptmiss_8, ww_8 = calculate_ptmiss(dir_ttbar_sm_8)"
   ]
  },
  {
   "cell_type": "code",
   "execution_count": 47,
   "id": "0aaba35e",
   "metadata": {},
   "outputs": [],
   "source": [
    "mt2_8, val_8 = calculate_mt2(dir_ttbar_sm_8)"
   ]
  },
  {
   "cell_type": "code",
   "execution_count": 48,
   "id": "1edd82cc",
   "metadata": {},
   "outputs": [],
   "source": [
    "ptmiss_8_mt2cut = ptmiss_8[val_8]"
   ]
  },
  {
   "cell_type": "code",
   "execution_count": 49,
   "id": "f9c1d275",
   "metadata": {},
   "outputs": [
    {
     "name": "stdout",
     "output_type": "stream",
     "text": [
      "8.08128 100000.0 11.071353599999998\n"
     ]
    }
   ],
   "source": [
    "print(sigma_8, nevents_8, ww_8)"
   ]
  },
  {
   "cell_type": "code",
   "execution_count": 50,
   "id": "744ec237",
   "metadata": {},
   "outputs": [],
   "source": [
    "# histogram with normalisation for the correct binheight\n",
    "axis_sm_8 = hist.axis.Variable(cms_bins, name=\"ptmiss\");\n",
    "hist_sm_8 = hist.Hist(axis_sm_8);\n",
    "hist_sm_8.fill(ptmiss=ptmiss_8_mt2cut, weight=ww_8);"
   ]
  },
  {
   "cell_type": "code",
   "execution_count": 51,
   "id": "d9bf1894",
   "metadata": {},
   "outputs": [
    {
     "data": {
      "image/png": "[encoded data removed]",
      "text/plain": [
       "<Figure size 432x288 with 1 Axes>"
      ]
     },
     "metadata": {
      "needs_background": "light"
     },
     "output_type": "display_data"
    }
   ],
   "source": [
    "artists = hist_sm_7.plot1d(color = colors[0], label = \"with fortran m_{T,1} cut\");\n",
    "artists1 = hist_sm_8.plot1d(color = colors[1], label = \"without fortran m_{T,1} cut\");\n",
    "\n",
    "ax = artists[0].stairs.axes;\n",
    "#ax.set_yscale(\"log\");\n",
    "ax.set_xlabel(\"$p_T^{miss}$ [GeV]\");\n",
    "ax.set_ylabel(r\"$L \\times \\frac{\\sigma}{bin}$\");\n",
    "ax.set_title(r'differential cross section for $ p p \\rightarrow t \\bar{t}$ with $p_T^{miss}$, allowing for off-shell W');\n",
    "plt.bar(bincenters, binheight_sm, width=width, color='none', yerr=y_err_sm, log = False)\n",
    "plt.legend()\n",
    "plt.rc('axes', labelsize=20)"
   ]
  },
  {
   "cell_type": "code",
   "execution_count": 52,
   "id": "14f451e0",
   "metadata": {},
   "outputs": [],
   "source": [
    "bincenters = np.zeros(numbins)\n",
    "binheight_sm = np.zeros(numbins)\n",
    "Nbin_sm = np.zeros(numbins)\n",
    "y_err_sm = np.zeros(numbins)\n",
    "    \n",
    "for i in range(numbins):\n",
    "    bincenters[i] = cms_bins[i]+binspacing\n",
    "    binheight_sm[i] = hist_sm_8[i]"
   ]
  },
  {
   "cell_type": "code",
   "execution_count": 53,
   "id": "aa812424",
   "metadata": {},
   "outputs": [],
   "source": [
    "binheight_mg_sm = unp.uarray(binheight_sm, y_err_sm)"
   ]
  },
  {
   "cell_type": "code",
   "execution_count": 54,
   "id": "70af9195",
   "metadata": {},
   "outputs": [],
   "source": [
    "binheight_sm_cms = unp.uarray(cms_sm, cms_sm_error)"
   ]
  },
  {
   "cell_type": "code",
   "execution_count": 55,
   "id": "f97ff86b",
   "metadata": {},
   "outputs": [],
   "source": [
    "Kfactor_cms = binheight_sm_cms[:10]/binheight_mg_sm[:10]"
   ]
  },
  {
   "cell_type": "code",
   "execution_count": 56,
   "id": "47a16d3f",
   "metadata": {},
   "outputs": [],
   "source": [
    "# define the nominal value of the first bin as \"the K-factor\"\n",
    "kfactor = unp.nominal_values(Kfactor_cms)[0]"
   ]
  },
  {
   "cell_type": "code",
   "execution_count": 57,
   "id": "2c778476",
   "metadata": {},
   "outputs": [
    {
     "data": {
      "text/plain": [
       "9.677484887020242"
      ]
     },
     "execution_count": 57,
     "metadata": {},
     "output_type": "execute_result"
    }
   ],
   "source": [
    "kfactor"
   ]
  },
  {
   "cell_type": "code",
   "execution_count": 58,
   "id": "220ed604",
   "metadata": {},
   "outputs": [
    {
     "data": {
      "text/plain": [
       "Text(0.5, 1.0, 'K-factor for LO SM MG simulation for $pp \\\\rightarrow t\\\\bar{t}$ versus CMS prediction')"
      ]
     },
     "execution_count": 58,
     "metadata": {},
     "output_type": "execute_result"
    },
    {
     "data": {
      "image/png": "[encoded data removed]",
      "text/plain": [
       "<Figure size 432x288 with 1 Axes>"
      ]
     },
     "metadata": {
      "needs_background": "light"
     },
     "output_type": "display_data"
    }
   ],
   "source": [
    "plt.figure()\n",
    "plt.plot(bincenters[:10], unp.nominal_values(Kfactor_cms), '.')\n",
    "plt.xlabel(r\"$p_T^{miss}$\")\n",
    "plt.ylabel(\"K-factor\")\n",
    "plt.bar(bincenters[:10], unp.nominal_values(Kfactor_cms), width=width, color='none', yerr=unp.std_devs(Kfactor_cms), log = False)\n",
    "plt.title(r\"K-factor for LO SM MG simulation for $pp \\rightarrow t\\bar{t}$ versus CMS prediction\")\n",
    "#plt.savefig(\"./plots/kfactor_cms.pdf\", bbox_inches=\"tight\")"
   ]
  },
  {
   "cell_type": "markdown",
   "id": "7ac493b4",
   "metadata": {},
   "source": [
    "### Weaker $m_{T,2}$ cuts"
   ]
  },
  {
   "cell_type": "code",
   "execution_count": 66,
   "id": "0cf17734",
   "metadata": {},
   "outputs": [],
   "source": [
    "val_70 = (mt2_8>70)"
   ]
  },
  {
   "cell_type": "code",
   "execution_count": 78,
   "id": "6b1aa5dd",
   "metadata": {},
   "outputs": [],
   "source": [
    "val_73 = (mt2_8>73)"
   ]
  },
  {
   "cell_type": "code",
   "execution_count": 82,
   "id": "226e037d",
   "metadata": {},
   "outputs": [],
   "source": [
    "val_74 = (mt2_8>74)"
   ]
  },
  {
   "cell_type": "code",
   "execution_count": 67,
   "id": "007772a8",
   "metadata": {},
   "outputs": [],
   "source": [
    "ptmiss_8_mt2cut70 = ptmiss_8[val_70]"
   ]
  },
  {
   "cell_type": "code",
   "execution_count": 79,
   "id": "b2e0f8f0",
   "metadata": {},
   "outputs": [],
   "source": [
    "ptmiss_8_mt2cut73 = ptmiss_8[val_73]"
   ]
  },
  {
   "cell_type": "code",
   "execution_count": 83,
   "id": "e55dafd4",
   "metadata": {},
   "outputs": [],
   "source": [
    "ptmiss_8_mt2cut74 = ptmiss_8[val_74]"
   ]
  },
  {
   "cell_type": "code",
   "execution_count": 62,
   "id": "2033bd8f",
   "metadata": {},
   "outputs": [],
   "source": [
    "# histogram with normalisation for the correct binheight\n",
    "axis_sm_8 = hist.axis.Variable(cms_bins, name=\"ptmiss\");\n",
    "hist_sm_8 = hist.Hist(axis_sm_8);\n",
    "hist_sm_8.fill(ptmiss=ptmiss_8_mt2cut, weight=ww_8);"
   ]
  },
  {
   "cell_type": "code",
   "execution_count": 68,
   "id": "3c093b1c",
   "metadata": {},
   "outputs": [],
   "source": [
    "# histogram with normalisation for the correct binheight\n",
    "axis_sm_70 = hist.axis.Variable(cms_bins, name=\"ptmiss\");\n",
    "hist_sm_70 = hist.Hist(axis_sm_70);\n",
    "hist_sm_70.fill(ptmiss=ptmiss_8_mt2cut70, weight=ww_8);"
   ]
  },
  {
   "cell_type": "code",
   "execution_count": 80,
   "id": "abde65f7",
   "metadata": {},
   "outputs": [],
   "source": [
    "# histogram with normalisation for the correct binheight\n",
    "axis_sm_73 = hist.axis.Variable(cms_bins, name=\"ptmiss\");\n",
    "hist_sm_73 = hist.Hist(axis_sm_73);\n",
    "hist_sm_73.fill(ptmiss=ptmiss_8_mt2cut73, weight=ww_8);"
   ]
  },
  {
   "cell_type": "code",
   "execution_count": 84,
   "id": "9a2d433f",
   "metadata": {},
   "outputs": [],
   "source": [
    "# histogram with normalisation for the correct binheight\n",
    "axis_sm_74 = hist.axis.Variable(cms_bins, name=\"ptmiss\");\n",
    "hist_sm_74 = hist.Hist(axis_sm_74);\n",
    "hist_sm_74.fill(ptmiss=ptmiss_8_mt2cut74, weight=ww_8);"
   ]
  },
  {
   "cell_type": "code",
   "execution_count": 97,
   "id": "f39be4b6",
   "metadata": {},
   "outputs": [
    {
     "data": {
      "image/png": "[encoded data removed]",
      "text/plain": [
       "<Figure size 432x288 with 1 Axes>"
      ]
     },
     "metadata": {
      "needs_background": "light"
     },
     "output_type": "display_data"
    }
   ],
   "source": [
    "artists = hist_sm_8.plot1d(color = colors[1], label = \"with $m_{T,2} = 80$ cut\");\n",
    "artists1 = hist_sm_74.plot1d(color = colors[2], label = \"with $m_{T,2} = 74$ cut\");\n",
    "artists2 = hist_sm_73.plot1d(color = colors[3], label = \"with $m_{T,2} = 73$ cut\");\n",
    "artists3 = hist_sm_70.plot1d(color = colors[4], label = \"with $m_{T,2} = 70$ cut\");\n",
    "ax = artists[0].stairs.axes;\n",
    "ax.step(cms_bins, cms_sm_plot, where='post',label='CMS SM prediction', color=colors[0])\n",
    "\n",
    "#ax.set_yscale(\"log\");\n",
    "ax.set_xlabel(\"$p_T^{miss}$ [GeV]\");\n",
    "ax.set_ylabel(r\"$L \\times \\frac{\\sigma}{bin}$\");\n",
    "ax.set_title(r'differential cross section for $ p p \\rightarrow t \\bar{t}$ with $p_T^{miss}$, allowing for off-shell W');\n",
    "plt.bar(bincenters, binheight_sm, width=width, color='none', yerr=y_err_sm, log = False)\n",
    "plt.legend()\n",
    "plt.savefig('plots/cms_mt2cuts.pdf', bbox_inches=\"tight\")\n",
    "plt.rc('axes', labelsize=20)"
   ]
  },
  {
   "cell_type": "code",
   "execution_count": null,
   "id": "740f57b0",
   "metadata": {},
   "outputs": [],
   "source": []
  }
 ],
 "metadata": {
  "kernelspec": {
   "display_name": "Python 3 (ipykernel)",
   "language": "python",
   "name": "python3"
  },
  "language_info": {
   "codemirror_mode": {
    "name": "ipython",
    "version": 3
   },
   "file_extension": ".py",
   "mimetype": "text/x-python",
   "name": "python",
   "nbconvert_exporter": "python",
   "pygments_lexer": "ipython3",
   "version": "3.9.16"
  }
 },
 "nbformat": 4,
 "nbformat_minor": 5
}
