{
 "cells": [
  {
   "cell_type": "code",
   "execution_count": 3,
   "id": "c25b9d03",
   "metadata": {},
   "outputs": [],
   "source": [
    "import awkward as ak\n",
    "import hist\n",
    "import numpy as np\n",
    "import vector\n",
    "import os\n",
    "\n",
    "import pylhe"
   ]
  },
  {
   "cell_type": "code",
   "execution_count": 58,
   "id": "c322e475",
   "metadata": {},
   "outputs": [],
   "source": [
    "import seaborn as sns\n",
    "colors = sns.color_palette(\"colorblind\", 8)"
   ]
  },
  {
   "cell_type": "code",
   "execution_count": 1,
   "id": "0d89b55b",
   "metadata": {},
   "outputs": [],
   "source": [
    "def read_sigma_nevents(dirname):\n",
    "    filename = dirname + dirname.split('/')[-2]+'_tag_1_banner.txt'\n",
    "    with open(filename,'r') as f:\n",
    "        data = f.readlines()\n",
    "    f.close()\n",
    "    sigma = float(data[-4].split(' ')[-1])\n",
    "    nevents = float(data[-5].split(' ')[-1])\n",
    "    return sigma, nevents"
   ]
  },
  {
   "cell_type": "markdown",
   "id": "29de7287",
   "metadata": {},
   "source": [
    "## directories for ttbar and ttbarax"
   ]
  },
  {
   "cell_type": "code",
   "execution_count": 4,
   "id": "c982cd9e",
   "metadata": {},
   "outputs": [],
   "source": [
    "dir_ttbarax = os.path.expanduser('~/Documents/MadGraph/ALPtt/Events/run_08/')\n",
    "dir_ttbar = os.path.expanduser('~/Documents/MadGraph/ppttleptonic/Events/run_02/')"
   ]
  },
  {
   "cell_type": "markdown",
   "id": "247f0df9",
   "metadata": {},
   "source": [
    "## ttbarax"
   ]
  },
  {
   "cell_type": "code",
   "execution_count": 5,
   "id": "3ea5ca1b",
   "metadata": {},
   "outputs": [],
   "source": [
    "pylhe.register_awkward()\n",
    "arr = pylhe.to_awkward(pylhe.read_lhe_with_attributes(\"../ALPtt/Events/run_08/unweighted_events.lhe\"))"
   ]
  },
  {
   "cell_type": "code",
   "execution_count": 5,
   "id": "cb62d198",
   "metadata": {},
   "outputs": [
    {
     "name": "stdout",
     "output_type": "stream",
     "text": [
      "0.0001978536\n"
     ]
    }
   ],
   "source": [
    "f = open(\"../ALPtt/Events/run_08/unweighted_events.lhe\", \"r\")\n",
    "content = f.readlines()\n",
    "f.close() \n",
    "\n",
    "line = content[443]\n",
    "sigma = float(line.split(\" \")[0]) # cross section in pb\n",
    "print(sigma)"
   ]
  },
  {
   "cell_type": "code",
   "execution_count": 8,
   "id": "4809c86d",
   "metadata": {},
   "outputs": [],
   "source": [
    "lumi = 13.3e3 #luminosity in inverse picobars"
   ]
  },
  {
   "cell_type": "code",
   "execution_count": 9,
   "id": "67dc48a2",
   "metadata": {},
   "outputs": [],
   "source": [
    "sigma_ax, nevents_ax = read_sigma_nevents(os.path.expanduser(dir_ttbarax))\n",
    "ww_ax = sigma_ax*lumi/nevents_ax"
   ]
  },
  {
   "cell_type": "markdown",
   "id": "e2c2ed19",
   "metadata": {},
   "source": [
    "### particle positions:\n",
    "electron e- (11): position 10,\n",
    "positron e+ (-11): position 7,\n",
    "b quark b (5): position 6,\n",
    "anti-b quark b~: position 9 "
   ]
  },
  {
   "cell_type": "code",
   "execution_count": 13,
   "id": "705231c6",
   "metadata": {},
   "outputs": [],
   "source": [
    "deltaR1 = arr.particles.vector[:,6].deltaR(arr.particles.vector[:,7])\n",
    "deltaR2 = arr.particles.vector[:,9].deltaR(arr.particles.vector[:,10])\n",
    "deltaR3 = arr.particles.vector[:,6].deltaR(arr.particles.vector[:,10])\n",
    "deltaR4 = arr.particles.vector[:,9].deltaR(arr.particles.vector[:,7])"
   ]
  },
  {
   "cell_type": "code",
   "execution_count": 14,
   "id": "e2bf82f2",
   "metadata": {},
   "outputs": [
    {
     "name": "stdout",
     "output_type": "stream",
     "text": [
      "[3.84, 0.782, 3.05, 1.66, 1.08, 2.23, 0.281, ... 2.01, 2.04, 2.88, 1.43, 2.82, 1.72]\n",
      "[2.37, 1.04, 1.68, 2.62, 1.87, 0.461, 3.36, ... 2.62, 3.4, 1.83, 1.56, 1.42, 2.03]\n",
      "[2.76, 3.11, 4.17, 2.66, 2.79, 3.22, 2.86, ... 0.884, 2.97, 5.17, 1.83, 2.3, 2.27]\n",
      "[2.89, 3.03, 0.729, 3.99, 2.75, 2.59, 0.666, ... 3.57, 2.29, 1.25, 2.68, 1.56, 1.85]\n"
     ]
    }
   ],
   "source": [
    "print(deltaR1)\n",
    "print(deltaR2)\n",
    "print(deltaR3)\n",
    "print(deltaR4)"
   ]
  },
  {
   "cell_type": "code",
   "execution_count": 20,
   "id": "cc11a510",
   "metadata": {},
   "outputs": [],
   "source": [
    "deltaR = np.zeros(int(nevents_ax));\n",
    "for i in range(0,int(nevents_ax),1):\n",
    "    deltaR[i] = min(deltaR1[i], deltaR2[i], deltaR3[i], deltaR4[i])\n",
    "    "
   ]
  },
  {
   "cell_type": "code",
   "execution_count": 21,
   "id": "1524bcb9",
   "metadata": {},
   "outputs": [
    {
     "name": "stdout",
     "output_type": "stream",
     "text": [
      "[2.36655464 0.78226812 0.72926834 ... 1.43421611 1.42392797 1.71662062]\n"
     ]
    }
   ],
   "source": [
    "print(deltaR)"
   ]
  },
  {
   "cell_type": "markdown",
   "id": "c0525f5f",
   "metadata": {},
   "source": [
    "## SM: ttbar"
   ]
  },
  {
   "cell_type": "code",
   "execution_count": 22,
   "id": "2f9b371e",
   "metadata": {},
   "outputs": [],
   "source": [
    "pylhe.register_awkward()\n",
    "arr_b = pylhe.to_awkward(pylhe.read_lhe_with_attributes(\"../ppttleptonic/Events/run_02/unweighted_events.lhe\"))"
   ]
  },
  {
   "cell_type": "code",
   "execution_count": 23,
   "id": "50a20e89",
   "metadata": {},
   "outputs": [],
   "source": [
    "deltaR1_b = arr.particles.vector[:,6].deltaR(arr_b.particles.vector[:,7])\n",
    "deltaR2_b = arr.particles.vector[:,9].deltaR(arr_b.particles.vector[:,10])\n",
    "deltaR3_b = arr.particles.vector[:,6].deltaR(arr_b.particles.vector[:,10])\n",
    "deltaR4_b = arr.particles.vector[:,9].deltaR(arr_b.particles.vector[:,7])"
   ]
  },
  {
   "cell_type": "code",
   "execution_count": 24,
   "id": "16352744",
   "metadata": {},
   "outputs": [],
   "source": [
    "deltaR_b = np.zeros(int(nevents_sm));\n",
    "for i in range(0,int(nevents_sm),1):\n",
    "    deltaR_b[i] = min(deltaR1_b[i], deltaR2_b[i], deltaR3_b[i], deltaR4_b[i])"
   ]
  },
  {
   "cell_type": "code",
   "execution_count": 39,
   "id": "9c34abe9",
   "metadata": {},
   "outputs": [],
   "source": [
    "sigma_sm, nevents_sm = read_sigma_nevents(os.path.expanduser(dir_ttbar))\n",
    "ww_sm = sigma_sm*lumi/nevents_sm"
   ]
  },
  {
   "cell_type": "markdown",
   "id": "dd4c87b8",
   "metadata": {},
   "source": [
    "# produce histogram"
   ]
  },
  {
   "cell_type": "code",
   "execution_count": 25,
   "id": "93588309",
   "metadata": {},
   "outputs": [],
   "source": [
    "num_bins = 30\n",
    "max_bins = 5"
   ]
  },
  {
   "cell_type": "code",
   "execution_count": 54,
   "id": "9a9e2c91",
   "metadata": {},
   "outputs": [],
   "source": [
    "axis1 = hist.axis.Regular(bins=num_bins, start=0, stop=max_bins, name=\"deltaR\")\n",
    "storage = hist.storage.Weight()\n",
    "hist1 = hist.Hist(axis1, storage=storage)\n",
    "hist1.fill(deltaR, weight = 1e8*ww_ax);"
   ]
  },
  {
   "cell_type": "code",
   "execution_count": 55,
   "id": "caf8d661",
   "metadata": {},
   "outputs": [],
   "source": [
    "axis2 = hist.axis.Regular(bins=num_bins, start=0, stop=max_bins, name=\"deltaR\")\n",
    "storage = hist.storage.Weight()\n",
    "hist2 = hist.Hist(axis2, storage=storage)\n",
    "hist2.fill(deltaR_b, weight = ww_sm);"
   ]
  },
  {
   "cell_type": "code",
   "execution_count": 60,
   "id": "bcfc089b",
   "metadata": {},
   "outputs": [
    {
     "data": {
      "text/plain": [
       "<matplotlib.legend.Legend at 0x7fa7aa09a370>"
      ]
     },
     "execution_count": 60,
     "metadata": {},
     "output_type": "execute_result"
    },
    {
     "data": {
      "image/png": "[encoded data removed]",
      "text/plain": [
       "<Figure size 432x288 with 1 Axes>"
      ]
     },
     "metadata": {
      "needs_background": "light"
     },
     "output_type": "display_data"
    }
   ],
   "source": [
    "artists1 = hist1.plot1d(label = 'axion: pp -> ttbar+ax, rescaled 1e8', color = colors[0]);\n",
    "artist2 = hist2.plot1d(label = 'SM: pp -> ttbar', color = colors[1])\n",
    "ax = artists1[0].stairs.axes;\n",
    "ax.set_yscale(\"linear\");\n",
    "ax.set_xlabel(\"$\\Delta_R$\");\n",
    "ax.set_ylabel(\"count\");\n",
    "ax.legend()"
   ]
  },
  {
   "cell_type": "code",
   "execution_count": null,
   "id": "c0a2c8bf",
   "metadata": {},
   "outputs": [],
   "source": []
  }
 ],
 "metadata": {
  "kernelspec": {
   "display_name": "Python 3 (ipykernel)",
   "language": "python",
   "name": "python3"
  },
  "language_info": {
   "codemirror_mode": {
    "name": "ipython",
    "version": 3
   },
   "file_extension": ".py",
   "mimetype": "text/x-python",
   "name": "python",
   "nbconvert_exporter": "python",
   "pygments_lexer": "ipython3",
   "version": "3.8.13"
  }
 },
 "nbformat": 4,
 "nbformat_minor": 5
}
