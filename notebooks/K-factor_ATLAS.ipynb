{
 "cells": [
  {
   "cell_type": "code",
   "execution_count": 1,
   "id": "66224150",
   "metadata": {},
   "outputs": [],
   "source": [
    "import awkward as ak\n",
    "import hist\n",
    "import numpy as np\n",
    "import pylhe\n",
    "from mt2 import mt2\n",
    "import os\n",
    "import matplotlib.pyplot as plt\n",
    "import uncertainties.unumpy as unp"
   ]
  },
  {
   "cell_type": "code",
   "execution_count": 2,
   "id": "e671f34f",
   "metadata": {},
   "outputs": [],
   "source": [
    "import seaborn as sns\n",
    "colors = sns.color_palette(\"colorblind\", 8)"
   ]
  },
  {
   "cell_type": "code",
   "execution_count": 3,
   "id": "68aab864",
   "metadata": {},
   "outputs": [],
   "source": [
    "lumi = 139*1e3 #fb"
   ]
  },
  {
   "cell_type": "markdown",
   "id": "6207eeeb",
   "metadata": {},
   "source": [
    "# General functions"
   ]
  },
  {
   "cell_type": "code",
   "execution_count": 4,
   "id": "420735e4",
   "metadata": {},
   "outputs": [],
   "source": [
    "def read_sigma_nevents(dirname):\n",
    "    filename = dirname + dirname.split('/')[-2]+'_tag_1_banner.txt'\n",
    "    with open(filename,'r') as f:\n",
    "        data = f.readlines()\n",
    "    f.close()\n",
    "    sigma = float(data[-4].split(' ')[-1])\n",
    "    nevents = float(data[-5].split(' ')[-1])\n",
    "    return sigma, nevents"
   ]
  },
  {
   "cell_type": "code",
   "execution_count": 5,
   "id": "37c1c251",
   "metadata": {},
   "outputs": [],
   "source": [
    "def mt2_ttbar(arr):\n",
    "    \n",
    "    vecL1 = arr.particles.vector[:,-5]   \n",
    "    vecL2 = arr.particles.vector[:,-2] \n",
    "        \n",
    "    vecB1 = arr.particles.vector[:,-6]   \n",
    "    vecB2 = arr.particles.vector[:,-3]\n",
    "        \n",
    "    massL1 = 0.1 # assume masses for the leptons\n",
    "    massL2 = 0.1\n",
    "\n",
    "    pxL1 = vecL1.px\n",
    "    pyL1 = vecL1.py\n",
    "\n",
    "    pxL2 = vecL2.px\n",
    "    pyL2 = vecL2.py\n",
    "    \n",
    "    vecMiss = -(vecL1 + vecL2 + vecB1 + vecB2)\n",
    "\n",
    "    pmiss_x = vecMiss.px\n",
    "    pmiss_y = vecMiss.py\n",
    "\n",
    "    mmiss1 = 0 # masses of the neutrinos or other invisible components, set to zero\n",
    "    mmiss2 = 0\n",
    "    \n",
    "    val = mt2(\n",
    "    massL1, pxL1, pyL1,  # Visible 1: mass, px, py\n",
    "    massL2, pxL2, pyL2,  # Visible 2: mass, px, py\n",
    "    pmiss_x, pmiss_y,  # Missing transverse momentum: x, y\n",
    "    mmiss1, mmiss2)  # Invisible 1 mass, invisible 2 mass\n",
    "\n",
    "    return val"
   ]
  },
  {
   "cell_type": "code",
   "execution_count": 6,
   "id": "89f0ec18",
   "metadata": {},
   "outputs": [],
   "source": [
    "def calculate_mt2(dirname):\n",
    "    \n",
    "    sigma, nevents = read_sigma_nevents(dirname)\n",
    "    ww = sigma*lumi/nevents\n",
    "    \n",
    "    pylhe.register_awkward()\n",
    "    filename = dirname + 'unweighted_events.lhe.gz'\n",
    "    arr = pylhe.to_awkward(pylhe.read_lhe_with_attributes(filename))\n",
    "    val = mt2_ttbar(arr)\n",
    "    \n",
    "    return (val, ww)"
   ]
  },
  {
   "cell_type": "code",
   "execution_count": 7,
   "id": "0a1b6629",
   "metadata": {},
   "outputs": [],
   "source": [
    "def generate_histogram(val, ww):\n",
    "\n",
    "    axis0 = hist.axis.Regular(bins=num_bins, start=min_bins, stop=max_bins, name=\"mt2\");\n",
    "    hist0 = hist.Hist(axis0);\n",
    "    hist0.fill(mt2=val, weight=ww);\n",
    "    \n",
    "    return hist0"
   ]
  },
  {
   "cell_type": "markdown",
   "id": "d218fd2c",
   "metadata": {},
   "source": [
    "## Correct momenta assignment"
   ]
  },
  {
   "cell_type": "code",
   "execution_count": 8,
   "id": "74831903",
   "metadata": {},
   "outputs": [],
   "source": [
    "dir_ttbar_off_df_1 = os.path.expanduser('~/Documents/MadGraph/ppttleptonic_offshell_df/Events/run_12/')\n",
    "dir_ttbar_off_df_2 = os.path.expanduser('~/Documents/MadGraph/ppttleptonic_offshell_df/Events/run_13/')\n",
    "dir_ttbar_off_df_3 = os.path.expanduser('~/Documents/MadGraph/ppttleptonic_offshell_df/Events/run_14/')\n",
    "dir_ttbar_off_df_4 = os.path.expanduser('~/Documents/MadGraph/ppttleptonic_offshell_df/Events/run_15/')\n",
    "dir_ttbar_off_df_5 = os.path.expanduser('~/Documents/MadGraph/ppttleptonic_offshell_df/Events/run_16/')\n",
    "dir_ttbar_off_df_6 = os.path.expanduser('~/Documents/MadGraph/ppttleptonic_offshell_df/Events/run_17/')\n",
    "dir_ttbar_off_df_7 = os.path.expanduser('~/Documents/MadGraph/ppttleptonic_offshell_df/Events/run_18/')\n",
    "dir_ttbar_off_df_8 = os.path.expanduser('~/Documents/MadGraph/ppttleptonic_offshell_df/Events/run_19/')\n",
    "dir_ttbar_off_df_9 = os.path.expanduser('~/Documents/MadGraph/ppttleptonic_offshell_df/Events/run_20/')\n",
    "dir_ttbar_off_df_10 = os.path.expanduser('~/Documents/MadGraph/ppttleptonic_offshell_df/Events/run_21/')"
   ]
  },
  {
   "cell_type": "code",
   "execution_count": 9,
   "id": "a2bfdc2e",
   "metadata": {},
   "outputs": [],
   "source": [
    "sigma_1 = read_sigma_nevents(dir_ttbar_off_df_1)[0]\n",
    "sigma_2 = read_sigma_nevents(dir_ttbar_off_df_2)[0]\n",
    "sigma_3 = read_sigma_nevents(dir_ttbar_off_df_3)[0]\n",
    "sigma_4 = read_sigma_nevents(dir_ttbar_off_df_4)[0]\n",
    "sigma_5 = read_sigma_nevents(dir_ttbar_off_df_5)[0]\n",
    "sigma_6 = read_sigma_nevents(dir_ttbar_off_df_6)[0]\n",
    "sigma_7 = read_sigma_nevents(dir_ttbar_off_df_7)[0]\n",
    "sigma_8 = read_sigma_nevents(dir_ttbar_off_df_8)[0]\n",
    "sigma_9 = read_sigma_nevents(dir_ttbar_off_df_9)[0]\n",
    "sigma_10 = read_sigma_nevents(dir_ttbar_off_df_10)[0]"
   ]
  },
  {
   "cell_type": "code",
   "execution_count": 10,
   "id": "9cfffa22",
   "metadata": {},
   "outputs": [],
   "source": [
    "sigma_tot = sigma_1 + sigma_2 + sigma_3 + sigma_4 + sigma_5 + sigma_6 + sigma_7 + sigma_8 + sigma_9 + sigma_10"
   ]
  },
  {
   "cell_type": "code",
   "execution_count": 11,
   "id": "b9a07153",
   "metadata": {},
   "outputs": [],
   "source": [
    "Nbatch = 10."
   ]
  },
  {
   "cell_type": "code",
   "execution_count": 12,
   "id": "1d92fbbc",
   "metadata": {},
   "outputs": [
    {
     "name": "stdout",
     "output_type": "stream",
     "text": [
      "5.526529999999999\n",
      "5.525370000000001\n",
      "55.2201\n"
     ]
    }
   ],
   "source": [
    "print(sigma_1)\n",
    "print(sigma_2)\n",
    "print(sigma_tot)"
   ]
  },
  {
   "cell_type": "code",
   "execution_count": 13,
   "id": "651bbc01",
   "metadata": {},
   "outputs": [
    {
     "name": "stderr",
     "output_type": "stream",
     "text": [
      "/var/folders/d0/vjgg68h93_q2fcyzx7cftx_h0000gn/T/ipykernel_37439/834288396.py:6: DeprecationWarning: pylhe.awkward.register_awkward is deprecated as of pylhe v0.6.0 and will be removed in pylhe v0.8.0. Please remove use of pylhe.awkward.register_awkward in favor of automatic registration.\n",
      "  pylhe.register_awkward()\n"
     ]
    }
   ],
   "source": [
    "mt2_01, ww_01 = calculate_mt2(dir_ttbar_off_df_1)"
   ]
  },
  {
   "cell_type": "code",
   "execution_count": 14,
   "id": "49af472c",
   "metadata": {},
   "outputs": [
    {
     "name": "stderr",
     "output_type": "stream",
     "text": [
      "/var/folders/d0/vjgg68h93_q2fcyzx7cftx_h0000gn/T/ipykernel_37439/834288396.py:6: DeprecationWarning: pylhe.awkward.register_awkward is deprecated as of pylhe v0.6.0 and will be removed in pylhe v0.8.0. Please remove use of pylhe.awkward.register_awkward in favor of automatic registration.\n",
      "  pylhe.register_awkward()\n"
     ]
    }
   ],
   "source": [
    "mt2_02, ww_02 = calculate_mt2(dir_ttbar_off_df_2)\n",
    "mt2_03, ww_03 = calculate_mt2(dir_ttbar_off_df_3)\n",
    "mt2_04, ww_04 = calculate_mt2(dir_ttbar_off_df_4)\n",
    "mt2_05, ww_05 = calculate_mt2(dir_ttbar_off_df_5)\n",
    "mt2_06, ww_06 = calculate_mt2(dir_ttbar_off_df_6)\n",
    "mt2_07, ww_07 = calculate_mt2(dir_ttbar_off_df_7)\n",
    "mt2_08, ww_08 = calculate_mt2(dir_ttbar_off_df_8)\n",
    "mt2_09, ww_09 = calculate_mt2(dir_ttbar_off_df_9)\n",
    "mt2_10, ww_10 = calculate_mt2(dir_ttbar_off_df_10)"
   ]
  },
  {
   "cell_type": "code",
   "execution_count": 15,
   "id": "d3498344",
   "metadata": {},
   "outputs": [],
   "source": [
    "axis_new = hist.axis.Variable([100.0,110.0, 120.0, 140.0], name=\"mt2\");\n",
    "hist_new = hist.Hist(axis_new);\n",
    "hist_new.fill(mt2=mt2_01, weight=ww_01/Nbatch);\n",
    "hist_new.fill(mt2=mt2_02, weight=ww_02/Nbatch);\n",
    "hist_new.fill(mt2=mt2_03, weight=ww_03/Nbatch);\n",
    "hist_new.fill(mt2=mt2_04, weight=ww_04/Nbatch);\n",
    "hist_new.fill(mt2=mt2_05, weight=ww_05/Nbatch);\n",
    "hist_new.fill(mt2=mt2_06, weight=ww_06/Nbatch);\n",
    "hist_new.fill(mt2=mt2_07, weight=ww_07/Nbatch);\n",
    "hist_new.fill(mt2=mt2_08, weight=ww_08/Nbatch);\n",
    "hist_new.fill(mt2=mt2_09, weight=ww_09/Nbatch);\n",
    "hist_new.fill(mt2=mt2_10, weight=ww_10/Nbatch);"
   ]
  },
  {
   "cell_type": "code",
   "execution_count": 17,
   "id": "c020ad87",
   "metadata": {},
   "outputs": [],
   "source": [
    "axis_new_no_norm = hist.axis.Variable([100.0,110.0, 120.0, 140.0], name=\"mt2\");\n",
    "hist_new_no_norm = hist.Hist(axis_new_no_norm);\n",
    "hist_new_no_norm.fill(mt2=mt2_01, weight=1.0);\n",
    "hist_new_no_norm.fill(mt2=mt2_02, weight=1.0);\n",
    "hist_new_no_norm.fill(mt2=mt2_03, weight=1.0);\n",
    "hist_new_no_norm.fill(mt2=mt2_04, weight=1.0);\n",
    "hist_new_no_norm.fill(mt2=mt2_05, weight=1.0);\n",
    "hist_new_no_norm.fill(mt2=mt2_06, weight=1.0);\n",
    "hist_new_no_norm.fill(mt2=mt2_07, weight=1.0);\n",
    "hist_new_no_norm.fill(mt2=mt2_08, weight=1.0);\n",
    "hist_new_no_norm.fill(mt2=mt2_09, weight=1.0);\n",
    "hist_new_no_norm.fill(mt2=mt2_10, weight=1.0);"
   ]
  },
  {
   "cell_type": "code",
   "execution_count": 18,
   "id": "f7d9d277",
   "metadata": {},
   "outputs": [],
   "source": [
    "width = 0.05\n",
    "bincenters = [105,115,130]"
   ]
  },
  {
   "cell_type": "code",
   "execution_count": 19,
   "id": "94f4d9b4",
   "metadata": {},
   "outputs": [],
   "source": [
    "atlas_bins = [100.0,110.0, 120.0, 140.0]"
   ]
  },
  {
   "cell_type": "code",
   "execution_count": 24,
   "id": "cc3ee79f",
   "metadata": {},
   "outputs": [],
   "source": [
    "binheight_atlas = unp.uarray([44.4,17.3,10.0], [5.8, 4.2, 3.1])"
   ]
  },
  {
   "cell_type": "code",
   "execution_count": 27,
   "id": "ca4fec2b",
   "metadata": {},
   "outputs": [],
   "source": [
    "# get the binheight from the distributions normalised with the total cross section\n",
    "# get the Nbin from the distribution with no normalisation\n",
    "\n",
    "binheight_new = np.zeros(3)\n",
    "Nbin_new = np.zeros(3)\n",
    "y_err_new = np.zeros(3)\n",
    "    \n",
    "for i in range(3):\n",
    "    binheight_new[i] = hist_new[i]\n",
    "    Nbin_new[i] = hist_new_no_norm[i]\n",
    "    \n",
    "    if Nbin_new[i] > 0:\n",
    "        y_err_new[i] = binheight_new[i]/np.sqrt(Nbin_new[i])"
   ]
  },
  {
   "cell_type": "code",
   "execution_count": 28,
   "id": "147a4253",
   "metadata": {},
   "outputs": [
    {
     "name": "stdout",
     "output_type": "stream",
     "text": [
      "[92.87017286 28.40311961  6.1368222 ]\n"
     ]
    }
   ],
   "source": [
    "print(binheight_new)"
   ]
  },
  {
   "cell_type": "code",
   "execution_count": 30,
   "id": "6dfe7bf2",
   "metadata": {},
   "outputs": [
    {
     "name": "stdout",
     "output_type": "stream",
     "text": [
      "[92.87017286 28.40311961  6.1368222 ]\n",
      "[8.44274299 4.6694441  2.1696943 ]\n"
     ]
    }
   ],
   "source": [
    "print(binheight_new)\n",
    "print(y_err_new)"
   ]
  },
  {
   "cell_type": "code",
   "execution_count": 31,
   "id": "f76a1788",
   "metadata": {},
   "outputs": [],
   "source": [
    "binheight_mg_new = unp.uarray(binheight_new, y_err_new)"
   ]
  },
  {
   "cell_type": "code",
   "execution_count": 32,
   "id": "4ee3239c",
   "metadata": {},
   "outputs": [],
   "source": [
    "binheight_atlas = unp.uarray([44.4,17.3,10.0], [5.8, 4.2, 3.1])"
   ]
  },
  {
   "cell_type": "code",
   "execution_count": 33,
   "id": "5b6b3ad1",
   "metadata": {},
   "outputs": [],
   "source": [
    "Kfactor_new = binheight_atlas/binheight_mg_new"
   ]
  },
  {
   "cell_type": "code",
   "execution_count": 35,
   "id": "346e6082",
   "metadata": {},
   "outputs": [
    {
     "data": {
      "image/png": "[encoded data removed]",
      "text/plain": [
       "<Figure size 640x480 with 1 Axes>"
      ]
     },
     "metadata": {},
     "output_type": "display_data"
    }
   ],
   "source": [
    "atlas_sm_plot = np.concatenate([unp.nominal_values(binheight_atlas), [unp.nominal_values(binheight_atlas)[-1]]])\n",
    "binheight_new_plot = np.concatenate([binheight_new, [binheight_new[-1]]])*unp.nominal_values(Kfactor_new)[0]\n",
    "#binheight_old_plot = np.concatenate([binheight_old, [binheight_old[-1]]])*unp.nominal_values(Kfactor_old)[0]\n",
    "\n",
    "artists = hist_new.plot1d(color = 'none');\n",
    "#plt.bar(bincenters, binheight_new, width=width, color='none', yerr=y_err_new, log = True)\n",
    "ax = artists[0].stairs.axes;\n",
    "\n",
    "ax.step(atlas_bins, atlas_sm_plot, where='post',label='ATLAS SM simulation', color=colors[0])\n",
    "ax.step(atlas_bins, binheight_new_plot, where='post', label = 'new MG simulation', color = colors[1])\n",
    "plt.bar(bincenters, unp.nominal_values(binheight_atlas), width=width, color='none', yerr=unp.std_devs(binheight_atlas), log = True, error_kw=dict(ecolor=colors[0]))\n",
    "\n",
    "ax = artists[0].stairs.axes;\n",
    "ax.set_yscale(\"log\");\n",
    "ax.set_xlim(100,140)\n",
    "ax.set_xlabel(\"mt2 [GeV]\");\n",
    "ax.set_ylabel(r\"$L \\times \\frac{d\\sigma}{d mt2}$\");\n",
    "ax.set_title(r'differential cross section for $ p p \\rightarrow t \\bar{t}$ with mt2, allowing for off-shell W');\n",
    "ax.legend()\n",
    "\n",
    "\n",
    "plt.rc('axes', labelsize=20)\n",
    "#plt.savefig(\"./plots/ttbar_df_old_new_comparison.png\")"
   ]
  },
  {
   "cell_type": "code",
   "execution_count": 36,
   "id": "6ffe98fc",
   "metadata": {},
   "outputs": [
    {
     "name": "stdout",
     "output_type": "stream",
     "text": [
      "K-factor first bin with both uncertainties:  0.4781+/-0.0761\n"
     ]
    }
   ],
   "source": [
    "print(\"K-factor first bin with both uncertainties: \", f\"{Kfactor_new[0]:.4f}\")\n",
    "#print(\"K-factor first bin with only MG uncertainties: \", f\"{Kfactor_only_MG[0]:.4f}\")\n",
    "#print(\"K-factor first bin with only ATALS uncertainties: \", f\"{Kfactor_only_ATLAS[0]:.4f}\")"
   ]
  },
  {
   "cell_type": "code",
   "execution_count": 38,
   "id": "c0f9bdc0",
   "metadata": {},
   "outputs": [
    {
     "data": {
      "text/plain": [
       "Text(0.5, 1.0, 'K-factor in 3 bins, ATLAS events/ MG events, no cuts')"
      ]
     },
     "execution_count": 38,
     "metadata": {},
     "output_type": "execute_result"
    },
    {
     "data": {
      "image/png": "[encoded data removed]",
      "text/plain": [
       "<Figure size 640x480 with 1 Axes>"
      ]
     },
     "metadata": {},
     "output_type": "display_data"
    }
   ],
   "source": [
    "plt.figure()\n",
    "plt.plot(bincenters, unp.nominal_values(Kfactor_new), 'x', color = colors[1], label = 'new')\n",
    "plt.bar(bincenters, unp.nominal_values(Kfactor_new), width=width, color='none', yerr=unp.std_devs(Kfactor_new), log = False, error_kw=dict(ecolor=colors[1]))\n",
    "plt.xlabel(\"mt2\")\n",
    "plt.ylabel(\"K-factor\")\n",
    "plt.legend(loc = 2)\n",
    "plt.title(\"K-factor in 3 bins, ATLAS events/ MG events, no cuts\")\n",
    "#plt.savefig(\"./plots/ttbar_df_k_factor_comparison.png\")"
   ]
  },
  {
   "cell_type": "code",
   "execution_count": null,
   "id": "6d6729ef",
   "metadata": {},
   "outputs": [],
   "source": []
  }
 ],
 "metadata": {
  "kernelspec": {
   "display_name": "Python 3 (ipykernel)",
   "language": "python",
   "name": "python3"
  },
  "language_info": {
   "codemirror_mode": {
    "name": "ipython",
    "version": 3
   },
   "file_extension": ".py",
   "mimetype": "text/x-python",
   "name": "python",
   "nbconvert_exporter": "python",
   "pygments_lexer": "ipython3",
   "version": "3.9.16"
  }
 },
 "nbformat": 4,
 "nbformat_minor": 5
}
