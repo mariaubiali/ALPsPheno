{
 "cells": [
  {
   "cell_type": "code",
   "execution_count": 65,
   "id": "7fd13955",
   "metadata": {},
   "outputs": [],
   "source": [
    "import awkward as ak\n",
    "import matplotlib.pyplot as plt\n",
    "import hist\n",
    "import numpy as np\n",
    "import vector\n",
    "\n",
    "\n",
    "import pylhe"
   ]
  },
  {
   "cell_type": "code",
   "execution_count": 111,
   "id": "b96fa6d6",
   "metadata": {},
   "outputs": [],
   "source": [
    "import seaborn as sns\n",
    "colors = sns.color_palette(\"colorblind\", 8)"
   ]
  },
  {
   "cell_type": "code",
   "execution_count": 112,
   "id": "59599e91",
   "metadata": {},
   "outputs": [
    {
     "data": {
      "text/html": [
       "<svg  width=\"440\" height=\"55\"><rect x=\"0\" y=\"0\" width=\"55\" height=\"55\" style=\"fill:#0173b2;stroke-width:2;stroke:rgb(255,255,255)\"/><rect x=\"55\" y=\"0\" width=\"55\" height=\"55\" style=\"fill:#de8f05;stroke-width:2;stroke:rgb(255,255,255)\"/><rect x=\"110\" y=\"0\" width=\"55\" height=\"55\" style=\"fill:#029e73;stroke-width:2;stroke:rgb(255,255,255)\"/><rect x=\"165\" y=\"0\" width=\"55\" height=\"55\" style=\"fill:#d55e00;stroke-width:2;stroke:rgb(255,255,255)\"/><rect x=\"220\" y=\"0\" width=\"55\" height=\"55\" style=\"fill:#cc78bc;stroke-width:2;stroke:rgb(255,255,255)\"/><rect x=\"275\" y=\"0\" width=\"55\" height=\"55\" style=\"fill:#ca9161;stroke-width:2;stroke:rgb(255,255,255)\"/><rect x=\"330\" y=\"0\" width=\"55\" height=\"55\" style=\"fill:#fbafe4;stroke-width:2;stroke:rgb(255,255,255)\"/><rect x=\"385\" y=\"0\" width=\"55\" height=\"55\" style=\"fill:#949494;stroke-width:2;stroke:rgb(255,255,255)\"/></svg>"
      ],
      "text/plain": [
       "[(0.00392156862745098, 0.45098039215686275, 0.6980392156862745),\n",
       " (0.8705882352941177, 0.5607843137254902, 0.0196078431372549),\n",
       " (0.00784313725490196, 0.6196078431372549, 0.45098039215686275),\n",
       " (0.8352941176470589, 0.3686274509803922, 0.0),\n",
       " (0.8, 0.47058823529411764, 0.7372549019607844),\n",
       " (0.792156862745098, 0.5686274509803921, 0.3803921568627451),\n",
       " (0.984313725490196, 0.6862745098039216, 0.8941176470588236),\n",
       " (0.5803921568627451, 0.5803921568627451, 0.5803921568627451)]"
      ]
     },
     "execution_count": 112,
     "metadata": {},
     "output_type": "execute_result"
    }
   ],
   "source": [
    "colors"
   ]
  },
  {
   "cell_type": "markdown",
   "id": "aeb8e311",
   "metadata": {},
   "source": [
    "# Background process p p > t t~"
   ]
  },
  {
   "cell_type": "code",
   "execution_count": 5,
   "id": "74947f57",
   "metadata": {},
   "outputs": [],
   "source": [
    "pylhe.register_awkward()\n",
    "arr_b = pylhe.to_awkward(pylhe.read_lhe_with_attributes(\"../pptt/Events/run_01/unweighted_events.lhe\"))"
   ]
  },
  {
   "cell_type": "code",
   "execution_count": 6,
   "id": "b06208ef",
   "metadata": {},
   "outputs": [
    {
     "name": "stdout",
     "output_type": "stream",
     "text": [
      "444.7059\n"
     ]
    }
   ],
   "source": [
    "f = open(\"../pptt/Events/run_01/unweighted_events.lhe\", \"r\")\n",
    "content = f.readlines()\n",
    "f.close() \n",
    "\n",
    "line = content[387]\n",
    "sigma_b = float(line.split(\" \")[0]) # cross section in pb\n",
    "print(sigma_b)"
   ]
  },
  {
   "cell_type": "code",
   "execution_count": 7,
   "id": "3480644c",
   "metadata": {},
   "outputs": [],
   "source": [
    "lumi = 13.3e3 #luminosity in inverse picobars\n",
    "NMG = 10000 #number of events generated in madgraph\n",
    "WW_b = sigma_b*lumi/NMG"
   ]
  },
  {
   "cell_type": "code",
   "execution_count": 8,
   "id": "83e85f5f",
   "metadata": {},
   "outputs": [
    {
     "name": "stdout",
     "output_type": "stream",
     "text": [
      "[117, 441, 39.4, 74.7, 68.4, 66.4, 218, 108, ... 111, 108, 147, 77.2, 74.5, 104, 112]\n",
      "[117, 441, 39.4, 74.7, 68.4, 66.4, 218, 108, ... 111, 108, 147, 77.2, 74.5, 104, 112]\n"
     ]
    }
   ],
   "source": [
    "print(arr_b.particles.vector[:,-1].pt)\n",
    "print(arr_b.particles.vector[:,-2].pt)"
   ]
  },
  {
   "cell_type": "code",
   "execution_count": 9,
   "id": "487351a4",
   "metadata": {},
   "outputs": [],
   "source": [
    "leading_pt_b = np.zeros(NMG)\n",
    "for i in range(0,NMG,1):\n",
    "    leading_pt_b[i] = max(arr_b.particles.vector[i,-1].pt, arr_b.particles.vector[i,-2].pt)\n"
   ]
  },
  {
   "cell_type": "code",
   "execution_count": 10,
   "id": "3869b54d",
   "metadata": {},
   "outputs": [
    {
     "data": {
      "text/plain": [
       "array([117.26367681, 441.27809406,  39.42397839, ...,  74.48438355,\n",
       "       104.11598396, 111.53716723])"
      ]
     },
     "execution_count": 10,
     "metadata": {},
     "output_type": "execute_result"
    }
   ],
   "source": [
    "leading_pt_b"
   ]
  },
  {
   "cell_type": "markdown",
   "id": "2b0ae8a9",
   "metadata": {},
   "source": [
    "# Signal p p > t t~ ax for different couplings"
   ]
  },
  {
   "cell_type": "markdown",
   "id": "16c3f41f",
   "metadata": {},
   "source": [
    "## $c_{a\\Phi} =1$"
   ]
  },
  {
   "cell_type": "code",
   "execution_count": 12,
   "id": "251f5c17",
   "metadata": {},
   "outputs": [],
   "source": [
    "pylhe.register_awkward()\n",
    "arr_1 = pylhe.to_awkward(pylhe.read_lhe_with_attributes(\"../ppttax/Events/run_01/unweighted_events.lhe\"))"
   ]
  },
  {
   "cell_type": "code",
   "execution_count": 13,
   "id": "82e38850",
   "metadata": {},
   "outputs": [
    {
     "name": "stdout",
     "output_type": "stream",
     "text": [
      "0.02667609\n"
     ]
    }
   ],
   "source": [
    "f = open(\"../ppttax/Events/run_01/unweighted_events.lhe\", \"r\")\n",
    "content = f.readlines()\n",
    "f.close() \n",
    "\n",
    "line = content[387]\n",
    "sigma_1 = float(line.split(\" \")[0]) # cross section in pb\n",
    "print(sigma_1)"
   ]
  },
  {
   "cell_type": "code",
   "execution_count": 14,
   "id": "24b23455",
   "metadata": {},
   "outputs": [],
   "source": [
    "WW_1 = sigma_1*lumi/NMG"
   ]
  },
  {
   "cell_type": "code",
   "execution_count": 15,
   "id": "5d203c92",
   "metadata": {},
   "outputs": [],
   "source": [
    "leading_pt_1 = np.zeros(NMG)\n",
    "for i in range(0,NMG,1):\n",
    "    leading_pt_1[i] = max(arr_1.particles.vector[i,-2].pt, arr_1.particles.vector[i,-3].pt)"
   ]
  },
  {
   "cell_type": "markdown",
   "id": "9185bede",
   "metadata": {},
   "source": [
    "## $c_{a\\Phi} = 10$"
   ]
  },
  {
   "cell_type": "code",
   "execution_count": 17,
   "id": "80d519ff",
   "metadata": {},
   "outputs": [],
   "source": [
    "pylhe.register_awkward()\n",
    "arr_10 = pylhe.to_awkward(pylhe.read_lhe_with_attributes(\"../ppttax/Events/run_02/unweighted_events.lhe\"))"
   ]
  },
  {
   "cell_type": "code",
   "execution_count": 18,
   "id": "8500d943",
   "metadata": {},
   "outputs": [],
   "source": [
    "leading_pt_10 = np.zeros(NMG)\n",
    "for i in range(0,NMG,1):\n",
    "    leading_pt_10[i] = max(arr_10.particles.vector[i,-2].pt, arr_10.particles.vector[i,-3].pt)"
   ]
  },
  {
   "cell_type": "markdown",
   "id": "8535131e",
   "metadata": {},
   "source": [
    "## $c_{a\\Phi} = 100$"
   ]
  },
  {
   "cell_type": "code",
   "execution_count": 20,
   "id": "c3d01643",
   "metadata": {},
   "outputs": [],
   "source": [
    "pylhe.register_awkward()\n",
    "arr_100 = pylhe.to_awkward(pylhe.read_lhe_with_attributes(\"../ppttax/Events/run_06/unweighted_events.lhe\"))"
   ]
  },
  {
   "cell_type": "code",
   "execution_count": 23,
   "id": "184fb3ad",
   "metadata": {},
   "outputs": [],
   "source": [
    "leading_pt_100 = np.zeros(NMG)\n",
    "for i in range(0,NMG,1):\n",
    "    leading_pt_100[i] = max(arr_100.particles.vector[i,-2].pt, arr_100.particles.vector[i,-3].pt)"
   ]
  },
  {
   "cell_type": "markdown",
   "id": "3a787b28",
   "metadata": {},
   "source": [
    "## $c_{a\\Phi} = 1000$"
   ]
  },
  {
   "cell_type": "code",
   "execution_count": 25,
   "id": "2f0c8abc",
   "metadata": {},
   "outputs": [],
   "source": [
    "pylhe.register_awkward()\n",
    "arr_1000 = pylhe.to_awkward(pylhe.read_lhe_with_attributes(\"../ppttax/Events/run_03/unweighted_events.lhe\"))"
   ]
  },
  {
   "cell_type": "code",
   "execution_count": 26,
   "id": "a5cdaae6",
   "metadata": {},
   "outputs": [],
   "source": [
    "leading_pt_1000 = np.zeros(NMG)\n",
    "for i in range(0,NMG,1):\n",
    "    leading_pt_1000[i] = max(arr_1000.particles.vector[i,-2].pt, arr_1000.particles.vector[i,-3].pt)"
   ]
  },
  {
   "cell_type": "markdown",
   "id": "80708080",
   "metadata": {},
   "source": [
    "## $c_{a\\Phi} = 0.1$"
   ]
  },
  {
   "cell_type": "code",
   "execution_count": 28,
   "id": "0b300613",
   "metadata": {},
   "outputs": [],
   "source": [
    "pylhe.register_awkward()\n",
    "arr_01 = pylhe.to_awkward(pylhe.read_lhe_with_attributes(\"../ppttax/Events/run_05/unweighted_events.lhe\"))"
   ]
  },
  {
   "cell_type": "code",
   "execution_count": 29,
   "id": "bc28c172",
   "metadata": {},
   "outputs": [],
   "source": [
    "leading_pt_01 = np.zeros(NMG)\n",
    "for i in range(0,NMG,1):\n",
    "    leading_pt_01[i] = max(arr_01.particles.vector[i,-2].pt, arr_01.particles.vector[i,-3].pt)"
   ]
  },
  {
   "cell_type": "markdown",
   "id": "a5c064e9",
   "metadata": {},
   "source": [
    "## produce the histograms"
   ]
  },
  {
   "cell_type": "code",
   "execution_count": 80,
   "id": "081ca603",
   "metadata": {},
   "outputs": [],
   "source": [
    "num_bins = 50\n",
    "max_bins = 800"
   ]
  },
  {
   "cell_type": "code",
   "execution_count": 81,
   "id": "51967e46",
   "metadata": {},
   "outputs": [],
   "source": [
    "axis1 = hist.axis.Regular(bins=num_bins, start=0, stop=max_bins, name=\"p_T\")\n",
    "storage = hist.storage.Weight()\n",
    "hist1 = hist.Hist(axis1, storage=storage)\n",
    "hist1.fill(leading_pt_b);"
   ]
  },
  {
   "cell_type": "code",
   "execution_count": 82,
   "id": "32ea24f1",
   "metadata": {},
   "outputs": [],
   "source": [
    "axis2 = hist.axis.Regular(bins=num_bins, start=0, stop=max_bins, name=\"p_T\")\n",
    "storage = hist.storage.Weight()\n",
    "hist2 = hist.Hist(axis2, storage=storage)\n",
    "hist2.fill(leading_pt_1);"
   ]
  },
  {
   "cell_type": "code",
   "execution_count": 83,
   "id": "9c3d2648",
   "metadata": {},
   "outputs": [],
   "source": [
    "axis3 = hist.axis.Regular(bins=num_bins, start=0, stop=max_bins, name=\"p_T\")\n",
    "storage = hist.storage.Weight()\n",
    "hist3 = hist.Hist(axis3, storage=storage)\n",
    "hist3.fill(leading_pt_10);"
   ]
  },
  {
   "cell_type": "code",
   "execution_count": 84,
   "id": "ee5b2dd6",
   "metadata": {},
   "outputs": [],
   "source": [
    "axis4 = hist.axis.Regular(bins=num_bins, start=0, stop=max_bins, name=\"p_T\")\n",
    "storage = hist.storage.Weight()\n",
    "hist4 = hist.Hist(axis4, storage=storage)\n",
    "hist4.fill(leading_pt_100);"
   ]
  },
  {
   "cell_type": "code",
   "execution_count": 85,
   "id": "74326597",
   "metadata": {},
   "outputs": [],
   "source": [
    "axis5 = hist.axis.Regular(bins=num_bins, start=0, stop=max_bins, name=\"p_T\")\n",
    "storage = hist.storage.Weight()\n",
    "hist5 = hist.Hist(axis5, storage=storage)\n",
    "hist5.fill(leading_pt_1000);"
   ]
  },
  {
   "cell_type": "code",
   "execution_count": 86,
   "id": "89eebffc",
   "metadata": {},
   "outputs": [],
   "source": [
    "axis6 = hist.axis.Regular(bins=num_bins, start=0, stop=max_bins, name=\"p_T\")\n",
    "storage = hist.storage.Weight()\n",
    "hist6 = hist.Hist(axis6, storage=storage)\n",
    "hist6.fill(leading_pt_01);"
   ]
  },
  {
   "cell_type": "code",
   "execution_count": 115,
   "id": "faac83e6",
   "metadata": {},
   "outputs": [
    {
     "data": {
      "text/plain": [
       "<matplotlib.legend.Legend at 0x7f8036a05c40>"
      ]
     },
     "execution_count": 115,
     "metadata": {},
     "output_type": "execute_result"
    },
    {
     "data": {
      "image/png": "[encoded data removed]",
      "text/plain": [
       "<Figure size 432x288 with 1 Axes>"
      ]
     },
     "metadata": {
      "needs_background": "light"
     },
     "output_type": "display_data"
    }
   ],
   "source": [
    "# artists1 = hist1.plot1d(label='background', color = 'blue');\n",
    "# artists2 = hist6.plot1d(label='axion $C_{a \\Phi} = 0.1$', color = 'yellow');\n",
    "# artists3 = hist2.plot1d(label='axion $C_{a \\Phi} = 1$', color = 'red');\n",
    "# artists4 = hist3.plot1d(label='axion $C_{a \\Phi} = 10$', color = 'green');\n",
    "# artists5 = hist4.plot1d(label='axion $C_{a \\Phi} = 100$', color = 'orange');\n",
    "# artists6 = hist5.plot1d(label='axion $C_{a \\Phi} = 1000$', color = 'purple');\n",
    "artists1 = hist1.plot1d(label='background', color = colors[0]);\n",
    "artists2 = hist6.plot1d(label='axion $C_{a \\Phi} = 0.1$', color = colors[1]);\n",
    "artists3 = hist2.plot1d(label='axion $C_{a \\Phi} = 1$', color = colors[2]);\n",
    "artists4 = hist3.plot1d(label='axion $C_{a \\Phi} = 10$', color = colors[3]);\n",
    "artists5 = hist4.plot1d(label='axion $C_{a \\Phi} = 100$', color = colors[4]);\n",
    "artists6 = hist5.plot1d(label='axion $C_{a \\Phi} = 1000$', color = colors[5]);\n",
    "ax = artists1[0].stairs.axes;\n",
    "ax.set_yscale(\"linear\");\n",
    "ax.set_xlabel(\"leading $p_T$ [GeV]\");\n",
    "ax.set_ylabel(\"unweighted events\");\n",
    "ax.legend()"
   ]
  },
  {
   "cell_type": "markdown",
   "id": "5d13b8aa",
   "metadata": {},
   "source": [
    "# Signal p p > t t~ ax for different axion masses (default $m_a = 1$ MeV)"
   ]
  },
  {
   "cell_type": "markdown",
   "id": "a7903971",
   "metadata": {},
   "source": [
    "## $m_a = 1$ GeV"
   ]
  },
  {
   "cell_type": "code",
   "execution_count": 95,
   "id": "15685e69",
   "metadata": {},
   "outputs": [],
   "source": [
    "pylhe.register_awkward()\n",
    "arr_M1GeV = pylhe.to_awkward(pylhe.read_lhe_with_attributes(\"../ppttax/Events/run_04/unweighted_events.lhe\"))"
   ]
  },
  {
   "cell_type": "code",
   "execution_count": 96,
   "id": "c7f9fddb",
   "metadata": {},
   "outputs": [],
   "source": [
    "leading_pt_M1GeV = np.zeros(NMG)\n",
    "for i in range(0,NMG,1):\n",
    "    leading_pt_M1GeV[i] = max(arr_M1GeV.particles.vector[i,-2].pt, arr_M1GeV.particles.vector[i,-3].pt)"
   ]
  },
  {
   "cell_type": "markdown",
   "id": "c5f4ffae",
   "metadata": {},
   "source": [
    "## $m_a = 1$ keV"
   ]
  },
  {
   "cell_type": "code",
   "execution_count": 100,
   "id": "6d1c20e5",
   "metadata": {},
   "outputs": [],
   "source": [
    "pylhe.register_awkward()\n",
    "arr_M1keV = pylhe.to_awkward(pylhe.read_lhe_with_attributes(\"../ppttax/Events/run_07/unweighted_events.lhe\"))"
   ]
  },
  {
   "cell_type": "code",
   "execution_count": 101,
   "id": "31302041",
   "metadata": {},
   "outputs": [],
   "source": [
    "leading_pt_M1keV = np.zeros(NMG)\n",
    "for i in range(0,NMG,1):\n",
    "    leading_pt_M1keV[i] = max(arr_M1keV.particles.vector[i,-2].pt, arr_M1keV.particles.vector[i,-3].pt)"
   ]
  },
  {
   "cell_type": "markdown",
   "id": "7afca62c",
   "metadata": {},
   "source": [
    "## $m_a = 1$ TeV"
   ]
  },
  {
   "cell_type": "code",
   "execution_count": 102,
   "id": "1195fc6a",
   "metadata": {},
   "outputs": [],
   "source": [
    "pylhe.register_awkward()\n",
    "arr_M1TeV = pylhe.to_awkward(pylhe.read_lhe_with_attributes(\"../ppttax/Events/run_08/unweighted_events.lhe\"))"
   ]
  },
  {
   "cell_type": "code",
   "execution_count": 103,
   "id": "964551c0",
   "metadata": {},
   "outputs": [],
   "source": [
    "leading_pt_M1TeV = np.zeros(NMG)\n",
    "for i in range(0,NMG,1):\n",
    "    leading_pt_M1TeV[i] = max(arr_M1TeV.particles.vector[i,-2].pt, arr_M1TeV.particles.vector[i,-3].pt)"
   ]
  },
  {
   "cell_type": "markdown",
   "id": "e00c2695",
   "metadata": {},
   "source": [
    "## produce the histograms"
   ]
  },
  {
   "cell_type": "code",
   "execution_count": 93,
   "id": "b7b06206",
   "metadata": {},
   "outputs": [],
   "source": [
    "num_bins = 50\n",
    "max_bins = 800"
   ]
  },
  {
   "cell_type": "code",
   "execution_count": 104,
   "id": "39897225",
   "metadata": {},
   "outputs": [],
   "source": [
    "axis7 = hist.axis.Regular(bins=num_bins, start=0, stop=max_bins, name=\"p_T\")\n",
    "storage = hist.storage.Weight()\n",
    "hist7 = hist.Hist(axis7, storage=storage)\n",
    "hist7.fill(leading_pt_M1GeV);"
   ]
  },
  {
   "cell_type": "code",
   "execution_count": 105,
   "id": "d6401c1e",
   "metadata": {},
   "outputs": [],
   "source": [
    "axis8 = hist.axis.Regular(bins=num_bins, start=0, stop=max_bins, name=\"p_T\")\n",
    "storage = hist.storage.Weight()\n",
    "hist8 = hist.Hist(axis8, storage=storage)\n",
    "hist8.fill(leading_pt_M1keV);"
   ]
  },
  {
   "cell_type": "code",
   "execution_count": 106,
   "id": "4d675825",
   "metadata": {},
   "outputs": [],
   "source": [
    "axis9 = hist.axis.Regular(bins=num_bins, start=0, stop=max_bins, name=\"p_T\")\n",
    "storage = hist.storage.Weight()\n",
    "hist9 = hist.Hist(axis9, storage=storage)\n",
    "hist9.fill(leading_pt_M1TeV);"
   ]
  },
  {
   "cell_type": "code",
   "execution_count": 116,
   "id": "bb752a3a",
   "metadata": {},
   "outputs": [
    {
     "data": {
      "text/plain": [
       "<matplotlib.legend.Legend at 0x7f8036806be0>"
      ]
     },
     "execution_count": 116,
     "metadata": {},
     "output_type": "execute_result"
    },
    {
     "data": {
      "image/png": "[encoded data removed]",
      "text/plain": [
       "<Figure size 432x288 with 1 Axes>"
      ]
     },
     "metadata": {
      "needs_background": "light"
     },
     "output_type": "display_data"
    }
   ],
   "source": [
    "# artists1 = hist1.plot1d(label='background', color = 'blue');\n",
    "# artists2 = hist2.plot1d(label='axion $m_a = 1$ MeV', color = 'yellow');\n",
    "# artists7 = hist8.plot1d(label='axion $m_a = 1$ keV', color = 'red');\n",
    "# artists8 = hist7.plot1d(label='axion $m_a = 1$ GeV', color = 'green');\n",
    "# artists9 = hist9.plot1d(label='axion $m_a = 1$ TeV', color = 'purple');\n",
    "artists1 = hist1.plot1d(label='background', color = colors[0]);\n",
    "artists2 = hist2.plot1d(label='axion $m_a = 1$ MeV', color = colors[1]);\n",
    "artists7 = hist8.plot1d(label='axion $m_a = 1$ keV', color = colors[2]);\n",
    "artists8 = hist7.plot1d(label='axion $m_a = 1$ GeV', color = colors[3]);\n",
    "artists9 = hist9.plot1d(label='axion $m_a = 1$ TeV', color = colors[4]);\n",
    "ax = artists1[0].stairs.axes;\n",
    "ax.set_yscale(\"linear\");\n",
    "ax.set_xlabel(\"leading $p_T$ [GeV]\");\n",
    "ax.set_ylabel(\"unweighted events\");\n",
    "ax.legend()"
   ]
  },
  {
   "cell_type": "code",
   "execution_count": null,
   "id": "febf12df",
   "metadata": {},
   "outputs": [],
   "source": []
  }
 ],
 "metadata": {
  "kernelspec": {
   "display_name": "Python 3 (ipykernel)",
   "language": "python",
   "name": "python3"
  },
  "language_info": {
   "codemirror_mode": {
    "name": "ipython",
    "version": 3
   },
   "file_extension": ".py",
   "mimetype": "text/x-python",
   "name": "python",
   "nbconvert_exporter": "python",
   "pygments_lexer": "ipython3",
   "version": "3.8.13"
  }
 },
 "nbformat": 4,
 "nbformat_minor": 5
}
