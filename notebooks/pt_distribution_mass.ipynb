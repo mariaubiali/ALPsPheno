{
 "cells": [
  {
   "cell_type": "code",
   "execution_count": 163,
   "id": "7fd13955",
   "metadata": {},
   "outputs": [],
   "source": [
    "import awkward as ak\n",
    "import matplotlib.pyplot as plt\n",
    "import hist\n",
    "import numpy as np\n",
    "import vector\n",
    "import os\n",
    "\n",
    "import pylhe"
   ]
  },
  {
   "cell_type": "code",
   "execution_count": 164,
   "id": "b96fa6d6",
   "metadata": {},
   "outputs": [],
   "source": [
    "import seaborn as sns\n",
    "colors = sns.color_palette(\"colorblind\", 8)"
   ]
  },
  {
   "cell_type": "code",
   "execution_count": 165,
   "id": "59599e91",
   "metadata": {},
   "outputs": [
    {
     "data": {
      "text/html": [
       "<svg  width=\"440\" height=\"55\"><rect x=\"0\" y=\"0\" width=\"55\" height=\"55\" style=\"fill:#0173b2;stroke-width:2;stroke:rgb(255,255,255)\"/><rect x=\"55\" y=\"0\" width=\"55\" height=\"55\" style=\"fill:#de8f05;stroke-width:2;stroke:rgb(255,255,255)\"/><rect x=\"110\" y=\"0\" width=\"55\" height=\"55\" style=\"fill:#029e73;stroke-width:2;stroke:rgb(255,255,255)\"/><rect x=\"165\" y=\"0\" width=\"55\" height=\"55\" style=\"fill:#d55e00;stroke-width:2;stroke:rgb(255,255,255)\"/><rect x=\"220\" y=\"0\" width=\"55\" height=\"55\" style=\"fill:#cc78bc;stroke-width:2;stroke:rgb(255,255,255)\"/><rect x=\"275\" y=\"0\" width=\"55\" height=\"55\" style=\"fill:#ca9161;stroke-width:2;stroke:rgb(255,255,255)\"/><rect x=\"330\" y=\"0\" width=\"55\" height=\"55\" style=\"fill:#fbafe4;stroke-width:2;stroke:rgb(255,255,255)\"/><rect x=\"385\" y=\"0\" width=\"55\" height=\"55\" style=\"fill:#949494;stroke-width:2;stroke:rgb(255,255,255)\"/></svg>"
      ],
      "text/plain": [
       "[(0.00392156862745098, 0.45098039215686275, 0.6980392156862745),\n",
       " (0.8705882352941177, 0.5607843137254902, 0.0196078431372549),\n",
       " (0.00784313725490196, 0.6196078431372549, 0.45098039215686275),\n",
       " (0.8352941176470589, 0.3686274509803922, 0.0),\n",
       " (0.8, 0.47058823529411764, 0.7372549019607844),\n",
       " (0.792156862745098, 0.5686274509803921, 0.3803921568627451),\n",
       " (0.984313725490196, 0.6862745098039216, 0.8941176470588236),\n",
       " (0.5803921568627451, 0.5803921568627451, 0.5803921568627451)]"
      ]
     },
     "execution_count": 165,
     "metadata": {},
     "output_type": "execute_result"
    }
   ],
   "source": [
    "colors"
   ]
  },
  {
   "cell_type": "markdown",
   "id": "c947ffcb",
   "metadata": {},
   "source": [
    "## General parameters"
   ]
  },
  {
   "cell_type": "code",
   "execution_count": 166,
   "id": "f35111dd",
   "metadata": {},
   "outputs": [],
   "source": [
    "lumi = 13.3e3 #luminosity in inverse picobars"
   ]
  },
  {
   "cell_type": "code",
   "execution_count": 167,
   "id": "d3926b54",
   "metadata": {},
   "outputs": [],
   "source": [
    "num_bins = 50\n",
    "max_bins = 800"
   ]
  },
  {
   "cell_type": "markdown",
   "id": "b16daeb4",
   "metadata": {},
   "source": [
    "## Functions to read from event files and produce histograms"
   ]
  },
  {
   "cell_type": "code",
   "execution_count": 168,
   "id": "43b6bc7c",
   "metadata": {},
   "outputs": [],
   "source": [
    "def read_sigma_nevents(dirname):\n",
    "    filename = dirname + dirname.split('/')[-2]+'_tag_1_banner.txt'\n",
    "    with open(filename,'r') as f:\n",
    "        data = f.readlines()\n",
    "    f.close()\n",
    "    sigma = float(data[-4].split(' ')[-1])\n",
    "    nevents = float(data[-5].split(' ')[-1])\n",
    "    return sigma, nevents"
   ]
  },
  {
   "cell_type": "code",
   "execution_count": 173,
   "id": "17ae1fb2",
   "metadata": {},
   "outputs": [],
   "source": [
    "def produce_histogram(dirname, scale):\n",
    "    \n",
    "    pylhe.register_awkward()\n",
    "    \n",
    "    filename = dirname + 'unweighted_events.lhe'\n",
    "    arr = pylhe.to_awkward(pylhe.read_lhe_with_attributes(filename))\n",
    "    \n",
    "    sigma, nevents = read_sigma_nevents(dirname)\n",
    "    ww = sigma*lumi/nevents\n",
    "    \n",
    "    leading_pt = np.zeros(int(nevents))\n",
    "    for i in range(0,int(nevents),1):\n",
    "        leading_pt[i] = max(arr.particles.vector[i,2].pt, arr.particles.vector[i,3].pt)\n",
    "                           \n",
    "    axis0 = hist.axis.Regular(bins=num_bins, start=0, stop=max_bins, name=\"p_T\")\n",
    "    storage = hist.storage.Weight()\n",
    "    hist0 = hist.Hist(axis0, storage=storage)\n",
    "    hist0.fill(leading_pt, weight=ww*scale)\n",
    "    \n",
    "    return hist0"
   ]
  },
  {
   "cell_type": "markdown",
   "id": "9ae9a4fd",
   "metadata": {},
   "source": [
    "## Set directories"
   ]
  },
  {
   "cell_type": "code",
   "execution_count": 174,
   "id": "f4941755",
   "metadata": {},
   "outputs": [],
   "source": [
    "# SM pp->ttbar\n",
    "dir_ttbar = os.path.expanduser('~/Documents/MadGraph/pptt/Events/run_01/')\n",
    "# pp -> ttbar+ax, m_a = 1MeV\n",
    "dir_ttbaraxM1MeV = os.path.expanduser('~/Documents/MadGraph/ppttax/Events/run_01/')\n",
    "# pp -> ttbar+ax, m_a = 1keV\n",
    "dir_ttbaraxM1keV = os.path.expanduser('~/Documents/MadGraph/ppttax/Events/run_07/')\n",
    "# pp -> ttbar+ax, m_a = 1TeV\n",
    "dir_ttbaraxM1TeV = os.path.expanduser('~/Documents/MadGraph/ppttax/Events/run_08/')\n",
    "# pp -> ttbar+ax, m_a = 1eV\n",
    "dir_ttbaraxM1eV = os.path.expanduser('~/Documents/MadGraph/ppttax/Events/run_09/')\n",
    "# pp -> ttbar+ax, m_a = 10keV\n",
    "dir_ttbaraxM10eV = os.path.expanduser('~/Documents/MadGraph/ppttax/Events/run_10/')\n",
    "# pp -> ttbar+ax, m_a = 100keV\n",
    "dir_ttbaraxM100eV = os.path.expanduser('~/Documents/MadGraph/ppttax/Events/run_11/')\n",
    "# pp -> ttbar+ax, m_a = 10MeV\n",
    "dir_ttbaraxM10MeV = os.path.expanduser('~/Documents/MadGraph/ppttax/Events/run_12/')\n",
    "# pp -> ttbar+ax, m_a = 100MeV\n",
    "dir_ttbaraxM100MeV = os.path.expanduser('~/Documents/MadGraph/ppttax/Events/run_13/')\n",
    "# pp -> ttbar+ax, m_a = 500MeV\n",
    "dir_ttbaraxM500MeV = os.path.expanduser('~/Documents/MadGraph/ppttax/Events/run_14/')\n",
    "# pp -> ttbar+ax, m_a = 900MeV\n",
    "dir_ttbaraxM900MeV = os.path.expanduser('~/Documents/MadGraph/ppttax/Events/run_15/')\n",
    "# pp -> ttbar+ax, m_a = 1GeV\n",
    "dir_ttbaraxM1GeV = os.path.expanduser('~/Documents/MadGraph/ppttax/Events/run_16/')\n",
    "# pp -> ttbar+ax, m_a = 10GeV\n",
    "dir_ttbaraxM10GeV = os.path.expanduser('~/Documents/MadGraph/ppttax/Events/run_17/')\n",
    "# pp -> ttbar+ax, m_a = 100GeV\n",
    "dir_ttbaraxM100GeV = os.path.expanduser('~/Documents/MadGraph/ppttax/Events/run_18/')"
   ]
  },
  {
   "cell_type": "markdown",
   "id": "f5bf03c6",
   "metadata": {},
   "source": [
    "## Large mass window"
   ]
  },
  {
   "cell_type": "code",
   "execution_count": 175,
   "id": "71509d96",
   "metadata": {},
   "outputs": [],
   "source": [
    "hist0 = produce_histogram(dir_ttbar, 1) # SM\n",
    "hist1 = produce_histogram(dir_ttbaraxM1keV, 1e5) # 1 keV\n",
    "hist2 = produce_histogram(dir_ttbaraxM1MeV, 1e5) # 1 MeV\n",
    "hist3 = produce_histogram(dir_ttbaraxM1GeV, 1e5) # 1 GeV\n",
    "hist4 = produce_histogram(dir_ttbaraxM1TeV, 1e7) # 1 TeV"
   ]
  },
  {
   "cell_type": "code",
   "execution_count": 176,
   "id": "cb619818",
   "metadata": {},
   "outputs": [
    {
     "data": {
      "text/plain": [
       "<matplotlib.legend.Legend at 0x7fdcff9ce5b0>"
      ]
     },
     "execution_count": 176,
     "metadata": {},
     "output_type": "execute_result"
    },
    {
     "data": {
      "image/png": "[encoded data removed]",
      "text/plain": [
       "<Figure size 432x288 with 1 Axes>"
      ]
     },
     "metadata": {
      "needs_background": "light"
     },
     "output_type": "display_data"
    }
   ],
   "source": [
    "artists0 = hist0.plot1d(label='SM pp -> ttbar', color = colors[0]);\n",
    "artists1 = hist1.plot1d(label='pp -> ttbar+ax $m_a = 1$ keV (scale e5)', color = colors[1]);\n",
    "artists2 = hist2.plot1d(label='pp -> ttbar+ax $m_a = 1$ MeV (scale e5)', color = colors[2]);\n",
    "artists3 = hist3.plot1d(label='pp -> ttbar+ax $m_a = 1$ GeV (scale e5)', color = colors[3]);\n",
    "artists4 = hist4.plot1d(label='pp -> ttbar+ax $m_a = 1$ TeV (scale e7)', color = colors[4]);\n",
    "\n",
    "ax = artists0[0].stairs.axes;\n",
    "ax.set_yscale(\"linear\");\n",
    "ax.set_xlabel(\"leading $p_T$ [GeV]\");\n",
    "ax.set_ylabel(\"count\");\n",
    "ax.legend()"
   ]
  },
  {
   "cell_type": "markdown",
   "id": "343f9f53",
   "metadata": {},
   "source": [
    "Between 1eV and 1GeV the cross section and thus the curves do almost not change at all. This also implies that for $m_a \\le 1 GeV$ the derived constraints will be basically independent of the axion mass.\n",
    "For 1 TeV a suppresion is visible. We will investigate next what happens between 1 GeV and 1 TeV."
   ]
  },
  {
   "cell_type": "markdown",
   "id": "1ba3b908",
   "metadata": {},
   "source": [
    "## Smaller mass window between $m_a = 1$ GeV and $m_a = 1$ TeV"
   ]
  },
  {
   "cell_type": "code",
   "execution_count": 177,
   "id": "3ec75b59",
   "metadata": {},
   "outputs": [],
   "source": [
    "hist0 = produce_histogram(dir_ttbar, 1) # SM\n",
    "hist1 = produce_histogram(dir_ttbaraxM1GeV, 1e5) # 1 GeV\n",
    "hist2 = produce_histogram(dir_ttbaraxM10GeV, 1e5) # 10 GeV\n",
    "hist3 = produce_histogram(dir_ttbaraxM100GeV, 1e5) # 100 GeV\n",
    "hist4 = produce_histogram(dir_ttbaraxM1TeV, 1e7) # 1 TeV"
   ]
  },
  {
   "cell_type": "code",
   "execution_count": 178,
   "id": "d19fd34b",
   "metadata": {},
   "outputs": [
    {
     "data": {
      "text/plain": [
       "<matplotlib.legend.Legend at 0x7fdcf782f0a0>"
      ]
     },
     "execution_count": 178,
     "metadata": {},
     "output_type": "execute_result"
    },
    {
     "data": {
      "image/png": "[encoded data removed]",
      "text/plain": [
       "<Figure size 432x288 with 1 Axes>"
      ]
     },
     "metadata": {
      "needs_background": "light"
     },
     "output_type": "display_data"
    }
   ],
   "source": [
    "artists0 = hist0.plot1d(label='SM pp -> ttbar', color = colors[0]);\n",
    "artists1 = hist1.plot1d(label='pp -> ttbar+ax $m_a = 1$ GeV (scale e5)', color = colors[1]);\n",
    "artists2 = hist2.plot1d(label='pp -> ttbar+ax $m_a = 1$ 10 GeV (scale e5)', color = colors[2]);\n",
    "artists3 = hist3.plot1d(label='pp -> ttbar+ax $m_a = 1$ 100 GeV (scale e5)', color = colors[3]);\n",
    "artists4 = hist4.plot1d(label='pp -> ttbar+ax $m_a = 1$ TeV (scale e7)', color = colors[4]);\n",
    "\n",
    "ax = artists0[0].stairs.axes;\n",
    "ax.set_yscale(\"linear\");\n",
    "ax.set_xlabel(\"leading $p_T$ [GeV]\");\n",
    "ax.set_ylabel(\"count\");\n",
    "ax.legend()"
   ]
  },
  {
   "cell_type": "markdown",
   "id": "3e5b2cf9",
   "metadata": {},
   "source": [
    "The curves are easy to distinguish now as the cross section changes."
   ]
  }
 ],
 "metadata": {
  "kernelspec": {
   "display_name": "Python 3 (ipykernel)",
   "language": "python",
   "name": "python3"
  },
  "language_info": {
   "codemirror_mode": {
    "name": "ipython",
    "version": 3
   },
   "file_extension": ".py",
   "mimetype": "text/x-python",
   "name": "python",
   "nbconvert_exporter": "python",
   "pygments_lexer": "ipython3",
   "version": "3.8.13"
  }
 },
 "nbformat": 4,
 "nbformat_minor": 5
}
