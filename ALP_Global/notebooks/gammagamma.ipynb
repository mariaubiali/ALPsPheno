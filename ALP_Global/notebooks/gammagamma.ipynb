{
 "cells": [
  {
   "cell_type": "code",
   "execution_count": 1,
   "id": "33586981-507d-4188-b295-fe52dcc34f01",
   "metadata": {},
   "outputs": [],
   "source": [
    "import pandas as pd\n",
    "import datetime\n",
    "import seaborn as sns\n",
    "import matplotlib.pyplot as plt\n",
    "from matplotlib import rcParams\n",
    "plt.rcParams['text.usetex'] = True\n",
    "plt.rcParams['text.latex.preamble'] = r'\\usepackage{lmodern}'  # Usar Latin Modern Roman\n",
    "rcParams['font.family'] = 'serif'\n",
    "rcParams['font.serif'] = ['Latin Modern Roman']\n",
    "import numpy as np\n",
    "from tensorflow import keras\n",
    "#sns.set_style('dark')\n",
    "plt.rcParams['font.size'] = 16\n",
    "import json\n",
    "import os\n",
    "import copy\n",
    "from IPython.display import display, HTML\n",
    "\n",
    "# from sklearn.metrics import mean_squared_error\n",
    "# from sklearn.metrics import r2_score\n",
    "\n",
    "import scipy as sp\n",
    "from scipy.optimize import curve_fit\n",
    "\n",
    "import uproot\n",
    "import awkward as ak\n",
    "\n",
    "import awkward as ak\n",
    "import matplotlib.pyplot as plt\n",
    "import hist\n",
    "import math\n",
    "import numpy as np\n",
    "import vector\n",
    "import pylhe\n",
    "import seaborn as sns\n",
    "from matplotlib import colormaps"
   ]
  },
  {
   "cell_type": "code",
   "execution_count": 2,
   "id": "68fef40a-de69-45c7-8201-0e12836b7c59",
   "metadata": {},
   "outputs": [
    {
     "name": "stdout",
     "output_type": "stream",
     "text": [
      "The operation couldn’t be completed. Unable to locate a Java Runtime that supports apt.\n",
      "Please visit http://www.java.com for information on installing Java.\n",
      "\n"
     ]
    }
   ],
   "source": [
    "!apt install texlive-fonts-recommended texlive-fonts-extra cm-super dvipng"
   ]
  },
  {
   "cell_type": "code",
   "execution_count": 3,
   "id": "64502202-be7d-486d-8306-67b138c95953",
   "metadata": {},
   "outputs": [
    {
     "name": "stdout",
     "output_type": "stream",
     "text": [
      "Requirement already satisfied: latex in /Users/esser/anaconda3/lib/python3.12/site-packages (0.7.0)\n",
      "Requirement already satisfied: tempdir in /Users/esser/anaconda3/lib/python3.12/site-packages (from latex) (0.7.1)\n",
      "Requirement already satisfied: data in /Users/esser/anaconda3/lib/python3.12/site-packages (from latex) (0.4)\n",
      "Requirement already satisfied: future in /Users/esser/anaconda3/lib/python3.12/site-packages (from latex) (1.0.0)\n",
      "Requirement already satisfied: shutilwhich in /Users/esser/anaconda3/lib/python3.12/site-packages (from latex) (1.1.0)\n",
      "Requirement already satisfied: six in /Users/esser/anaconda3/lib/python3.12/site-packages (from data->latex) (1.16.0)\n",
      "Requirement already satisfied: decorator in /Users/esser/anaconda3/lib/python3.12/site-packages (from data->latex) (5.1.1)\n",
      "Requirement already satisfied: funcsigs in /Users/esser/anaconda3/lib/python3.12/site-packages (from data->latex) (1.0.2)\n",
      "Note: you may need to restart the kernel to use updated packages.\n"
     ]
    }
   ],
   "source": [
    "%pip install latex"
   ]
  },
  {
   "cell_type": "code",
   "execution_count": 4,
   "id": "88c56b09-5bb9-4412-8da8-f1c310cae4dc",
   "metadata": {},
   "outputs": [
    {
     "data": {
      "text/plain": [
       "'/Users/esser/Documents/PROJECTS/ALPsPheno/ALP GLOBAL/github/notebooks'"
      ]
     },
     "execution_count": 4,
     "metadata": {},
     "output_type": "execute_result"
    }
   ],
   "source": [
    "os.getcwd()"
   ]
  },
  {
   "cell_type": "markdown",
   "id": "09703be4-3358-4153-b443-3061b5096003",
   "metadata": {},
   "source": [
    "# Signal events"
   ]
  },
  {
   "cell_type": "markdown",
   "id": "b6b4d210-6407-43c8-b44f-d73c993ebad5",
   "metadata": {},
   "source": [
    "## Read in the data"
   ]
  },
  {
   "cell_type": "code",
   "execution_count": 5,
   "id": "adfc1da8-8302-4b66-af3c-f3c59528fb7a",
   "metadata": {},
   "outputs": [],
   "source": [
    "# run_02: with cut in $m_{\\gamma \\gamma} > 200$ GeV\n",
    "# run_08: no cut in $m_{\\gamma \\gamma}$\n",
    "\n",
    "fileg = \"../MadGraph/ppaxgammagamma/Events/run_08/unweighted_events.lhe\"\n",
    "events = pylhe.to_awkward(pylhe.read_lhe_with_attributes(fileg))"
   ]
  },
  {
   "cell_type": "markdown",
   "id": "7eca4450-cf95-4aa6-94d6-524fb262f62b",
   "metadata": {},
   "source": [
    "Identify the particles"
   ]
  },
  {
   "cell_type": "code",
   "execution_count": 6,
   "id": "2b3dff5e-2e9d-4102-893c-bed0e80d5691",
   "metadata": {},
   "outputs": [],
   "source": [
    "g1=events.particles.vector[:,0]\n",
    "g2=events.particles.vector[:,1]\n",
    "ga1=events.particles.vector[:,-1]\n",
    "ga2=events.particles.vector[:,-2]\n",
    "\n",
    "gatot=ga1+ga2"
   ]
  },
  {
   "cell_type": "markdown",
   "id": "c43da8b4-fbbf-4331-a527-5b8d8ce8811d",
   "metadata": {},
   "source": [
    "Function to read in the total cross section and total number of events from the lhe file. Note that for different processes the rows may shift."
   ]
  },
  {
   "cell_type": "code",
   "execution_count": 7,
   "id": "74f49db5-24ab-4ace-8681-c338a60db3ed",
   "metadata": {},
   "outputs": [],
   "source": [
    "def read_sigma_nevents(filename):\n",
    "    with open(filename,'r') as f:\n",
    "        data = f.readlines()\n",
    "    f.close()\n",
    "    sigma = float(data[391].split(' ')[13])\n",
    "    nevents = float(data[149].split(' ')[2])\n",
    "    return sigma, nevents"
   ]
  },
  {
   "cell_type": "code",
   "execution_count": 8,
   "id": "40ca326f-fd73-4485-a4f7-146fa4a26536",
   "metadata": {},
   "outputs": [],
   "source": [
    "(sigma, Ntot) = read_sigma_nevents(fileg)"
   ]
  },
  {
   "cell_type": "code",
   "execution_count": 9,
   "id": "842a8f99-217c-4b55-8deb-490e42e7b74c",
   "metadata": {},
   "outputs": [
    {
     "data": {
      "text/plain": [
       "7.520500628842906"
      ]
     },
     "execution_count": 9,
     "metadata": {},
     "output_type": "execute_result"
    }
   ],
   "source": [
    "sigma"
   ]
  },
  {
   "cell_type": "markdown",
   "id": "9fc6aa16-dc91-4cdf-9556-0dfb2c80dc68",
   "metadata": {},
   "source": [
    "## Data Visualisation!"
   ]
  },
  {
   "cell_type": "code",
   "execution_count": 10,
   "id": "da7fb92e-10be-4664-847d-fdb9050f0306",
   "metadata": {},
   "outputs": [
    {
     "data": {
      "text/plain": [
       "80.18867501155701"
      ]
     },
     "execution_count": 10,
     "metadata": {},
     "output_type": "execute_result"
    }
   ],
   "source": [
    "# the cut in the invariant mass works\n",
    "min(gatot.mass)"
   ]
  },
  {
   "cell_type": "markdown",
   "id": "c76a5311-41be-4b68-8bf1-c2386f8df22a",
   "metadata": {},
   "source": [
    "Plot the distribution for the invariant mass $m_{\\gamma \\gamma}$"
   ]
  },
  {
   "cell_type": "code",
   "execution_count": 11,
   "id": "244b8334-4d99-4f42-82cf-9a153df9c8ff",
   "metadata": {},
   "outputs": [
    {
     "data": {
      "image/png": "[encoded data removed]",
      "text/plain": [
       "<Figure size 640x480 with 1 Axes>"
      ]
     },
     "metadata": {},
     "output_type": "display_data"
    }
   ],
   "source": [
    "# histogram for NP signal (n = number of events per bin)\n",
    "# density=True gives bin's raw count divided by the total number of counts and the bin width, i.e. density = counts / (sum(counts) * np.diff(bins)\n",
    "n, bins, _ =plt.hist(gatot.mass,bins=30,range=(0,2000),label='non-linear axion', alpha=0.5,density=False,color = \"blue\", ec=\"k\",histtype='stepfilled',log=False)\n",
    "plt.xlim(0, 2000)\n",
    "plt.tight_layout()\n",
    "#plt.title(r'$m_{\\gamma \\gamma}$ ',fontsize=15)\n",
    "plt.xlabel(r'$m_{\\gamma \\gamma}$ (GeV)',fontsize=15)\n",
    "plt.ylabel(r'events per bin',fontsize=15)\n",
    "#plt.savefig(\"mgammagamma.pdf\")\n",
    "plt.show()"
   ]
  },
  {
   "cell_type": "code",
   "execution_count": 12,
   "id": "d0f72ac6-b7cb-4f71-b68d-dcdc1ecedc04",
   "metadata": {},
   "outputs": [
    {
     "data": {
      "text/plain": [
       "98654.0"
      ]
     },
     "execution_count": 12,
     "metadata": {},
     "output_type": "execute_result"
    }
   ],
   "source": [
    "n.sum()"
   ]
  },
  {
   "cell_type": "code",
   "execution_count": 13,
   "id": "56e1dc34-e16a-4326-a7d9-1d0a80e7fa8f",
   "metadata": {},
   "outputs": [
    {
     "data": {
      "text/plain": [
       "0.98654"
      ]
     },
     "execution_count": 13,
     "metadata": {},
     "output_type": "execute_result"
    }
   ],
   "source": [
    "n.sum()/Ntot"
   ]
  },
  {
   "cell_type": "code",
   "execution_count": 14,
   "id": "63483de4-4011-4b20-a0f7-5897b0becf1f",
   "metadata": {},
   "outputs": [
    {
     "data": {
      "text/html": [
       "<pre>[0,\n",
       " 0,\n",
       " 0,\n",
       " 0,\n",
       " 0,\n",
       " 0,\n",
       " 0,\n",
       " 0,\n",
       " 0,\n",
       " 0,\n",
       " ...,\n",
       " 0,\n",
       " 0,\n",
       " 0,\n",
       " 0,\n",
       " 0,\n",
       " 0,\n",
       " 0,\n",
       " 0,\n",
       " 0]\n",
       "----------------------\n",
       "type: 100000 * float64</pre>"
      ],
      "text/plain": [
       "<Array [0, 0, 0, 0, 0, 0, 0, ..., 0, 0, 0, 0, 0, 0, 0] type='100000 * float64'>"
      ]
     },
     "execution_count": 14,
     "metadata": {},
     "output_type": "execute_result"
    }
   ],
   "source": [
    "(ga1+ga2).pt"
   ]
  },
  {
   "cell_type": "markdown",
   "id": "f79a6329-5c84-40c8-b717-c66c4dd59f8c",
   "metadata": {},
   "source": [
    "The transverse part of $\\gamma_1$ is always minus the transverse part of $\\gamma_2$."
   ]
  },
  {
   "cell_type": "code",
   "execution_count": 15,
   "id": "1b41307c-6bc1-4916-90ef-63313c480c9d",
   "metadata": {},
   "outputs": [
    {
     "data": {
      "text/plain": [
       "2774.131408678528"
      ]
     },
     "execution_count": 15,
     "metadata": {},
     "output_type": "execute_result"
    }
   ],
   "source": [
    "max(ga1.pt)"
   ]
  },
  {
   "cell_type": "code",
   "execution_count": 16,
   "id": "8e20f261-4bf6-4b24-9de2-ecf2e780f1ac",
   "metadata": {},
   "outputs": [
    {
     "data": {
      "text/plain": [
       "40.00047459917254"
      ]
     },
     "execution_count": 16,
     "metadata": {},
     "output_type": "execute_result"
    }
   ],
   "source": [
    "min(ga2.pt)"
   ]
  },
  {
   "cell_type": "code",
   "execution_count": 17,
   "id": "fc4a8089-2480-4d0b-bb9a-30396244f7e2",
   "metadata": {},
   "outputs": [
    {
     "data": {
      "text/html": [
       "<pre>[{x: -225, y: 61, z: -335, t: 408},\n",
       " {x: -442, y: 25.7, z: 262, t: 514},\n",
       " {x: -134, y: -73.7, z: 229, t: 276},\n",
       " {x: 263, y: 38.3, z: -20, t: 267},\n",
       " {x: 52.9, y: 48, z: 161, t: 176},\n",
       " {x: 612, y: 718, z: 714, t: 1.18e+03},\n",
       " {x: -78.9, y: 76.7, z: -33.9, t: 115},\n",
       " {x: 99.1, y: -3.11, z: -64.2, t: 118},\n",
       " {x: -40.9, y: 60.5, z: 36, t: 81.4},\n",
       " {x: -130, y: 86.1, z: -726, t: 743}]\n",
       "---------------------------------------\n",
       "type: 10 * Momentum4D[\n",
       "    x: float64,\n",
       "    y: float64,\n",
       "    z: float64,\n",
       "    t: float64\n",
       "]</pre>"
      ],
      "text/plain": [
       "<MomentumArray4D [{x: -225, y: 61, z: -335, ...}, ...] type='10 * Momentum4...'>"
      ]
     },
     "execution_count": 17,
     "metadata": {},
     "output_type": "execute_result"
    }
   ],
   "source": [
    "ga1[0:10]"
   ]
  },
  {
   "cell_type": "code",
   "execution_count": 18,
   "id": "8705e268-416c-4dd1-b11a-27924c242684",
   "metadata": {},
   "outputs": [
    {
     "data": {
      "text/html": [
       "<pre>[{x: 225, y: -61, z: -699, t: 737},\n",
       " {x: 442, y: -25.7, z: 441, t: 625},\n",
       " {x: 134, y: 73.7, z: -76.1, t: 171},\n",
       " {x: -263, y: -38.3, z: -23.5, t: 267},\n",
       " {x: -52.9, y: -48, z: 251, t: 261},\n",
       " {x: -612, y: -718, z: 1.55e+03, t: 1.81e+03},\n",
       " {x: 78.9, y: -76.7, z: -90.8, t: 143},\n",
       " {x: -99.1, y: 3.11, z: 242, t: 261},\n",
       " {x: 40.9, y: -60.5, z: 11.5, t: 73.9},\n",
       " {x: 130, y: -86.1, z: -35.1, t: 160}]\n",
       "----------------------------------------------\n",
       "type: 10 * Momentum4D[\n",
       "    x: float64,\n",
       "    y: float64,\n",
       "    z: float64,\n",
       "    t: float64\n",
       "]</pre>"
      ],
      "text/plain": [
       "<MomentumArray4D [{x: 225, y: -61, z: -699, ...}, ...] type='10 * Momentum4...'>"
      ]
     },
     "execution_count": 18,
     "metadata": {},
     "output_type": "execute_result"
    }
   ],
   "source": [
    "ga2[0:10]"
   ]
  },
  {
   "cell_type": "code",
   "execution_count": 19,
   "id": "fca63183-5f77-46ae-aeca-7a6ab1819810",
   "metadata": {},
   "outputs": [
    {
     "data": {
      "image/png": "[encoded data removed]",
      "text/plain": [
       "<Figure size 640x480 with 1 Axes>"
      ]
     },
     "metadata": {},
     "output_type": "display_data"
    }
   ],
   "source": [
    "# histogram for NP signal (n = number of events per bin)\n",
    "# density=True gives bin's raw count divided by the total number of counts and the bin width, i.e. density = counts / (sum(counts) * np.diff(bins)\n",
    "n_pt, bins_pt, _ =plt.hist(ga1.pt,bins=40,range=(0,1000),label='non-linear axion', alpha=0.5,density=False,color = \"blue\", ec=\"k\",histtype='stepfilled',log=False)\n",
    "plt.xlim(0, 1000)\n",
    "plt.tight_layout()\n",
    "plt.xlabel(r'$p_{T,1}$ ',fontsize=15)\n",
    "plt.ylabel(r'events per bin',fontsize=15)\n",
    "#plt.savefig(\"mgammagamma.pdf\")\n",
    "plt.show()"
   ]
  },
  {
   "cell_type": "code",
   "execution_count": 20,
   "id": "475b213f-1e78-4f28-8fd1-09d7f98513fc",
   "metadata": {},
   "outputs": [
    {
     "data": {
      "text/plain": [
       "99271.0"
      ]
     },
     "execution_count": 20,
     "metadata": {},
     "output_type": "execute_result"
    }
   ],
   "source": [
    "n_pt.sum()"
   ]
  },
  {
   "cell_type": "markdown",
   "id": "2614aeec-fda4-4b23-a4e3-8ae11d8f11a6",
   "metadata": {},
   "source": [
    "Distribution in $\\Delta R_{\\gamma \\gamma}$: The photons are well separated, even though we only applied a cut of $\\Delta R_{\\gamma \\gamma} > 0.4$"
   ]
  },
  {
   "cell_type": "code",
   "execution_count": 21,
   "id": "b84a32e0-0499-4fff-a990-9571decf7dab",
   "metadata": {},
   "outputs": [
    {
     "data": {
      "text/plain": [
       "3.141592653602353"
      ]
     },
     "execution_count": 21,
     "metadata": {},
     "output_type": "execute_result"
    }
   ],
   "source": [
    "min(ga1.deltaR(ga2))"
   ]
  },
  {
   "cell_type": "code",
   "execution_count": 22,
   "id": "d0233650-7ae9-4bd5-8cd7-ba0424e55bd6",
   "metadata": {},
   "outputs": [
    {
     "data": {
      "image/png": "[encoded data removed]",
      "text/plain": [
       "<Figure size 640x480 with 1 Axes>"
      ]
     },
     "metadata": {},
     "output_type": "display_data"
    }
   ],
   "source": [
    "# histogram for NP signal (n = number of events per bin)\n",
    "# density=True gives bin's raw count divided by the total number of counts and the bin width, i.e. density = counts / (sum(counts) * np.diff(bins)\n",
    "n_dR, bins_dR, _ =plt.hist(ga1.deltaR(ga2),bins=20,range=(0,6),label='non-linear axion', alpha=0.5,density=False,color = \"blue\", ec=\"k\",histtype='stepfilled',log=False)\n",
    "plt.xlim(0, 6)\n",
    "plt.tight_layout()\n",
    "plt.xlabel(r'$\\Delta R_{\\gamma \\gamma}$ ',fontsize=15)\n",
    "plt.ylabel(r'events per bin',fontsize=15)\n",
    "#plt.savefig(\"mgammagamma.pdf\")\n",
    "plt.show()"
   ]
  },
  {
   "cell_type": "code",
   "execution_count": 23,
   "id": "106d6673-a2c3-4a58-aa52-03743b8b042d",
   "metadata": {},
   "outputs": [
    {
     "data": {
      "text/plain": [
       "2.3698579578164307"
      ]
     },
     "execution_count": 23,
     "metadata": {},
     "output_type": "execute_result"
    }
   ],
   "source": [
    "max(ga1.rapidity)"
   ]
  },
  {
   "cell_type": "code",
   "execution_count": 24,
   "id": "ae8592cf-1b3b-4285-8b75-98727f3c14c8",
   "metadata": {},
   "outputs": [
    {
     "data": {
      "text/plain": [
       "2.369966908540816"
      ]
     },
     "execution_count": 24,
     "metadata": {},
     "output_type": "execute_result"
    }
   ],
   "source": [
    "max(ga2.rapidity)"
   ]
  },
  {
   "cell_type": "code",
   "execution_count": 25,
   "id": "be108f78-0e10-4c07-b2e4-3456a41753f3",
   "metadata": {},
   "outputs": [
    {
     "data": {
      "image/png": "[encoded data removed]",
      "text/plain": [
       "<Figure size 640x480 with 1 Axes>"
      ]
     },
     "metadata": {},
     "output_type": "display_data"
    }
   ],
   "source": [
    "# histogram for NP signal (n = number of events per bin)\n",
    "# density=True gives bin's raw count divided by the total number of counts and the bin width, i.e. density = counts / (sum(counts) * np.diff(bins)\n",
    "n_eta, bins_eta, _ =plt.hist(ga1.rapidity,bins=20,range=(-2.4,2.4),label='non-linear axion', alpha=0.5,density=False,color = \"blue\", ec=\"k\",histtype='stepfilled',log=False)\n",
    "plt.xlim(-2.5, 2.5)\n",
    "plt.tight_layout()\n",
    "plt.xlabel(r'$\\eta_{\\gamma_1}$ ',fontsize=15)\n",
    "plt.ylabel(r'events per bin',fontsize=15)\n",
    "#plt.savefig(\"mgammagamma.pdf\")\n",
    "plt.show()"
   ]
  },
  {
   "cell_type": "code",
   "execution_count": 26,
   "id": "ab9bd6d4-2994-4ff3-8814-a1c541f30fab",
   "metadata": {},
   "outputs": [
    {
     "data": {
      "text/plain": [
       "100000.0"
      ]
     },
     "execution_count": 26,
     "metadata": {},
     "output_type": "execute_result"
    }
   ],
   "source": [
    "n_eta.sum()"
   ]
  },
  {
   "cell_type": "markdown",
   "id": "ae39df20-6dc0-4cf2-a915-e50ca6b55bde",
   "metadata": {},
   "source": [
    "# Invariant mass $𝑚_{\\gamma \\gamma}$ distribution"
   ]
  },
  {
   "cell_type": "markdown",
   "id": "5897ff77-12ab-4be7-a2d1-459e40257df5",
   "metadata": {},
   "source": [
    "## Read in data and background from Fig. 11c"
   ]
  },
  {
   "cell_type": "code",
   "execution_count": 27,
   "id": "cd24ceaf-7ab6-4153-a255-916e7d8e761f",
   "metadata": {},
   "outputs": [],
   "source": [
    "#data (rows 10-80)\n",
    "raw_data = pd.read_csv('../MadGraph/ppaxgammagamma/data_gammagamma.csv', sep=',', nrows=71, header=8).values"
   ]
  },
  {
   "cell_type": "code",
   "execution_count": 28,
   "id": "d25aa5fa-4b60-406c-9661-b3f7ee8c20a5",
   "metadata": {},
   "outputs": [
    {
     "data": {
      "text/plain": [
       "71"
      ]
     },
     "execution_count": 28,
     "metadata": {},
     "output_type": "execute_result"
    }
   ],
   "source": [
    "len(raw_data)"
   ]
  },
  {
   "cell_type": "code",
   "execution_count": 29,
   "id": "47c8c88f-e2f6-4733-8076-7a99ee0e80a8",
   "metadata": {},
   "outputs": [
    {
     "data": {
      "text/plain": [
       "7010.0"
      ]
     },
     "execution_count": 29,
     "metadata": {},
     "output_type": "execute_result"
    }
   ],
   "source": [
    "raw_data[-1,0]"
   ]
  },
  {
   "cell_type": "code",
   "execution_count": 30,
   "id": "02682ba5-efe4-48ff-8f41-03b5d19ceec1",
   "metadata": {},
   "outputs": [],
   "source": [
    "mgaga_bin_center = raw_data[:,0]"
   ]
  },
  {
   "cell_type": "code",
   "execution_count": 31,
   "id": "b45c32c5-153e-46fd-8811-2af5b6b095a2",
   "metadata": {},
   "outputs": [
    {
     "data": {
      "text/plain": [
       "array([  16.75,   21.3 ,   23.8 ,   26.  ,   28.05,   30.05,   32.1 ,\n",
       "         34.3 ,   36.6 ,   39.1 ,   41.7 ,   44.5 ,   47.5 ,   50.7 ,\n",
       "         54.1 ,   57.7 ,   61.5 ,   65.5 ,   69.9 ,   74.6 ,   79.5 ,\n",
       "         84.75,   90.25,   96.  ,  102.  ,  108.5 ,  115.25,  122.25,\n",
       "        129.75,  137.25,  145.25,  153.75,  162.25,  171.  ,  180.25,\n",
       "        189.75,  199.75,  210.  ,  220.5 ,  232.  ,  243.5 ,  255.5 ,\n",
       "        268.  ,  280.5 ,  294.  ,  308.  ,  322.5 ,  337.5 ,  353.  ,\n",
       "        369.  ,  385.5 ,  402.5 ,  420.  ,  438.5 ,  457.5 ,  477.  ,\n",
       "        497.5 ,  519.  ,  541.  ,  563.  ,  586.  ,  610.  ,  635.  ,\n",
       "        661.  ,  687.  ,  716.  ,  752.  ,  798.5 ,  862.5 ,  960.  ,\n",
       "       7010.  ])"
      ]
     },
     "execution_count": 31,
     "metadata": {},
     "output_type": "execute_result"
    }
   ],
   "source": [
    "mgaga_bin_center"
   ]
  },
  {
   "cell_type": "code",
   "execution_count": 32,
   "id": "1f2f99fd-7950-4fdd-82e4-a14c4c71caa0",
   "metadata": {},
   "outputs": [],
   "source": [
    "mgaga_bin_lower=raw_data[:,1]"
   ]
  },
  {
   "cell_type": "code",
   "execution_count": 33,
   "id": "4fb68487-e880-42f5-b269-d7879bc34a75",
   "metadata": {},
   "outputs": [],
   "source": [
    "mgaga_bin_upper=raw_data[:,2]"
   ]
  },
  {
   "cell_type": "code",
   "execution_count": 34,
   "id": "b9e9cfb7-2e48-40d0-8949-46ce8cb37a6e",
   "metadata": {},
   "outputs": [],
   "source": [
    "mgaga_bins = np.append(mgaga_bin_lower, mgaga_bin_upper[-1])"
   ]
  },
  {
   "cell_type": "code",
   "execution_count": 35,
   "id": "dab7b824-0080-48d6-b41f-645e825fc50c",
   "metadata": {},
   "outputs": [
    {
     "data": {
      "text/plain": [
       "array([   13.5,    20. ,    22.6,    25. ,    27. ,    29.1,    31. ,\n",
       "          33.2,    35.4,    37.8,    40.4,    43. ,    46. ,    49. ,\n",
       "          52.4,    55.8,    59.6,    63.4,    67.6,    72.2,    77. ,\n",
       "          82. ,    87.5,    93. ,    99. ,   105. ,   112. ,   118.5,\n",
       "         126. ,   133.5,   141. ,   149.5,   158. ,   166.5,   175.5,\n",
       "         185. ,   194.5,   205. ,   215. ,   226. ,   238. ,   249. ,\n",
       "         262. ,   274. ,   287. ,   301. ,   315. ,   330. ,   345. ,\n",
       "         361. ,   377. ,   394. ,   411. ,   429. ,   448. ,   467. ,\n",
       "         487. ,   508. ,   530. ,   552. ,   574. ,   598. ,   622. ,\n",
       "         648. ,   674. ,   700. ,   732. ,   772. ,   825. ,   900. ,\n",
       "        1020. , 13000. ])"
      ]
     },
     "execution_count": 35,
     "metadata": {},
     "output_type": "execute_result"
    }
   ],
   "source": [
    "mgaga_bins"
   ]
  },
  {
   "cell_type": "code",
   "execution_count": 36,
   "id": "1e0249bb-cc1e-4369-8498-34c1083a0011",
   "metadata": {},
   "outputs": [
    {
     "data": {
      "text/plain": [
       "84.75"
      ]
     },
     "execution_count": 36,
     "metadata": {},
     "output_type": "execute_result"
    }
   ],
   "source": [
    "mgaga_bin_center[21]"
   ]
  },
  {
   "cell_type": "code",
   "execution_count": 37,
   "id": "796e78e5-81c8-4e14-a749-6f4239ce0cd4",
   "metadata": {},
   "outputs": [
    {
     "data": {
      "text/plain": [
       "71"
      ]
     },
     "execution_count": 37,
     "metadata": {},
     "output_type": "execute_result"
    }
   ],
   "source": [
    "len(mgaga_bin_center)"
   ]
  },
  {
   "cell_type": "code",
   "execution_count": 38,
   "id": "ed5d7076-a548-4e0e-bdf6-8590dcf2b15f",
   "metadata": {},
   "outputs": [],
   "source": [
    "data = raw_data[:,3]"
   ]
  },
  {
   "cell_type": "code",
   "execution_count": 39,
   "id": "38cefc89-2bd3-4eb7-914b-5212c8cee409",
   "metadata": {},
   "outputs": [
    {
     "data": {
      "text/plain": [
       "71"
      ]
     },
     "execution_count": 39,
     "metadata": {},
     "output_type": "execute_result"
    }
   ],
   "source": [
    "len(data)"
   ]
  },
  {
   "cell_type": "code",
   "execution_count": 40,
   "id": "488416ec-72f8-4f76-929f-e9f789581d74",
   "metadata": {},
   "outputs": [
    {
     "name": "stdout",
     "output_type": "stream",
     "text": [
      "[8.1029e-03 1.8777e-02 2.3359e-02 2.3018e-02 2.9642e-02 2.8385e-02\n",
      " 3.1855e-02 3.4818e-02 3.6239e-02 3.3201e-02 3.3410e-02 4.0789e-02\n",
      " 4.1639e-02 4.6459e-02 4.6581e-02 5.5883e-02 6.1784e-02 7.6128e-02\n",
      " 1.2166e-01 2.5495e-01 3.8486e-01 4.2810e-01 4.2035e-01 3.8503e-01\n",
      " 3.4085e-01 2.9805e-01 2.6119e-01 2.3047e-01 1.9566e-01 1.5638e-01\n",
      " 1.3549e-01 1.1357e-01 9.5813e-02 8.0987e-02 6.8060e-02 5.7413e-02\n",
      " 4.7718e-02 3.9756e-02 3.2742e-02 2.8390e-02 2.3032e-02 1.9383e-02\n",
      " 1.6359e-02 1.3345e-02 1.1714e-02 9.4913e-03 8.0543e-03 6.7986e-03\n",
      " 5.6124e-03 4.6797e-03 3.7002e-03 3.2789e-03 2.7735e-03 2.1960e-03\n",
      " 1.8226e-03 1.5456e-03 1.3746e-03 1.1750e-03 8.2160e-04 7.6731e-04\n",
      " 6.5148e-04 5.3129e-04 3.8804e-04 3.6501e-04 2.9556e-04 2.7553e-04\n",
      " 2.0955e-04 1.3774e-04 1.1936e-04 6.3375e-05 7.8519e-07]\n"
     ]
    }
   ],
   "source": [
    "print(data)"
   ]
  },
  {
   "cell_type": "code",
   "execution_count": 41,
   "id": "112c6d6e-a453-4f21-b6ad-8d1b95d18795",
   "metadata": {},
   "outputs": [],
   "source": [
    "# take for time being only the statistical uncertainty\n",
    "data_unc = raw_data[:,-2]"
   ]
  },
  {
   "cell_type": "code",
   "execution_count": 42,
   "id": "d44bb3ea-96ed-40bd-84eb-79be401523fa",
   "metadata": {},
   "outputs": [
    {
     "name": "stdout",
     "output_type": "stream",
     "text": [
      "[1.0996e-03 2.3062e-03 2.0194e-03 2.7140e-03 2.3449e-03 2.4879e-03\n",
      " 2.2773e-03 2.1061e-03 2.2588e-03 2.1395e-03 2.6504e-03 1.9896e-03\n",
      " 1.9875e-03 1.7705e-03 2.0805e-03 2.1217e-03 2.0595e-03 1.9631e-03\n",
      " 3.0490e-03 4.0742e-03 4.2627e-03 4.7240e-03 4.2589e-03 4.0202e-03\n",
      " 3.5893e-03 2.3245e-03 2.8523e-03 2.2125e-03 1.8497e-03 1.5680e-03\n",
      " 1.4216e-03 1.1951e-03 1.2343e-03 8.5693e-04 9.3765e-04 7.7839e-04\n",
      " 5.8390e-04 6.4166e-04 5.6186e-04 4.9018e-04 5.0571e-04 3.6955e-04\n",
      " 3.9461e-04 3.7173e-04 2.7469e-04 2.8168e-04 2.4850e-04 1.9017e-04\n",
      " 1.5008e-04 1.6411e-04 1.2918e-04 1.3498e-04 1.0799e-04 8.9560e-05\n",
      " 7.7861e-05 8.0691e-05 6.4596e-05 6.2690e-05 5.3697e-05 5.2731e-05\n",
      " 4.4382e-05 3.8631e-05 3.8113e-05 2.7932e-05 3.1849e-05 1.6751e-05\n",
      " 1.5775e-05 1.0804e-05 6.3330e-06 4.9955e-06 6.4329e-08]\n"
     ]
    }
   ],
   "source": [
    "print(data_unc)"
   ]
  },
  {
   "cell_type": "code",
   "execution_count": 43,
   "id": "f1faa9dd-c2e7-4923-92ec-78755fd3bc10",
   "metadata": {},
   "outputs": [
    {
     "data": {
      "text/plain": [
       "array([9.202500e-03, 2.108320e-02, 2.537840e-02, 2.573200e-02,\n",
       "       3.198690e-02, 3.087290e-02, 3.413230e-02, 3.692410e-02,\n",
       "       3.849780e-02, 3.534050e-02, 3.606040e-02, 4.277860e-02,\n",
       "       4.362650e-02, 4.822950e-02, 4.866150e-02, 5.800470e-02,\n",
       "       6.384350e-02, 7.809110e-02, 1.247090e-01, 2.590242e-01,\n",
       "       3.891227e-01, 4.328240e-01, 4.246089e-01, 3.890502e-01,\n",
       "       3.444393e-01, 3.003745e-01, 2.640423e-01, 2.326825e-01,\n",
       "       1.975097e-01, 1.579480e-01, 1.369116e-01, 1.147651e-01,\n",
       "       9.704730e-02, 8.184393e-02, 6.899765e-02, 5.819139e-02,\n",
       "       4.830190e-02, 4.039766e-02, 3.330386e-02, 2.888018e-02,\n",
       "       2.353771e-02, 1.975255e-02, 1.675361e-02, 1.371673e-02,\n",
       "       1.198869e-02, 9.772980e-03, 8.302800e-03, 6.988770e-03,\n",
       "       5.762480e-03, 4.843810e-03, 3.829380e-03, 3.413880e-03,\n",
       "       2.881490e-03, 2.285560e-03, 1.900461e-03, 1.626291e-03,\n",
       "       1.439196e-03, 1.237690e-03, 8.752970e-04, 8.200410e-04,\n",
       "       6.958620e-04, 5.699210e-04, 4.261530e-04, 3.929420e-04,\n",
       "       3.274090e-04, 2.922810e-04, 2.253250e-04, 1.485440e-04,\n",
       "       1.256930e-04, 6.837050e-05, 8.495190e-07])"
      ]
     },
     "execution_count": 43,
     "metadata": {},
     "output_type": "execute_result"
    }
   ],
   "source": [
    "data+data_unc"
   ]
  },
  {
   "cell_type": "code",
   "execution_count": 44,
   "id": "ea3a955f-e28a-44a1-9727-18d63f274059",
   "metadata": {},
   "outputs": [],
   "source": [
    "#background, take SHERPA (rows 84-154)\n",
    "raw_background = pd.read_csv('../MadGraph/ppaxgammagamma/data_gammagamma.csv', sep=',', nrows=71, header=81).values"
   ]
  },
  {
   "cell_type": "code",
   "execution_count": 45,
   "id": "df874010-5e73-47df-9616-5c37802a7d0d",
   "metadata": {},
   "outputs": [],
   "source": [
    "background = raw_background[:,3]"
   ]
  },
  {
   "cell_type": "code",
   "execution_count": 46,
   "id": "1d7e48ec-932e-4ba3-964b-43035a6840fb",
   "metadata": {},
   "outputs": [
    {
     "name": "stdout",
     "output_type": "stream",
     "text": [
      "[1.1957e-02 2.8523e-02 3.3210e-02 3.5505e-02 3.7554e-02 3.9199e-02\n",
      " 4.0080e-02 4.1043e-02 4.2365e-02 4.3168e-02 4.4496e-02 4.5559e-02\n",
      " 4.7238e-02 4.9788e-02 5.3631e-02 6.0367e-02 7.0323e-02 8.7106e-02\n",
      " 1.3979e-01 2.6794e-01 3.8993e-01 4.3771e-01 4.3397e-01 4.0713e-01\n",
      " 3.6729e-01 3.2250e-01 2.7890e-01 2.3908e-01 2.0201e-01 1.7067e-01\n",
      " 1.4340e-01 1.1954e-01 9.9349e-02 8.3245e-02 7.1280e-02 5.9191e-02\n",
      " 4.9340e-02 4.0925e-02 3.4344e-02 2.8365e-02 2.3557e-02 1.9626e-02\n",
      " 1.6266e-02 1.3604e-02 1.1297e-02 9.5297e-03 7.8720e-03 6.5990e-03\n",
      " 5.4891e-03 4.5219e-03 3.8017e-03 3.1528e-03 2.6685e-03 2.1883e-03\n",
      " 1.8048e-03 1.5260e-03 1.2865e-03 1.0259e-03 8.6850e-04 7.2488e-04\n",
      " 5.9818e-04 4.9894e-04 4.1692e-04 3.5470e-04 2.9278e-04 2.2567e-04\n",
      " 1.8890e-04 1.3962e-04 9.6392e-05 5.5331e-05 7.9661e-07]\n"
     ]
    }
   ],
   "source": [
    "print(background)"
   ]
  },
  {
   "cell_type": "code",
   "execution_count": 47,
   "id": "01d21d7d-d86f-4f67-9cf0-eec1ad32321d",
   "metadata": {},
   "outputs": [],
   "source": [
    "background_unc = raw_background[:,4]"
   ]
  },
  {
   "cell_type": "code",
   "execution_count": 48,
   "id": "ddba6d3d-218f-4830-85fe-944836725ea2",
   "metadata": {},
   "outputs": [],
   "source": [
    "background_unc;"
   ]
  },
  {
   "cell_type": "code",
   "execution_count": 49,
   "id": "9d8aa7b9-a573-4867-9a08-943b9c6f6ab4",
   "metadata": {},
   "outputs": [
    {
     "name": "stderr",
     "output_type": "stream",
     "text": [
      "<>:6: SyntaxWarning: invalid escape sequence '\\g'\n",
      "<>:8: SyntaxWarning: invalid escape sequence '\\g'\n",
      "<>:6: SyntaxWarning: invalid escape sequence '\\g'\n",
      "<>:8: SyntaxWarning: invalid escape sequence '\\g'\n",
      "/var/folders/d0/vjgg68h93_q2fcyzx7cftx_h0000gn/T/ipykernel_34283/3330385039.py:6: SyntaxWarning: invalid escape sequence '\\g'\n",
      "  plt.xlabel('$m_{\\gamma\\gamma}$ (GeV) ')\n",
      "/var/folders/d0/vjgg68h93_q2fcyzx7cftx_h0000gn/T/ipykernel_34283/3330385039.py:8: SyntaxWarning: invalid escape sequence '\\g'\n",
      "  plt.title(\"Data and background distribution in $m_{\\gamma \\gamma}$\")\n"
     ]
    },
    {
     "data": {
      "text/plain": [
       "<matplotlib.legend.Legend at 0x291a79730>"
      ]
     },
     "execution_count": 49,
     "metadata": {},
     "output_type": "execute_result"
    },
    {
     "data": {
      "image/png": "[encoded data removed]",
      "text/plain": [
       "<Figure size 640x480 with 1 Axes>"
      ]
     },
     "metadata": {},
     "output_type": "display_data"
    }
   ],
   "source": [
    "plt.bar(mgaga_bins[:-1], background, width=np.diff(mgaga_bins), align='edge', alpha=1, color='royalblue',label='background')\n",
    "#plt.bar(mgaga_bins[:-1], background_unc, width=np.diff(mgaga_bins), align='edge', alpha=0.3, color='royalblue',label='background unc')\n",
    "plt.scatter(mgaga_bin_center, data, color='black', label='data')\n",
    "plt.xlim(0,1000)\n",
    "plt.errorbar(mgaga_bin_center, data, data_unc, color='black', alpha=1,fmt='none')\n",
    "plt.xlabel('$m_{\\gamma\\gamma}$ (GeV) ')\n",
    "plt.ylabel(r'$\\frac{d \\sigma}{d m_{\\gamma \\gamma}}$')\n",
    "plt.title(\"Data and background distribution in $m_{\\gamma \\gamma}$\")\n",
    "plt.legend()"
   ]
  },
  {
   "cell_type": "markdown",
   "id": "09f868e6-e63b-4f32-aaf2-2ba0fc6f9077",
   "metadata": {},
   "source": [
    "## Histogram with signal events in the right binning"
   ]
  },
  {
   "cell_type": "code",
   "execution_count": 50,
   "id": "2c58c395-9578-4844-98ee-006437ee153c",
   "metadata": {},
   "outputs": [],
   "source": [
    "# The last bin looks so empty because we plot density=True, meaning that we divide by the bin width. The last bin is just so wide!\n",
    "# However, we need to use 13000 as the upper edge to include all events."
   ]
  },
  {
   "cell_type": "code",
   "execution_count": 51,
   "id": "34c9c8d4-58e6-47ae-ac27-d32065537591",
   "metadata": {},
   "outputs": [
    {
     "data": {
      "image/png": "[encoded data removed]",
      "text/plain": [
       "<Figure size 640x480 with 1 Axes>"
      ]
     },
     "metadata": {},
     "output_type": "display_data"
    }
   ],
   "source": [
    "# histogram for NP signal (n = number of events per bin)\n",
    "# density=True gives bin's raw count divided by the total number of counts and the bin width, i.e. density = counts / (sum(counts) * np.diff(bins))\n",
    "n_signal, bins, _ =plt.hist(gatot.mass,bins=mgaga_bins,range=(0,13000),label='non-linear axion', alpha=0.5,density=True ,color = \"red\", ec=\"k\",histtype='stepfilled',log=False)\n",
    "plt.xlim(0, 2000)\n",
    "plt.tight_layout()\n",
    "plt.title(r'signal distribution for $m_{\\gamma\\gamma}$ ',fontsize=15)\n",
    "plt.xlabel(r'$m_{\\gamma \\gamma}$ (GeV)',fontsize=15)\n",
    "plt.ylabel(r'Normalized distributions',fontsize=15)\n",
    "#plt.savefig(\"mHHdist.pdf\")\n",
    "plt.show()"
   ]
  },
  {
   "cell_type": "code",
   "execution_count": 52,
   "id": "5dca04e8-2b53-46fa-a10f-2b27b11bf252",
   "metadata": {},
   "outputs": [
    {
     "data": {
      "text/plain": [
       "1.0"
      ]
     },
     "execution_count": 52,
     "metadata": {},
     "output_type": "execute_result"
    }
   ],
   "source": [
    "(n_signal*np.diff(mgaga_bins)).sum()"
   ]
  },
  {
   "cell_type": "code",
   "execution_count": 53,
   "id": "d1029fff-b0eb-4fdf-b4c2-e62352d32ca6",
   "metadata": {},
   "outputs": [
    {
     "data": {
      "text/plain": [
       "array([0.00000000e+00, 0.00000000e+00, 0.00000000e+00, 0.00000000e+00,\n",
       "       0.00000000e+00, 0.00000000e+00, 0.00000000e+00, 0.00000000e+00,\n",
       "       0.00000000e+00, 0.00000000e+00, 0.00000000e+00, 0.00000000e+00,\n",
       "       0.00000000e+00, 0.00000000e+00, 0.00000000e+00, 0.00000000e+00,\n",
       "       0.00000000e+00, 0.00000000e+00, 0.00000000e+00, 0.00000000e+00,\n",
       "       2.08000000e-04, 1.23636364e-03, 1.60181818e-03, 2.01000000e-03,\n",
       "       2.27166667e-03, 2.26857143e-03, 2.47846154e-03, 2.33466667e-03,\n",
       "       2.39733333e-03, 2.37333333e-03, 2.49882353e-03, 2.41058824e-03,\n",
       "       2.35764706e-03, 2.31444444e-03, 2.26842105e-03, 2.18000000e-03,\n",
       "       2.16000000e-03, 2.02700000e-03, 2.02727273e-03, 1.90416667e-03,\n",
       "       1.82090909e-03, 1.75000000e-03, 1.73250000e-03, 1.66538462e-03,\n",
       "       1.56357143e-03, 1.47785714e-03, 1.42533333e-03, 1.36533333e-03,\n",
       "       1.29000000e-03, 1.25250000e-03, 1.14882353e-03, 1.10764706e-03,\n",
       "       1.07666667e-03, 1.00578947e-03, 9.34736842e-04, 8.91500000e-04,\n",
       "       8.33809524e-04, 7.65909091e-04, 7.07272727e-04, 6.85000000e-04,\n",
       "       6.10833333e-04, 5.87500000e-04, 5.67307692e-04, 5.11923077e-04,\n",
       "       4.66153846e-04, 4.62500000e-04, 4.03250000e-04, 3.63018868e-04,\n",
       "       3.12666667e-04, 2.49583333e-04, 8.27545910e-06])"
      ]
     },
     "execution_count": 53,
     "metadata": {},
     "output_type": "execute_result"
    }
   ],
   "source": [
    "n_signal"
   ]
  },
  {
   "cell_type": "markdown",
   "id": "f11e7729-5de2-49a4-8552-201048673b1a",
   "metadata": {},
   "source": [
    "ATLAS also gives the data and background in events per bin and per bin width, meaning that we do not have to multiply with the bin width to compare the signal."
   ]
  },
  {
   "cell_type": "markdown",
   "id": "9658ddc2-963f-4c16-9a6b-397d5cf909c9",
   "metadata": {},
   "source": [
    "## Compare signal with data and background\n"
   ]
  },
  {
   "cell_type": "code",
   "execution_count": 54,
   "id": "8e29d2b2-42b8-4b7d-9e90-24f21b89c8a7",
   "metadata": {},
   "outputs": [],
   "source": [
    "# rescale the MG5 signal events to compare with the data: N_events = n_events * L * sigma * acc\n",
    "# acc = acceptence to the phase space cuts = number of events that pass the cuts / number of all events\n",
    "# sigma in lhe file: total cross section including BR (unless we generate the process with decaying the Higgses or Z), sigma in pb\n",
    "# cross check with more severe cuts that sigma * acc is the same\n",
    "\n",
    "# lumi = 140 (fb)^(-1) = 140 e3 (pb)^(-1)\n",
    "lumi = 139e3\n",
    "acc = 1  # no post selection cuts\n",
    "N_events = n_signal * lumi * sigma * acc"
   ]
  },
  {
   "cell_type": "code",
   "execution_count": 55,
   "id": "9f9d1446-8bc9-4f26-8057-eddaba507d57",
   "metadata": {},
   "outputs": [
    {
     "name": "stderr",
     "output_type": "stream",
     "text": [
      "<>:6: SyntaxWarning: invalid escape sequence '\\g'\n",
      "<>:6: SyntaxWarning: invalid escape sequence '\\g'\n",
      "/var/folders/d0/vjgg68h93_q2fcyzx7cftx_h0000gn/T/ipykernel_34283/3165096519.py:6: SyntaxWarning: invalid escape sequence '\\g'\n",
      "  plt.xlabel('$m_{\\gamma\\gamma}$ (GeV)',fontsize=15)\n",
      "/var/folders/d0/vjgg68h93_q2fcyzx7cftx_h0000gn/T/ipykernel_34283/3165096519.py:6: SyntaxWarning: invalid escape sequence '\\g'\n",
      "  plt.xlabel('$m_{\\gamma\\gamma}$ (GeV)',fontsize=15)\n"
     ]
    },
    {
     "ename": "FileNotFoundError",
     "evalue": "[Errno 2] No such file or directory: '/Users/esser/Documents/PROJECTS/ALPsPheno/ALP multibosons/Figures/gammagamma.pdf'",
     "output_type": "error",
     "traceback": [
      "\u001b[0;31m---------------------------------------------------------------------------\u001b[0m",
      "\u001b[0;31mFileNotFoundError\u001b[0m                         Traceback (most recent call last)",
      "Cell \u001b[0;32mIn[55], line 13\u001b[0m\n\u001b[1;32m     11\u001b[0m plt\u001b[38;5;241m.\u001b[39mtitle(\u001b[38;5;124mr\u001b[39m\u001b[38;5;124m\"\u001b[39m\u001b[38;5;124m$p p \u001b[39m\u001b[38;5;124m\\\u001b[39m\u001b[38;5;124mrightarrow a \u001b[39m\u001b[38;5;124m\\\u001b[39m\u001b[38;5;124mrightarrow \u001b[39m\u001b[38;5;124m\\\u001b[39m\u001b[38;5;124mgamma \u001b[39m\u001b[38;5;124m\\\u001b[39m\u001b[38;5;124mgamma$ in $m_\u001b[39m\u001b[38;5;124m{\u001b[39m\u001b[38;5;124m\\\u001b[39m\u001b[38;5;124mgamma \u001b[39m\u001b[38;5;124m\\\u001b[39m\u001b[38;5;124mgamma}$\u001b[39m\u001b[38;5;124m\"\u001b[39m)\n\u001b[1;32m     12\u001b[0m plt\u001b[38;5;241m.\u001b[39mtight_layout()\n\u001b[0;32m---> 13\u001b[0m plt\u001b[38;5;241m.\u001b[39msavefig(\u001b[38;5;124m\"\u001b[39m\u001b[38;5;124m/Users/esser/Documents/PROJECTS/ALPsPheno/ALP multibosons/Figures/gammagamma.pdf\u001b[39m\u001b[38;5;124m\"\u001b[39m)\n\u001b[1;32m     14\u001b[0m plt\u001b[38;5;241m.\u001b[39mshow()\n",
      "File \u001b[0;32m~/anaconda3/lib/python3.12/site-packages/matplotlib/pyplot.py:1228\u001b[0m, in \u001b[0;36msavefig\u001b[0;34m(*args, **kwargs)\u001b[0m\n\u001b[1;32m   1225\u001b[0m fig \u001b[38;5;241m=\u001b[39m gcf()\n\u001b[1;32m   1226\u001b[0m \u001b[38;5;66;03m# savefig default implementation has no return, so mypy is unhappy\u001b[39;00m\n\u001b[1;32m   1227\u001b[0m \u001b[38;5;66;03m# presumably this is here because subclasses can return?\u001b[39;00m\n\u001b[0;32m-> 1228\u001b[0m res \u001b[38;5;241m=\u001b[39m fig\u001b[38;5;241m.\u001b[39msavefig(\u001b[38;5;241m*\u001b[39margs, \u001b[38;5;241m*\u001b[39m\u001b[38;5;241m*\u001b[39mkwargs)  \u001b[38;5;66;03m# type: ignore[func-returns-value]\u001b[39;00m\n\u001b[1;32m   1229\u001b[0m fig\u001b[38;5;241m.\u001b[39mcanvas\u001b[38;5;241m.\u001b[39mdraw_idle()  \u001b[38;5;66;03m# Need this if 'transparent=True', to reset colors.\u001b[39;00m\n\u001b[1;32m   1230\u001b[0m \u001b[38;5;28;01mreturn\u001b[39;00m res\n",
      "File \u001b[0;32m~/anaconda3/lib/python3.12/site-packages/matplotlib/figure.py:3395\u001b[0m, in \u001b[0;36mFigure.savefig\u001b[0;34m(self, fname, transparent, **kwargs)\u001b[0m\n\u001b[1;32m   3393\u001b[0m     \u001b[38;5;28;01mfor\u001b[39;00m ax \u001b[38;5;129;01min\u001b[39;00m \u001b[38;5;28mself\u001b[39m\u001b[38;5;241m.\u001b[39maxes:\n\u001b[1;32m   3394\u001b[0m         _recursively_make_axes_transparent(stack, ax)\n\u001b[0;32m-> 3395\u001b[0m \u001b[38;5;28mself\u001b[39m\u001b[38;5;241m.\u001b[39mcanvas\u001b[38;5;241m.\u001b[39mprint_figure(fname, \u001b[38;5;241m*\u001b[39m\u001b[38;5;241m*\u001b[39mkwargs)\n",
      "File \u001b[0;32m~/anaconda3/lib/python3.12/site-packages/matplotlib/backend_bases.py:2204\u001b[0m, in \u001b[0;36mFigureCanvasBase.print_figure\u001b[0;34m(self, filename, dpi, facecolor, edgecolor, orientation, format, bbox_inches, pad_inches, bbox_extra_artists, backend, **kwargs)\u001b[0m\n\u001b[1;32m   2200\u001b[0m \u001b[38;5;28;01mtry\u001b[39;00m:\n\u001b[1;32m   2201\u001b[0m     \u001b[38;5;66;03m# _get_renderer may change the figure dpi (as vector formats\u001b[39;00m\n\u001b[1;32m   2202\u001b[0m     \u001b[38;5;66;03m# force the figure dpi to 72), so we need to set it again here.\u001b[39;00m\n\u001b[1;32m   2203\u001b[0m     \u001b[38;5;28;01mwith\u001b[39;00m cbook\u001b[38;5;241m.\u001b[39m_setattr_cm(\u001b[38;5;28mself\u001b[39m\u001b[38;5;241m.\u001b[39mfigure, dpi\u001b[38;5;241m=\u001b[39mdpi):\n\u001b[0;32m-> 2204\u001b[0m         result \u001b[38;5;241m=\u001b[39m print_method(\n\u001b[1;32m   2205\u001b[0m             filename,\n\u001b[1;32m   2206\u001b[0m             facecolor\u001b[38;5;241m=\u001b[39mfacecolor,\n\u001b[1;32m   2207\u001b[0m             edgecolor\u001b[38;5;241m=\u001b[39medgecolor,\n\u001b[1;32m   2208\u001b[0m             orientation\u001b[38;5;241m=\u001b[39morientation,\n\u001b[1;32m   2209\u001b[0m             bbox_inches_restore\u001b[38;5;241m=\u001b[39m_bbox_inches_restore,\n\u001b[1;32m   2210\u001b[0m             \u001b[38;5;241m*\u001b[39m\u001b[38;5;241m*\u001b[39mkwargs)\n\u001b[1;32m   2211\u001b[0m \u001b[38;5;28;01mfinally\u001b[39;00m:\n\u001b[1;32m   2212\u001b[0m     \u001b[38;5;28;01mif\u001b[39;00m bbox_inches \u001b[38;5;129;01mand\u001b[39;00m restore_bbox:\n",
      "File \u001b[0;32m~/anaconda3/lib/python3.12/site-packages/matplotlib/backend_bases.py:2054\u001b[0m, in \u001b[0;36mFigureCanvasBase._switch_canvas_and_return_print_method.<locals>.<lambda>\u001b[0;34m(*args, **kwargs)\u001b[0m\n\u001b[1;32m   2050\u001b[0m     optional_kws \u001b[38;5;241m=\u001b[39m {  \u001b[38;5;66;03m# Passed by print_figure for other renderers.\u001b[39;00m\n\u001b[1;32m   2051\u001b[0m         \u001b[38;5;124m\"\u001b[39m\u001b[38;5;124mdpi\u001b[39m\u001b[38;5;124m\"\u001b[39m, \u001b[38;5;124m\"\u001b[39m\u001b[38;5;124mfacecolor\u001b[39m\u001b[38;5;124m\"\u001b[39m, \u001b[38;5;124m\"\u001b[39m\u001b[38;5;124medgecolor\u001b[39m\u001b[38;5;124m\"\u001b[39m, \u001b[38;5;124m\"\u001b[39m\u001b[38;5;124morientation\u001b[39m\u001b[38;5;124m\"\u001b[39m,\n\u001b[1;32m   2052\u001b[0m         \u001b[38;5;124m\"\u001b[39m\u001b[38;5;124mbbox_inches_restore\u001b[39m\u001b[38;5;124m\"\u001b[39m}\n\u001b[1;32m   2053\u001b[0m     skip \u001b[38;5;241m=\u001b[39m optional_kws \u001b[38;5;241m-\u001b[39m {\u001b[38;5;241m*\u001b[39minspect\u001b[38;5;241m.\u001b[39msignature(meth)\u001b[38;5;241m.\u001b[39mparameters}\n\u001b[0;32m-> 2054\u001b[0m     print_method \u001b[38;5;241m=\u001b[39m functools\u001b[38;5;241m.\u001b[39mwraps(meth)(\u001b[38;5;28;01mlambda\u001b[39;00m \u001b[38;5;241m*\u001b[39margs, \u001b[38;5;241m*\u001b[39m\u001b[38;5;241m*\u001b[39mkwargs: meth(\n\u001b[1;32m   2055\u001b[0m         \u001b[38;5;241m*\u001b[39margs, \u001b[38;5;241m*\u001b[39m\u001b[38;5;241m*\u001b[39m{k: v \u001b[38;5;28;01mfor\u001b[39;00m k, v \u001b[38;5;129;01min\u001b[39;00m kwargs\u001b[38;5;241m.\u001b[39mitems() \u001b[38;5;28;01mif\u001b[39;00m k \u001b[38;5;129;01mnot\u001b[39;00m \u001b[38;5;129;01min\u001b[39;00m skip}))\n\u001b[1;32m   2056\u001b[0m \u001b[38;5;28;01melse\u001b[39;00m:  \u001b[38;5;66;03m# Let third-parties do as they see fit.\u001b[39;00m\n\u001b[1;32m   2057\u001b[0m     print_method \u001b[38;5;241m=\u001b[39m meth\n",
      "File \u001b[0;32m~/anaconda3/lib/python3.12/site-packages/matplotlib/backends/backend_pdf.py:2792\u001b[0m, in \u001b[0;36mFigureCanvasPdf.print_pdf\u001b[0;34m(self, filename, bbox_inches_restore, metadata)\u001b[0m\n\u001b[1;32m   2790\u001b[0m     file \u001b[38;5;241m=\u001b[39m filename\u001b[38;5;241m.\u001b[39m_ensure_file()\n\u001b[1;32m   2791\u001b[0m \u001b[38;5;28;01melse\u001b[39;00m:\n\u001b[0;32m-> 2792\u001b[0m     file \u001b[38;5;241m=\u001b[39m PdfFile(filename, metadata\u001b[38;5;241m=\u001b[39mmetadata)\n\u001b[1;32m   2793\u001b[0m \u001b[38;5;28;01mtry\u001b[39;00m:\n\u001b[1;32m   2794\u001b[0m     file\u001b[38;5;241m.\u001b[39mnewPage(width, height)\n",
      "File \u001b[0;32m~/anaconda3/lib/python3.12/site-packages/matplotlib/backends/backend_pdf.py:688\u001b[0m, in \u001b[0;36mPdfFile.__init__\u001b[0;34m(self, filename, metadata)\u001b[0m\n\u001b[1;32m    686\u001b[0m \u001b[38;5;28mself\u001b[39m\u001b[38;5;241m.\u001b[39moriginal_file_like \u001b[38;5;241m=\u001b[39m \u001b[38;5;28;01mNone\u001b[39;00m\n\u001b[1;32m    687\u001b[0m \u001b[38;5;28mself\u001b[39m\u001b[38;5;241m.\u001b[39mtell_base \u001b[38;5;241m=\u001b[39m \u001b[38;5;241m0\u001b[39m\n\u001b[0;32m--> 688\u001b[0m fh, opened \u001b[38;5;241m=\u001b[39m cbook\u001b[38;5;241m.\u001b[39mto_filehandle(filename, \u001b[38;5;124m\"\u001b[39m\u001b[38;5;124mwb\u001b[39m\u001b[38;5;124m\"\u001b[39m, return_opened\u001b[38;5;241m=\u001b[39m\u001b[38;5;28;01mTrue\u001b[39;00m)\n\u001b[1;32m    689\u001b[0m \u001b[38;5;28;01mif\u001b[39;00m \u001b[38;5;129;01mnot\u001b[39;00m opened:\n\u001b[1;32m    690\u001b[0m     \u001b[38;5;28;01mtry\u001b[39;00m:\n",
      "File \u001b[0;32m~/anaconda3/lib/python3.12/site-packages/matplotlib/cbook.py:483\u001b[0m, in \u001b[0;36mto_filehandle\u001b[0;34m(fname, flag, return_opened, encoding)\u001b[0m\n\u001b[1;32m    481\u001b[0m         fh \u001b[38;5;241m=\u001b[39m bz2\u001b[38;5;241m.\u001b[39mBZ2File(fname, flag)\n\u001b[1;32m    482\u001b[0m     \u001b[38;5;28;01melse\u001b[39;00m:\n\u001b[0;32m--> 483\u001b[0m         fh \u001b[38;5;241m=\u001b[39m \u001b[38;5;28mopen\u001b[39m(fname, flag, encoding\u001b[38;5;241m=\u001b[39mencoding)\n\u001b[1;32m    484\u001b[0m     opened \u001b[38;5;241m=\u001b[39m \u001b[38;5;28;01mTrue\u001b[39;00m\n\u001b[1;32m    485\u001b[0m \u001b[38;5;28;01melif\u001b[39;00m \u001b[38;5;28mhasattr\u001b[39m(fname, \u001b[38;5;124m'\u001b[39m\u001b[38;5;124mseek\u001b[39m\u001b[38;5;124m'\u001b[39m):\n",
      "\u001b[0;31mFileNotFoundError\u001b[0m: [Errno 2] No such file or directory: '/Users/esser/Documents/PROJECTS/ALPsPheno/ALP multibosons/Figures/gammagamma.pdf'"
     ]
    },
    {
     "data": {
      "image/png": "[encoded data removed]",
      "text/plain": [
       "<Figure size 640x480 with 1 Axes>"
      ]
     },
     "metadata": {},
     "output_type": "display_data"
    }
   ],
   "source": [
    "plt.bar(bins[:-1], background*lumi+n_signal*sigma*lumi, width=np.diff(bins), align='edge', alpha=1, color='orangered', label='NP signal + BG')\n",
    "#plt.bar(bins[:-1], n_norm*sigma*lumi, width=np.diff(bins), align='edge', alpha=1, color='orangered', label='NP signal + BG')\n",
    "plt.bar(bins[:-1], background*lumi, width=np.diff(bins), align='edge', alpha=1, color='royalblue',label='SHERPA background')\n",
    "plt.xlim(60, 500)\n",
    "#plt.ylim(0,10000)\n",
    "plt.xlabel('$m_{\\gamma\\gamma}$ (GeV)',fontsize=15)\n",
    "plt.ylabel(r'Number of events per binwidth [GeV$^{-1}$]',fontsize=15)\n",
    "plt.errorbar(mgaga_bin_center, data*lumi, data_unc*lumi, color='black', alpha=1,fmt='none')\n",
    "plt.scatter(mgaga_bin_center, data*lumi, color='black', label='ATLAS data')\n",
    "plt.legend()\n",
    "plt.title(r\"$p p \\rightarrow a \\rightarrow \\gamma \\gamma$ in $m_{\\gamma \\gamma}$\")\n",
    "plt.tight_layout()\n",
    "plt.savefig(\"/Users/esser/Documents/PROJECTS/ALPsPheno/ALP multibosons/Figures/gammagamma.pdf\")\n",
    "plt.show()"
   ]
  },
  {
   "cell_type": "code",
   "execution_count": null,
   "id": "905d4f00-ee81-4782-99b8-5cf0d0ac09b1",
   "metadata": {},
   "outputs": [],
   "source": [
    "plt.bar(bins[:-1],n_signal*sigma*lumi, width=np.diff(bins), align='edge', alpha=1, color='orangered', label='NP signal + BG')\n",
    "#plt.bar(bins[:-1], n_norm*sigma*lumi, width=np.diff(bins), align='edge', alpha=1, color='orangered', label='NP signal + BG')\n",
    "#plt.bar(bins[:-1], background*lumi, width=np.diff(bins), align='edge', alpha=1, color='royalblue',label='SHERPA background')\n",
    "plt.xlim(80, 1000)\n",
    "#plt.ylim(0,10000)\n",
    "plt.xlabel('$m_{\\gamma\\gamma}$ (GeV)',fontsize=15)\n",
    "plt.ylabel('Number of events',fontsize=15)\n",
    "#plt.errorbar(bin_center, data*lumi*sigma_SM, [Lower*lumi*sigma_SM, Upper*lumi*sigma_SM], color='black', alpha=1,fmt='none')\n",
    "#plt.scatter(mgaga_bin_center, data*lumi, color='black', label='ATLAS data')\n",
    "plt.legend()\n",
    "plt.title(r\"$ALP \\rightarrow \\gamma \\gamma$ in $m_{\\gamma \\gamma}$\")\n",
    "plt.tight_layout()\n",
    "#plt.savefig(\"/Users/esser/Documents/PROJECTS/ALPsPheno/ALP multibosons/Figures/gammagamma.pdf\")\n",
    "plt.show()"
   ]
  },
  {
   "cell_type": "markdown",
   "id": "1de414cc-8232-4fff-8175-836cad6adfec",
   "metadata": {},
   "source": [
    "### Output data to Mathematica"
   ]
  },
  {
   "cell_type": "code",
   "execution_count": null,
   "id": "ab82f90c-0b6e-46d2-b248-880de1c3b69a",
   "metadata": {},
   "outputs": [],
   "source": [
    "# data\n",
    "Mathematica_data = \"{\" + \",\".join([f\"{x:.4e}\".replace('e', '*10^') for x in data[21:]]) + \"}\" + \";\"\n",
    "print(Mathematica_data)"
   ]
  },
  {
   "cell_type": "code",
   "execution_count": null,
   "id": "a690888c-d047-4a6c-a239-5d19bdb407f3",
   "metadata": {},
   "outputs": [],
   "source": [
    "len(mgaga_bin_center[21:])"
   ]
  },
  {
   "cell_type": "code",
   "execution_count": null,
   "id": "17c12787-3c9d-442f-9cd9-feea5f6d35ff",
   "metadata": {},
   "outputs": [],
   "source": [
    "# data\n",
    "Mathematica_data_unc = \"{\" + \",\".join([f\"{x:.4e}\".replace('e', '*10^') for x in data_unc[21:]]) + \"}\" \";\"\n",
    "print(Mathematica_data_unc)"
   ]
  },
  {
   "cell_type": "code",
   "execution_count": null,
   "id": "ff18b167-a114-4cf9-bd6e-2cf5e72bef4e",
   "metadata": {},
   "outputs": [],
   "source": [
    "# background\n",
    "Mathematica_background = \"{\" + \",\".join([f\"{x:.4e}\".replace('e', '*10^') for x in background[21:]]) + \"}\" \";\"\n",
    "print(Mathematica_background)"
   ]
  },
  {
   "cell_type": "code",
   "execution_count": null,
   "id": "6e801a1f-5265-44cc-86c0-d7854d5fd93d",
   "metadata": {},
   "outputs": [],
   "source": [
    "# signal\n",
    "N_signal = n_signal * sigma\n",
    "Mathematica_signal = \"{\" + \",\".join([f\"{x:.4e}\".replace('e', '*10^') for x in N_signal[21:]]) + \"}\" \";\"\n",
    "print(Mathematica_signal)"
   ]
  },
  {
   "cell_type": "code",
   "execution_count": null,
   "id": "89296bfa-e680-4254-991f-52c44a2477da",
   "metadata": {},
   "outputs": [],
   "source": [
    "# bin center\n",
    "Mathematica_bin_center = \"{\" + \",\".join([\"{:.0f}\".format(x) for x in mgaga_bin_center[20:]]) + \"}\" \";\"\n",
    "print(Mathematica_bin_center)"
   ]
  },
  {
   "cell_type": "markdown",
   "id": "77f9da9d-9c65-4f0c-9b99-2cd242f340ae",
   "metadata": {},
   "source": [
    "### $pp \\rightarrow \\gamma \\gamma, NP==2$"
   ]
  },
  {
   "cell_type": "code",
   "execution_count": null,
   "id": "0852bc7f-0825-447b-921c-2cb24959436f",
   "metadata": {},
   "outputs": [],
   "source": [
    "fileg2 = \"../MadGraph/ppgammagamma_NP/Events/run_01/unweighted_events.lhe\"\n",
    "events = pylhe.to_awkward(pylhe.read_lhe_with_attributes(fileg2))"
   ]
  },
  {
   "cell_type": "code",
   "execution_count": null,
   "id": "6a8b15e5-5e46-47c5-a1bd-26d2bd141015",
   "metadata": {},
   "outputs": [],
   "source": [
    "g1=events.particles.vector[:,0]\n",
    "g2=events.particles.vector[:,1]\n",
    "ga1=events.particles.vector[:,-1]\n",
    "ga2=events.particles.vector[:,-2]\n",
    "\n",
    "gatot=ga1+ga2"
   ]
  },
  {
   "cell_type": "code",
   "execution_count": null,
   "id": "f811adf7-7cdd-4009-860d-b340a3a9e082",
   "metadata": {},
   "outputs": [],
   "source": [
    "# histogram for NP signal (n = number of events per bin)\n",
    "# density=True gives bin's raw count divided by the total number of counts and the bin width, i.e. density = counts / (sum(counts) * np.diff(bins)\n",
    "n, bins, _ =plt.hist(gatot.mass,bins=30,range=(0,2000),label='non-linear axion', alpha=0.5,density=False,color = \"blue\", ec=\"k\",histtype='stepfilled',log=False)\n",
    "plt.xlim(0, 2000)\n",
    "plt.tight_layout()\n",
    "#plt.title(r'$m_{\\gamma \\gamma}$ ',fontsize=15)\n",
    "plt.xlabel(r'$m_{\\gamma \\gamma}$ (GeV)',fontsize=15)\n",
    "plt.ylabel(r'events per bin',fontsize=15)\n",
    "#plt.savefig(\"mgammagamma.pdf\")\n",
    "plt.show()"
   ]
  },
  {
   "cell_type": "code",
   "execution_count": null,
   "id": "1c98fdbe-5f6c-4516-91e0-6b63625f3c2c",
   "metadata": {},
   "outputs": [],
   "source": [
    "min(gatot.mass)"
   ]
  },
  {
   "cell_type": "code",
   "execution_count": null,
   "id": "acd8d27f-e363-467c-8a14-018ff993496d",
   "metadata": {},
   "outputs": [],
   "source": [
    "min(ga1.deltaR(ga2))"
   ]
  },
  {
   "cell_type": "code",
   "execution_count": null,
   "id": "8f160184-7745-4709-91c5-b4175fd1e942",
   "metadata": {},
   "outputs": [],
   "source": []
  }
 ],
 "metadata": {
  "kernelspec": {
   "display_name": "Python 3 (ipykernel)",
   "language": "python",
   "name": "python3"
  },
  "language_info": {
   "codemirror_mode": {
    "name": "ipython",
    "version": 3
   },
   "file_extension": ".py",
   "mimetype": "text/x-python",
   "name": "python",
   "nbconvert_exporter": "python",
   "pygments_lexer": "ipython3",
   "version": "3.12.2"
  }
 },
 "nbformat": 4,
 "nbformat_minor": 5
}
