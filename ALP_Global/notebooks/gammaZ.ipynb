{
 "cells": [
  {
   "cell_type": "code",
   "execution_count": 1,
   "id": "33586981-507d-4188-b295-fe52dcc34f01",
   "metadata": {},
   "outputs": [],
   "source": [
    "import pandas as pd\n",
    "import datetime\n",
    "import seaborn as sns\n",
    "import matplotlib.pyplot as plt\n",
    "from matplotlib import rcParams\n",
    "plt.rcParams['text.usetex'] = True\n",
    "plt.rcParams['text.latex.preamble'] = r'\\usepackage{lmodern}'  # Usar Latin Modern Roman\n",
    "rcParams['font.family'] = 'serif'\n",
    "rcParams['font.serif'] = ['Latin Modern Roman']\n",
    "import numpy as np\n",
    "from tensorflow import keras\n",
    "#sns.set_style('dark')\n",
    "plt.rcParams['font.size'] = 16\n",
    "import json\n",
    "import os\n",
    "import copy\n",
    "from IPython.display import display, HTML\n",
    "\n",
    "# from sklearn.metrics import mean_squared_error\n",
    "# from sklearn.metrics import r2_score\n",
    "\n",
    "import scipy as sp\n",
    "from scipy.optimize import curve_fit\n",
    "\n",
    "import uproot\n",
    "import awkward as ak\n",
    "\n",
    "import awkward as ak\n",
    "import matplotlib.pyplot as plt\n",
    "import hist\n",
    "import math\n",
    "import numpy as np\n",
    "import vector\n",
    "import pylhe\n",
    "import seaborn as sns\n",
    "from matplotlib import colormaps"
   ]
  },
  {
   "cell_type": "code",
   "execution_count": 2,
   "id": "68fef40a-de69-45c7-8201-0e12836b7c59",
   "metadata": {},
   "outputs": [
    {
     "name": "stdout",
     "output_type": "stream",
     "text": [
      "The operation couldn’t be completed. Unable to locate a Java Runtime that supports apt.\n",
      "Please visit http://www.java.com for information on installing Java.\n",
      "\n"
     ]
    }
   ],
   "source": [
    "!apt install texlive-fonts-recommended texlive-fonts-extra cm-super dvipng"
   ]
  },
  {
   "cell_type": "code",
   "execution_count": 3,
   "id": "64502202-be7d-486d-8306-67b138c95953",
   "metadata": {},
   "outputs": [
    {
     "name": "stdout",
     "output_type": "stream",
     "text": [
      "Requirement already satisfied: latex in /Users/esser/anaconda3/lib/python3.12/site-packages (0.7.0)\n",
      "Requirement already satisfied: tempdir in /Users/esser/anaconda3/lib/python3.12/site-packages (from latex) (0.7.1)\n",
      "Requirement already satisfied: data in /Users/esser/anaconda3/lib/python3.12/site-packages (from latex) (0.4)\n",
      "Requirement already satisfied: future in /Users/esser/anaconda3/lib/python3.12/site-packages (from latex) (1.0.0)\n",
      "Requirement already satisfied: shutilwhich in /Users/esser/anaconda3/lib/python3.12/site-packages (from latex) (1.1.0)\n",
      "Requirement already satisfied: six in /Users/esser/anaconda3/lib/python3.12/site-packages (from data->latex) (1.16.0)\n",
      "Requirement already satisfied: decorator in /Users/esser/anaconda3/lib/python3.12/site-packages (from data->latex) (5.1.1)\n",
      "Requirement already satisfied: funcsigs in /Users/esser/anaconda3/lib/python3.12/site-packages (from data->latex) (1.0.2)\n",
      "Note: you may need to restart the kernel to use updated packages.\n"
     ]
    }
   ],
   "source": [
    "%pip install latex"
   ]
  },
  {
   "cell_type": "code",
   "execution_count": 4,
   "id": "88c56b09-5bb9-4412-8da8-f1c310cae4dc",
   "metadata": {},
   "outputs": [
    {
     "data": {
      "text/plain": [
       "'/Users/esser/Documents/PROJECTS/ALPsPheno/ALP GLOBAL/github/notebooks'"
      ]
     },
     "execution_count": 4,
     "metadata": {},
     "output_type": "execute_result"
    }
   ],
   "source": [
    "os.getcwd()"
   ]
  },
  {
   "cell_type": "markdown",
   "id": "09703be4-3358-4153-b443-3061b5096003",
   "metadata": {},
   "source": [
    "# Signal events"
   ]
  },
  {
   "cell_type": "markdown",
   "id": "b6b4d210-6407-43c8-b44f-d73c993ebad5",
   "metadata": {},
   "source": [
    "## Read in the data"
   ]
  },
  {
   "cell_type": "code",
   "execution_count": 5,
   "id": "adfc1da8-8302-4b66-af3c-f3c59528fb7a",
   "metadata": {},
   "outputs": [],
   "source": [
    "fileg = \"../MadGraph/ppaxgammaZ/Events/run_01/unweighted_events.lhe\"\n",
    "events = pylhe.to_awkward(pylhe.read_lhe_with_attributes(fileg))"
   ]
  },
  {
   "cell_type": "markdown",
   "id": "7eca4450-cf95-4aa6-94d6-524fb262f62b",
   "metadata": {},
   "source": [
    "Identify the particles"
   ]
  },
  {
   "cell_type": "code",
   "execution_count": 6,
   "id": "2b3dff5e-2e9d-4102-893c-bed0e80d5691",
   "metadata": {},
   "outputs": [],
   "source": [
    "j1=events.particles.vector[:,-2]\n",
    "j2=events.particles.vector[:,-1]\n",
    "Z=events.particles.vector[:,3]\n",
    "ga = events.particles.vector[:,2]"
   ]
  },
  {
   "cell_type": "markdown",
   "id": "c43da8b4-fbbf-4331-a527-5b8d8ce8811d",
   "metadata": {},
   "source": [
    "Function to read in the total cross section and total number of events from the lhe file. Note that for different processes the rows may shift."
   ]
  },
  {
   "cell_type": "code",
   "execution_count": 7,
   "id": "74f49db5-24ab-4ace-8681-c338a60db3ed",
   "metadata": {},
   "outputs": [],
   "source": [
    "def read_sigma_nevents(filename):\n",
    "    with open(filename,'r') as f:\n",
    "        data = f.readlines()\n",
    "    f.close()\n",
    "    sigma = float(data[420].split(' ')[13])\n",
    "    nevents = float(data[150].split(' ')[2])\n",
    "    return sigma, nevents"
   ]
  },
  {
   "cell_type": "code",
   "execution_count": 8,
   "id": "40ca326f-fd73-4485-a4f7-146fa4a26536",
   "metadata": {},
   "outputs": [],
   "source": [
    "(sigma, Ntot) = read_sigma_nevents(fileg)"
   ]
  },
  {
   "cell_type": "code",
   "execution_count": 9,
   "id": "ffad685f-6abc-49ba-8455-96e5d67a222a",
   "metadata": {},
   "outputs": [
    {
     "data": {
      "text/plain": [
       "0.005797535391337517"
      ]
     },
     "execution_count": 9,
     "metadata": {},
     "output_type": "execute_result"
    }
   ],
   "source": [
    "sigma"
   ]
  },
  {
   "cell_type": "markdown",
   "id": "9fc6aa16-dc91-4cdf-9556-0dfb2c80dc68",
   "metadata": {},
   "source": [
    "## Data Visualisation!"
   ]
  },
  {
   "cell_type": "code",
   "execution_count": 10,
   "id": "0c94b4b7-e32a-44a2-bc23-7eaf3d2ebe39",
   "metadata": {},
   "outputs": [
    {
     "data": {
      "text/html": [
       "<pre>[580,\n",
       " 800,\n",
       " 412,\n",
       " 735,\n",
       " 108,\n",
       " 300,\n",
       " 300,\n",
       " 614,\n",
       " 136,\n",
       " 556,\n",
       " ...,\n",
       " 175,\n",
       " 241,\n",
       " 1.06e+03,\n",
       " 830,\n",
       " 157,\n",
       " 968,\n",
       " 200,\n",
       " 153,\n",
       " 91.2]\n",
       "----------------------\n",
       "type: 100000 * float64</pre>"
      ],
      "text/plain": [
       "<Array [580, 800, 412, 735, ..., 968, 200, 153, 91.2] type='100000 * float64'>"
      ]
     },
     "execution_count": 10,
     "metadata": {},
     "output_type": "execute_result"
    }
   ],
   "source": [
    "#pT of the photon\n",
    "ga.pt"
   ]
  },
  {
   "cell_type": "code",
   "execution_count": 11,
   "id": "7e02a4d0-f914-4b28-83a4-bfb7292db95c",
   "metadata": {},
   "outputs": [
    {
     "data": {
      "text/plain": [
       "20.03045968612873"
      ]
     },
     "execution_count": 11,
     "metadata": {},
     "output_type": "execute_result"
    }
   ],
   "source": [
    "min(ga.pt)"
   ]
  },
  {
   "cell_type": "code",
   "execution_count": 12,
   "id": "a1a7c7fa-eb3e-431b-acd1-403e99b9fb96",
   "metadata": {},
   "outputs": [
    {
     "data": {
      "text/plain": [
       "3374.1474419444176"
      ]
     },
     "execution_count": 12,
     "metadata": {},
     "output_type": "execute_result"
    }
   ],
   "source": [
    "max(ga.pt)"
   ]
  },
  {
   "cell_type": "code",
   "execution_count": 13,
   "id": "6aacefb5-97c7-4295-b5a4-7015452ff2ab",
   "metadata": {},
   "outputs": [
    {
     "data": {
      "image/png": "[encoded data removed]",
      "text/plain": [
       "<Figure size 640x480 with 1 Axes>"
      ]
     },
     "metadata": {},
     "output_type": "display_data"
    }
   ],
   "source": [
    "# histogram for NP signal (n = number of events per bin)\n",
    "# density=True gives bin's raw count divided by the total number of counts and the bin width, i.e. density = counts / (sum(counts) * np.diff(bins)\n",
    "n, bins, _ =plt.hist(ga.pt,bins=30,range=(40,1000),label='non-linear axion', alpha=0.5,density=False,color = \"blue\", ec=\"k\",histtype='stepfilled',log=False)\n",
    "plt.xlim(20, 1000)\n",
    "plt.tight_layout()\n",
    "#plt.title(r'$m_{\\gamma \\gamma}$ ',fontsize=15)\n",
    "plt.xlabel(r'$p_T^{\\gamma}$ (GeV)',fontsize=15)\n",
    "plt.ylabel(r'events per bin',fontsize=15)\n",
    "#plt.savefig(\"mZZ.pdf\")\n",
    "plt.show()"
   ]
  },
  {
   "cell_type": "code",
   "execution_count": 14,
   "id": "72fba5d3-3c86-42d3-89da-c02878a8cc79",
   "metadata": {},
   "outputs": [],
   "source": [
    "j1.pt;"
   ]
  },
  {
   "cell_type": "code",
   "execution_count": 15,
   "id": "99169c6e-5b98-41fc-b622-cf6af68f0fb4",
   "metadata": {},
   "outputs": [],
   "source": [
    "j2.pt;"
   ]
  },
  {
   "cell_type": "code",
   "execution_count": 16,
   "id": "bc9d2174-341a-4119-ac21-1cf9a458bff8",
   "metadata": {},
   "outputs": [],
   "source": [
    "jlead_pt = np.maximum(j1.pt,j2.pt)"
   ]
  },
  {
   "cell_type": "code",
   "execution_count": 17,
   "id": "a789c6d9-15d5-464f-8daa-c4316e9a6dfd",
   "metadata": {},
   "outputs": [
    {
     "data": {
      "text/html": [
       "<pre>[154,\n",
       " 132,\n",
       " 419,\n",
       " 57.7,\n",
       " 92.5,\n",
       " 116,\n",
       " 276,\n",
       " 551,\n",
       " 649,\n",
       " 269,\n",
       " ...,\n",
       " 138,\n",
       " 248,\n",
       " 792,\n",
       " 845,\n",
       " 154,\n",
       " 105,\n",
       " 765,\n",
       " 261,\n",
       " 290]\n",
       "----------------------\n",
       "type: 100000 * float64</pre>"
      ],
      "text/plain": [
       "<Array [154, 132, 419, 57.7, ..., 105, 765, 261, 290] type='100000 * float64'>"
      ]
     },
     "execution_count": 17,
     "metadata": {},
     "output_type": "execute_result"
    }
   ],
   "source": [
    "jlead_pt"
   ]
  },
  {
   "cell_type": "code",
   "execution_count": 18,
   "id": "8399a418-ab69-4f24-a2e4-84a121e064a8",
   "metadata": {},
   "outputs": [
    {
     "data": {
      "text/plain": [
       "2626.5504919095492"
      ]
     },
     "execution_count": 18,
     "metadata": {},
     "output_type": "execute_result"
    }
   ],
   "source": [
    "max(jlead_pt)"
   ]
  },
  {
   "cell_type": "code",
   "execution_count": 19,
   "id": "31e54005-9df8-406c-b1a7-14d0f6fa4a75",
   "metadata": {},
   "outputs": [
    {
     "data": {
      "text/plain": [
       "30.374951279165543"
      ]
     },
     "execution_count": 19,
     "metadata": {},
     "output_type": "execute_result"
    }
   ],
   "source": [
    "min(jlead_pt)"
   ]
  },
  {
   "cell_type": "code",
   "execution_count": 20,
   "id": "135695a5-f136-4a46-b3a6-364119e90943",
   "metadata": {},
   "outputs": [
    {
     "data": {
      "image/png": "[encoded data removed]",
      "text/plain": [
       "<Figure size 640x480 with 1 Axes>"
      ]
     },
     "metadata": {},
     "output_type": "display_data"
    }
   ],
   "source": [
    "# histogram for NP signal (n = number of events per bin)\n",
    "# density=True gives bin's raw count divided by the total number of counts and the bin width, i.e. density = counts / (sum(counts) * np.diff(bins)\n",
    "n, bins, _ =plt.hist(jlead_pt,bins=30,range=(30,800),label='non-linear axion', alpha=0.5,density=False,color = \"blue\", ec=\"k\",histtype='stepfilled',log=False)\n",
    "plt.xlim(0, 800)\n",
    "plt.tight_layout()\n",
    "#plt.title(r'$m_{\\gamma \\gamma}$ ',fontsize=15)\n",
    "plt.xlabel(r'$p_T^{j,lead}$ (GeV)',fontsize=15)\n",
    "plt.ylabel(r'events per bin',fontsize=15)\n",
    "plt.show()"
   ]
  },
  {
   "cell_type": "code",
   "execution_count": 21,
   "id": "35734674-febf-4873-872b-7479c91f11ba",
   "metadata": {},
   "outputs": [],
   "source": [
    "acc_bins = n.sum()/Ntot"
   ]
  },
  {
   "cell_type": "code",
   "execution_count": 22,
   "id": "eb5f7fa0-9775-49bc-954e-2f0790718aaf",
   "metadata": {},
   "outputs": [
    {
     "data": {
      "text/plain": [
       "0.93729"
      ]
     },
     "execution_count": 22,
     "metadata": {},
     "output_type": "execute_result"
    }
   ],
   "source": [
    "acc_bins"
   ]
  },
  {
   "cell_type": "markdown",
   "id": "ae39df20-6dc0-4cf2-a915-e50ca6b55bde",
   "metadata": {},
   "source": [
    "# $p_T^{\\gamma}$ distribution"
   ]
  },
  {
   "cell_type": "markdown",
   "id": "5897ff77-12ab-4be7-a2d1-459e40257df5",
   "metadata": {
    "jp-MarkdownHeadingCollapsed": true
   },
   "source": [
    "## Read in data and background from Table 3a in HEPdata"
   ]
  },
  {
   "cell_type": "code",
   "execution_count": 23,
   "id": "cd24ceaf-7ab6-4153-a255-916e7d8e761f",
   "metadata": {},
   "outputs": [],
   "source": [
    "#data (rows 10-14)\n",
    "raw_data = pd.read_csv('../MadGraph/ppaxgammaZ/data_gammaZ.csv', sep=',', nrows=4, header=10).values"
   ]
  },
  {
   "cell_type": "code",
   "execution_count": 24,
   "id": "d25aa5fa-4b60-406c-9661-b3f7ee8c20a5",
   "metadata": {},
   "outputs": [
    {
     "data": {
      "text/plain": [
       "array([ 5.0e+01,  2.0e+01,  8.0e+01,  5.9e-02,  2.1e-02, -2.1e-02])"
      ]
     },
     "execution_count": 24,
     "metadata": {},
     "output_type": "execute_result"
    }
   ],
   "source": [
    "raw_data[0]"
   ]
  },
  {
   "cell_type": "code",
   "execution_count": 25,
   "id": "47c8c88f-e2f6-4733-8076-7a99ee0e80a8",
   "metadata": {},
   "outputs": [
    {
     "data": {
      "text/plain": [
       "300.0"
      ]
     },
     "execution_count": 25,
     "metadata": {},
     "output_type": "execute_result"
    }
   ],
   "source": [
    "raw_data[-1,0]"
   ]
  },
  {
   "cell_type": "code",
   "execution_count": 26,
   "id": "02682ba5-efe4-48ff-8f41-03b5d19ceec1",
   "metadata": {},
   "outputs": [],
   "source": [
    "mgammaZ_bin_center = raw_data[:,0]"
   ]
  },
  {
   "cell_type": "code",
   "execution_count": 27,
   "id": "b45c32c5-153e-46fd-8811-2af5b6b095a2",
   "metadata": {},
   "outputs": [
    {
     "data": {
      "text/plain": [
       "array([ 50., 100., 160., 300.])"
      ]
     },
     "execution_count": 27,
     "metadata": {},
     "output_type": "execute_result"
    }
   ],
   "source": [
    "mgammaZ_bin_center"
   ]
  },
  {
   "cell_type": "code",
   "execution_count": 28,
   "id": "1f2f99fd-7950-4fdd-82e4-a14c4c71caa0",
   "metadata": {},
   "outputs": [],
   "source": [
    "mgammaZ_bin_lower=raw_data[:,1]"
   ]
  },
  {
   "cell_type": "code",
   "execution_count": 29,
   "id": "4fb68487-e880-42f5-b269-d7879bc34a75",
   "metadata": {},
   "outputs": [],
   "source": [
    "mgammaZ_bin_upper=raw_data[:,2]"
   ]
  },
  {
   "cell_type": "code",
   "execution_count": 30,
   "id": "b9e9cfb7-2e48-40d0-8949-46ce8cb37a6e",
   "metadata": {},
   "outputs": [],
   "source": [
    "mgammaZ_bins = np.append(mgammaZ_bin_lower, mgammaZ_bin_upper[-1])"
   ]
  },
  {
   "cell_type": "code",
   "execution_count": 31,
   "id": "dab7b824-0080-48d6-b41f-645e825fc50c",
   "metadata": {},
   "outputs": [
    {
     "data": {
      "text/plain": [
       "array([ 20.,  80., 120., 200., 400.])"
      ]
     },
     "execution_count": 31,
     "metadata": {},
     "output_type": "execute_result"
    }
   ],
   "source": [
    "mgammaZ_bins"
   ]
  },
  {
   "cell_type": "code",
   "execution_count": 32,
   "id": "ed5d7076-a548-4e0e-bdf6-8590dcf2b15f",
   "metadata": {},
   "outputs": [],
   "source": [
    "data = raw_data[:,3]"
   ]
  },
  {
   "cell_type": "code",
   "execution_count": 33,
   "id": "38cefc89-2bd3-4eb7-914b-5212c8cee409",
   "metadata": {},
   "outputs": [
    {
     "data": {
      "text/plain": [
       "4"
      ]
     },
     "execution_count": 33,
     "metadata": {},
     "output_type": "execute_result"
    }
   ],
   "source": [
    "len(data)"
   ]
  },
  {
   "cell_type": "code",
   "execution_count": 34,
   "id": "488416ec-72f8-4f76-929f-e9f789581d74",
   "metadata": {},
   "outputs": [
    {
     "name": "stdout",
     "output_type": "stream",
     "text": [
      "[0.059   0.0264  0.0074  0.00147]\n"
     ]
    }
   ],
   "source": [
    "print(data)\n",
    "# last bin 1??"
   ]
  },
  {
   "cell_type": "code",
   "execution_count": 35,
   "id": "112c6d6e-a453-4f21-b6ad-8d1b95d18795",
   "metadata": {},
   "outputs": [],
   "source": [
    "# total uncertainty, the uncertainty bands are symmetric\n",
    "data_unc = raw_data[:,-2]"
   ]
  },
  {
   "cell_type": "code",
   "execution_count": 36,
   "id": "d44bb3ea-96ed-40bd-84eb-79be401523fa",
   "metadata": {},
   "outputs": [
    {
     "name": "stdout",
     "output_type": "stream",
     "text": [
      "[0.021   0.006   0.0024  0.00068]\n"
     ]
    }
   ],
   "source": [
    "print(data_unc)"
   ]
  },
  {
   "cell_type": "code",
   "execution_count": 37,
   "id": "f1faa9dd-c2e7-4923-92ec-78755fd3bc10",
   "metadata": {},
   "outputs": [
    {
     "data": {
      "text/plain": [
       "array([0.08   , 0.0324 , 0.0098 , 0.00215])"
      ]
     },
     "execution_count": 37,
     "metadata": {},
     "output_type": "execute_result"
    }
   ],
   "source": [
    "data+data_unc"
   ]
  },
  {
   "cell_type": "code",
   "execution_count": 38,
   "id": "ea3a955f-e28a-44a1-9727-18d63f274059",
   "metadata": {},
   "outputs": [],
   "source": [
    "#background, take SHERPA (rows 84-154)\n",
    "raw_background = pd.read_csv('../MadGraph/ppaxgammaZ/data_gammaZ.csv', sep=',', nrows=4, header=17).values"
   ]
  },
  {
   "cell_type": "code",
   "execution_count": 39,
   "id": "4f3ff01a-7732-47cd-ab7d-becda8a18ce1",
   "metadata": {},
   "outputs": [
    {
     "data": {
      "text/plain": [
       "array([ 5.00e+01,  2.00e+01,  8.00e+01,  5.39e-02,  8.90e-03, -8.90e-03])"
      ]
     },
     "execution_count": 39,
     "metadata": {},
     "output_type": "execute_result"
    }
   ],
   "source": [
    "raw_background[0]"
   ]
  },
  {
   "cell_type": "code",
   "execution_count": 40,
   "id": "df874010-5e73-47df-9616-5c37802a7d0d",
   "metadata": {},
   "outputs": [],
   "source": [
    "background = raw_background[:,3]"
   ]
  },
  {
   "cell_type": "code",
   "execution_count": 41,
   "id": "1d7e48ec-932e-4ba3-964b-43035a6840fb",
   "metadata": {},
   "outputs": [
    {
     "name": "stdout",
     "output_type": "stream",
     "text": [
      "[0.0539  0.0134  0.0049  0.00114]\n"
     ]
    }
   ],
   "source": [
    "print(background)"
   ]
  },
  {
   "cell_type": "code",
   "execution_count": 42,
   "id": "01d21d7d-d86f-4f67-9cf0-eec1ad32321d",
   "metadata": {},
   "outputs": [],
   "source": [
    "background_unc = raw_background[:,4]"
   ]
  },
  {
   "cell_type": "code",
   "execution_count": 43,
   "id": "ddba6d3d-218f-4830-85fe-944836725ea2",
   "metadata": {},
   "outputs": [
    {
     "name": "stdout",
     "output_type": "stream",
     "text": [
      "[0.0089  0.0024  0.001   0.00025]\n"
     ]
    }
   ],
   "source": [
    "# systematic background uncertainty\n",
    "# wtf, 33??? is this true??\n",
    "print(background_unc)"
   ]
  },
  {
   "cell_type": "code",
   "execution_count": 44,
   "id": "9d8aa7b9-a573-4867-9a08-943b9c6f6ab4",
   "metadata": {},
   "outputs": [
    {
     "name": "stderr",
     "output_type": "stream",
     "text": [
      "<>:6: SyntaxWarning: invalid escape sequence '\\g'\n",
      "<>:8: SyntaxWarning: invalid escape sequence '\\g'\n",
      "<>:6: SyntaxWarning: invalid escape sequence '\\g'\n",
      "<>:8: SyntaxWarning: invalid escape sequence '\\g'\n",
      "/var/folders/d0/vjgg68h93_q2fcyzx7cftx_h0000gn/T/ipykernel_34382/2515729461.py:6: SyntaxWarning: invalid escape sequence '\\g'\n",
      "  plt.xlabel('$p_T^{\\gamma}$ (GeV) ')\n",
      "/var/folders/d0/vjgg68h93_q2fcyzx7cftx_h0000gn/T/ipykernel_34382/2515729461.py:8: SyntaxWarning: invalid escape sequence '\\g'\n",
      "  plt.title(\"Data and background distribution in $p_T^{\\gamma}$\")\n"
     ]
    },
    {
     "data": {
      "text/plain": [
       "<matplotlib.legend.Legend at 0x28bfeb860>"
      ]
     },
     "execution_count": 44,
     "metadata": {},
     "output_type": "execute_result"
    },
    {
     "data": {
      "image/png": "[encoded data removed]",
      "text/plain": [
       "<Figure size 640x480 with 1 Axes>"
      ]
     },
     "metadata": {},
     "output_type": "display_data"
    }
   ],
   "source": [
    "plt.bar(mgammaZ_bins[:-1], background, width=np.diff(mgammaZ_bins), align='edge', alpha=1, color='royalblue',label='background')\n",
    "#plt.bar(mZZ_bins[:-1], background_unc, width=np.diff(mZZ_bins), align='edge', alpha=0.3, color='royalblue',label='background unc')\n",
    "plt.scatter(mgammaZ_bin_center, data, color='black', label='data')\n",
    "plt.xlim(20,400)\n",
    "plt.errorbar(mgammaZ_bin_center, data, data_unc, color='black', alpha=1,fmt='none')\n",
    "plt.xlabel('$p_T^{\\gamma}$ (GeV) ')\n",
    "plt.ylabel(r'$\\frac{d \\sigma}{d p_T^{\\gamma}}$')\n",
    "plt.title(\"Data and background distribution in $p_T^{\\gamma}$\")\n",
    "plt.legend()"
   ]
  },
  {
   "cell_type": "code",
   "execution_count": 45,
   "id": "75960d13-1a40-4e05-aa3d-f4c8e15809a3",
   "metadata": {},
   "outputs": [
    {
     "data": {
      "text/plain": [
       "5.482"
      ]
     },
     "execution_count": 45,
     "metadata": {},
     "output_type": "execute_result"
    }
   ],
   "source": [
    "(data*np.diff(mgammaZ_bins)).sum()"
   ]
  },
  {
   "cell_type": "markdown",
   "id": "09f868e6-e63b-4f32-aaf2-2ba0fc6f9077",
   "metadata": {
    "jp-MarkdownHeadingCollapsed": true
   },
   "source": [
    "## Histogram with signal events in the right binning"
   ]
  },
  {
   "cell_type": "code",
   "execution_count": 46,
   "id": "34c9c8d4-58e6-47ae-ac27-d32065537591",
   "metadata": {},
   "outputs": [
    {
     "data": {
      "image/png": "[encoded data removed]",
      "text/plain": [
       "<Figure size 640x480 with 1 Axes>"
      ]
     },
     "metadata": {},
     "output_type": "display_data"
    }
   ],
   "source": [
    "# histogram for NP signal (n = number of events per bin)\n",
    "# density=True gives bin's raw count divided by the total number of counts and the bin width, i.e. density = counts / (sum(counts) * np.diff(bins))\n",
    "n_signal, bins, _ =plt.hist(ga.pt,bins=mgammaZ_bins,range=(20,400),label='non-linear axion', alpha=0.5,density=True,color = \"red\", ec=\"k\",histtype='stepfilled',log=False)\n",
    "plt.xlim(20, 400)\n",
    "plt.tight_layout()\n",
    "plt.title(r'signal distribution for $p_T^{\\gamma}$ ',fontsize=15)\n",
    "plt.xlabel(r'$p_T^{\\gamma}$ (GeV)',fontsize=15)\n",
    "plt.ylabel(r'Normalized distributions',fontsize=15)\n",
    "#plt.savefig(\"mHHdist.pdf\")\n",
    "plt.show()"
   ]
  },
  {
   "cell_type": "code",
   "execution_count": 47,
   "id": "5dca04e8-2b53-46fa-a10f-2b27b11bf252",
   "metadata": {},
   "outputs": [
    {
     "data": {
      "text/plain": [
       "1.0"
      ]
     },
     "execution_count": 47,
     "metadata": {},
     "output_type": "execute_result"
    }
   ],
   "source": [
    "(n_signal*np.diff(mgammaZ_bins)).sum()"
   ]
  },
  {
   "cell_type": "markdown",
   "id": "f11e7729-5de2-49a4-8552-201048673b1a",
   "metadata": {},
   "source": [
    "ATLAS also gives the data and background in events per bin and per bin width, meaning that we do not have to multiply with the bin width to compare the signal."
   ]
  },
  {
   "cell_type": "markdown",
   "id": "9658ddc2-963f-4c16-9a6b-397d5cf909c9",
   "metadata": {
    "jp-MarkdownHeadingCollapsed": true
   },
   "source": [
    "## Compare signal with data and background\n"
   ]
  },
  {
   "cell_type": "code",
   "execution_count": 48,
   "id": "8e29d2b2-42b8-4b7d-9e90-24f21b89c8a7",
   "metadata": {},
   "outputs": [],
   "source": [
    "# rescale the MG5 signal events to compare with the data: N_events = n_events * L * sigma * acc\n",
    "# acc = acceptence to the phase space cuts = number of events that pass the cuts / number of all events\n",
    "# sigma in lhe file: total cross section including BR (unless we generate the process with decaying the Higgses or Z), sigma in pb\n",
    "# cross check with more severe cuts that sigma * acc is the same\n",
    "\n",
    "# careful! the lumi is given in fb, and so is the differential cross section. \n",
    "# So we need the cross section from MadGraph in fb as well, which explains the additional factor of 1000.\n",
    "lumi = 137\n",
    "acc = 0.0673  # BR of Z into leptons, assume efficiency 1\n",
    "N_events = n_signal * lumi * sigma * acc"
   ]
  },
  {
   "cell_type": "code",
   "execution_count": 49,
   "id": "9f9d1446-8bc9-4f26-8057-eddaba507d57",
   "metadata": {},
   "outputs": [
    {
     "name": "stderr",
     "output_type": "stream",
     "text": [
      "<>:6: SyntaxWarning: invalid escape sequence '\\g'\n",
      "<>:6: SyntaxWarning: invalid escape sequence '\\g'\n",
      "/var/folders/d0/vjgg68h93_q2fcyzx7cftx_h0000gn/T/ipykernel_34382/298403872.py:6: SyntaxWarning: invalid escape sequence '\\g'\n",
      "  plt.xlabel('$p_T^{\\gamma}$ (GeV)',fontsize=15)\n"
     ]
    },
    {
     "data": {
      "image/png": "[encoded data removed]",
      "text/plain": [
       "<Figure size 640x480 with 1 Axes>"
      ]
     },
     "metadata": {},
     "output_type": "display_data"
    }
   ],
   "source": [
    "plt.bar(bins[:-1], background*lumi+n_signal*sigma*1000*lumi*acc, width=np.diff(bins), align='edge', alpha=1, color='orangered', label='NP signal + BG')\n",
    "#plt.bar(bins[:-1], n_norm*sigma*lumi, width=np.diff(bins), align='edge', alpha=1, color='orangered', label='NP signal + BG')\n",
    "plt.bar(bins[:-1], background*lumi, width=np.diff(bins), align='edge', alpha=1, color='royalblue',label='SHERPA background')\n",
    "plt.xlim(20, 400)\n",
    "#plt.ylim(0,10000)\n",
    "plt.xlabel('$p_T^{\\gamma}$ (GeV)',fontsize=15)\n",
    "plt.ylabel('Number of events',fontsize=15)\n",
    "plt.errorbar(mgammaZ_bin_center, data*lumi, data_unc*lumi, color='black', alpha=1,fmt='none')\n",
    "plt.scatter(mgammaZ_bin_center, data*lumi, color='black', label='ATLAS data')\n",
    "plt.legend()\n",
    "plt.title(r\"$ALP \\rightarrow \\gamma Z$ in $p_T^{\\gamma}$\")\n",
    "plt.tight_layout()\n",
    "#plt.savefig(\"/Users/esser/Documents/PROJECTS/ALPsPheno/ALP HH/ALP-HH analysis/all_params_1/mHHc=1_all1.pdf\")\n",
    "plt.show()"
   ]
  },
  {
   "cell_type": "markdown",
   "id": "1de414cc-8232-4fff-8175-836cad6adfec",
   "metadata": {},
   "source": [
    "### Output data to Mathematica"
   ]
  },
  {
   "cell_type": "code",
   "execution_count": 50,
   "id": "ab82f90c-0b6e-46d2-b248-880de1c3b69a",
   "metadata": {},
   "outputs": [
    {
     "name": "stdout",
     "output_type": "stream",
     "text": [
      "{5.9000*10^-02,2.6400*10^-02,7.4000*10^-03,1.4700*10^-03};\n"
     ]
    }
   ],
   "source": [
    "# data\n",
    "Mathematica_data = \"{\" + \",\".join([f\"{x:.4e}\".replace('e', '*10^') for x in data]) + \"}\" + \";\"\n",
    "print(Mathematica_data)"
   ]
  },
  {
   "cell_type": "code",
   "execution_count": 51,
   "id": "17c12787-3c9d-442f-9cd9-feea5f6d35ff",
   "metadata": {},
   "outputs": [
    {
     "name": "stdout",
     "output_type": "stream",
     "text": [
      "{2.1000*10^-02,6.0000*10^-03,2.4000*10^-03,6.8000*10^-04};\n"
     ]
    }
   ],
   "source": [
    "# data unc\n",
    "Mathematica_data_unc = \"{\" + \",\".join([f\"{x:.4e}\".replace('e', '*10^') for x in data_unc]) + \"}\" \";\"\n",
    "print(Mathematica_data_unc)"
   ]
  },
  {
   "cell_type": "code",
   "execution_count": 52,
   "id": "ff18b167-a114-4cf9-bd6e-2cf5e72bef4e",
   "metadata": {},
   "outputs": [
    {
     "name": "stdout",
     "output_type": "stream",
     "text": [
      "{5.3900*10^-02,1.3400*10^-02,4.9000*10^-03,1.1400*10^-03};\n"
     ]
    }
   ],
   "source": [
    "# background\n",
    "Mathematica_background = \"{\" + \",\".join([f\"{x:.4e}\".replace('e', '*10^') for x in background]) + \"}\" \";\"\n",
    "print(Mathematica_background)"
   ]
  },
  {
   "cell_type": "code",
   "execution_count": 53,
   "id": "6e801a1f-5265-44cc-86c0-d7854d5fd93d",
   "metadata": {},
   "outputs": [
    {
     "name": "stdout",
     "output_type": "stream",
     "text": [
      "{4.6452*10^-04,8.7301*10^-04,1.1453*10^-03,1.1788*10^-03};\n"
     ]
    }
   ],
   "source": [
    "# signal\n",
    "N_signal = n_signal * sigma * 1000 * acc\n",
    "Mathematica_signal = \"{\" + \",\".join([f\"{x:.4e}\".replace('e', '*10^') for x in N_signal]) + \"}\" \";\"\n",
    "print(Mathematica_signal)"
   ]
  },
  {
   "cell_type": "code",
   "execution_count": 54,
   "id": "89296bfa-e680-4254-991f-52c44a2477da",
   "metadata": {},
   "outputs": [
    {
     "name": "stdout",
     "output_type": "stream",
     "text": [
      "{50,100,160,300};\n"
     ]
    }
   ],
   "source": [
    "# bin center\n",
    "Mathematica_bin_center = \"{\" + \",\".join([\"{:.0f}\".format(x) for x in mgammaZ_bin_center]) + \"}\" \";\"\n",
    "print(Mathematica_bin_center)"
   ]
  },
  {
   "cell_type": "markdown",
   "id": "1c5341bf-09f8-4662-89d2-01d5f33f1b04",
   "metadata": {},
   "source": [
    "# $p_T^{j,lead}$ distribution"
   ]
  },
  {
   "cell_type": "markdown",
   "id": "cadcd070-e549-4a13-bdb8-4bdfcf1afe12",
   "metadata": {},
   "source": [
    "## Read in data and background from Table 3b in HEPdata"
   ]
  },
  {
   "cell_type": "code",
   "execution_count": 55,
   "id": "f7d060a0-65f4-4ba4-87ea-74d21da341d1",
   "metadata": {},
   "outputs": [],
   "source": [
    "#data (rows 10-14)\n",
    "raw_data_jl = pd.read_csv('../MadGraph/ppaxgammaZ/data_gammaZ_pT_jlead.csv', sep=';', nrows=4, header=10).values"
   ]
  },
  {
   "cell_type": "code",
   "execution_count": 56,
   "id": "f07c50d1-89c3-45f1-87bf-726e75d36bce",
   "metadata": {},
   "outputs": [
    {
     "data": {
      "text/plain": [
       "array([ 9.0e+01,  3.0e+01,  1.5e+02,  1.9e+01,  1.0e-02, -1.0e-02])"
      ]
     },
     "execution_count": 56,
     "metadata": {},
     "output_type": "execute_result"
    }
   ],
   "source": [
    "raw_data_jl[0]"
   ]
  },
  {
   "cell_type": "code",
   "execution_count": 57,
   "id": "8d5460c9-1c3d-4b3f-b72f-7b2eb4c5767c",
   "metadata": {},
   "outputs": [
    {
     "data": {
      "text/plain": [
       "575.0"
      ]
     },
     "execution_count": 57,
     "metadata": {},
     "output_type": "execute_result"
    }
   ],
   "source": [
    "raw_data_jl[-1,0]"
   ]
  },
  {
   "cell_type": "code",
   "execution_count": 58,
   "id": "e5c3c2ff-0f0a-4519-bf7b-6b5a6838396e",
   "metadata": {},
   "outputs": [],
   "source": [
    "jl_bin_center = raw_data_jl[:,0]"
   ]
  },
  {
   "cell_type": "code",
   "execution_count": 59,
   "id": "12af502d-d6b1-45c3-b6af-9b46dc2b3cd4",
   "metadata": {},
   "outputs": [
    {
     "data": {
      "text/plain": [
       "array([ 90., 200., 300., 575.])"
      ]
     },
     "execution_count": 59,
     "metadata": {},
     "output_type": "execute_result"
    }
   ],
   "source": [
    "jl_bin_center"
   ]
  },
  {
   "cell_type": "code",
   "execution_count": 60,
   "id": "3cd46cd6-9740-4fb9-b2e9-22ad5cdeee36",
   "metadata": {},
   "outputs": [],
   "source": [
    "jl_bin_lower=raw_data_jl[:,1]"
   ]
  },
  {
   "cell_type": "code",
   "execution_count": 61,
   "id": "fda4a75d-2c0c-4cf5-bafd-fe142ae2c391",
   "metadata": {},
   "outputs": [],
   "source": [
    "jl_bin_upper=raw_data_jl[:,2]"
   ]
  },
  {
   "cell_type": "code",
   "execution_count": 62,
   "id": "85262975-0427-4fe0-acdf-ba3269fa6828",
   "metadata": {},
   "outputs": [],
   "source": [
    "jl_bins = np.append(jl_bin_lower, jl_bin_upper[-1])"
   ]
  },
  {
   "cell_type": "code",
   "execution_count": 63,
   "id": "0a53beef-9817-47df-ba34-14914e31826e",
   "metadata": {},
   "outputs": [
    {
     "data": {
      "text/plain": [
       "array([ 30., 150., 250., 350., 800.])"
      ]
     },
     "execution_count": 63,
     "metadata": {},
     "output_type": "execute_result"
    }
   ],
   "source": [
    "jl_bins"
   ]
  },
  {
   "cell_type": "code",
   "execution_count": 64,
   "id": "6e548e4a-0ea0-45c8-9e65-c3dad6df07b8",
   "metadata": {},
   "outputs": [],
   "source": [
    "data_jl = raw_data_jl[:,3]\n",
    "data_jl[0]=0.019"
   ]
  },
  {
   "cell_type": "code",
   "execution_count": 65,
   "id": "a0bcbafc-200c-4b91-9924-88bc72b7d083",
   "metadata": {},
   "outputs": [
    {
     "name": "stdout",
     "output_type": "stream",
     "text": [
      "[0.019   0.0133  0.0056  0.00109]\n"
     ]
    }
   ],
   "source": [
    "print(data_jl)"
   ]
  },
  {
   "cell_type": "code",
   "execution_count": 66,
   "id": "6152dc38-ecda-41f5-9cdf-17b6eacebbcb",
   "metadata": {},
   "outputs": [],
   "source": [
    "# total uncertainty, the uncertainty bands are symmetric\n",
    "data_unc_jl = raw_data_jl[:,-2]\n",
    "data_unc_jl[1] = 0.0026"
   ]
  },
  {
   "cell_type": "code",
   "execution_count": 67,
   "id": "3e1cc0c1-507d-4851-8443-b6d32116ea58",
   "metadata": {},
   "outputs": [
    {
     "name": "stdout",
     "output_type": "stream",
     "text": [
      "[0.01   0.0026 0.0025 0.0036]\n"
     ]
    }
   ],
   "source": [
    "print(data_unc_jl)"
   ]
  },
  {
   "cell_type": "code",
   "execution_count": 68,
   "id": "153a7e50-3379-4739-a3cf-5eb45b91cf8e",
   "metadata": {},
   "outputs": [],
   "source": [
    "raw_background_jl = pd.read_csv('../MadGraph/ppaxgammaZ/data_gammaZ_pT_jlead.csv', sep=';', nrows=4, header=18).values"
   ]
  },
  {
   "cell_type": "code",
   "execution_count": 69,
   "id": "5aceec12-b72c-4c01-bd3e-5749fe7b6784",
   "metadata": {},
   "outputs": [
    {
     "data": {
      "text/plain": [
       "array([ 9.00e+01,  3.00e+01,  1.50e+02,  1.76e-02,  2.80e-03, -2.80e-03])"
      ]
     },
     "execution_count": 69,
     "metadata": {},
     "output_type": "execute_result"
    }
   ],
   "source": [
    "raw_background_jl[0]"
   ]
  },
  {
   "cell_type": "code",
   "execution_count": 70,
   "id": "acb86ce6-f205-40b3-83ec-63bb1026153a",
   "metadata": {},
   "outputs": [],
   "source": [
    "background_jl = raw_background_jl[:,3]"
   ]
  },
  {
   "cell_type": "code",
   "execution_count": 71,
   "id": "73d751ef-3a05-4097-83af-99462d4e8746",
   "metadata": {},
   "outputs": [
    {
     "name": "stdout",
     "output_type": "stream",
     "text": [
      "[0.0176  0.0149  0.0052  0.00059]\n"
     ]
    }
   ],
   "source": [
    "print(background_jl)"
   ]
  },
  {
   "cell_type": "code",
   "execution_count": 72,
   "id": "3940cc33-87b5-4f58-8476-c838cbedaf05",
   "metadata": {},
   "outputs": [],
   "source": [
    "background_unc_jl = raw_background_jl[:,4]\n",
    "background_unc_jl[2]= 0.001"
   ]
  },
  {
   "cell_type": "code",
   "execution_count": 73,
   "id": "37ed60ce-4972-4639-a9ec-cc471b100fc9",
   "metadata": {},
   "outputs": [
    {
     "name": "stdout",
     "output_type": "stream",
     "text": [
      "[0.0028  0.0026  0.001   0.00014]\n"
     ]
    }
   ],
   "source": [
    "print(background_unc_jl)"
   ]
  },
  {
   "cell_type": "code",
   "execution_count": 74,
   "id": "15e3d23d-41a4-4b42-84a4-76f871d1c31b",
   "metadata": {},
   "outputs": [
    {
     "data": {
      "text/plain": [
       "<matplotlib.legend.Legend at 0x28bce87d0>"
      ]
     },
     "execution_count": 74,
     "metadata": {},
     "output_type": "execute_result"
    },
    {
     "data": {
      "image/png": "[encoded data removed]",
      "text/plain": [
       "<Figure size 640x480 with 1 Axes>"
      ]
     },
     "metadata": {},
     "output_type": "display_data"
    }
   ],
   "source": [
    "plt.bar(jl_bins[:-1], background_jl, width=np.diff(jl_bins), align='edge', alpha=1, color='royalblue',label='background')\n",
    "#plt.bar(mZZ_bins[:-1], background_unc, width=np.diff(mZZ_bins), align='edge', alpha=0.3, color='royalblue',label='background unc')\n",
    "plt.scatter(jl_bin_center, data_jl, color='black', label='data')\n",
    "plt.xlim(30,800)\n",
    "plt.errorbar(jl_bin_center, data_jl, data_unc_jl, color='black', alpha=1,fmt='none')\n",
    "plt.xlabel('$p_T^{j,lead}$ (GeV) ')\n",
    "plt.ylabel(r'$\\frac{d \\sigma}{d p_T^{j,lead}}$')\n",
    "plt.title(\"Data and background distribution in $p_T^{j,lead}$\")\n",
    "plt.legend()"
   ]
  },
  {
   "cell_type": "code",
   "execution_count": 75,
   "id": "262364de-660b-4290-a00f-a0deea2422ce",
   "metadata": {},
   "outputs": [
    {
     "data": {
      "text/plain": [
       "4.660499999999999"
      ]
     },
     "execution_count": 75,
     "metadata": {},
     "output_type": "execute_result"
    }
   ],
   "source": [
    "(data_jl*np.diff(jl_bins)).sum()"
   ]
  },
  {
   "cell_type": "markdown",
   "id": "99cfaf6d-1108-4d21-9ed8-3df24781cbf9",
   "metadata": {},
   "source": [
    "## Histogram with signal events in the right binning"
   ]
  },
  {
   "cell_type": "code",
   "execution_count": 76,
   "id": "3e753106-2305-4509-bd57-3cbdac482478",
   "metadata": {},
   "outputs": [
    {
     "data": {
      "image/png": "[encoded data removed]",
      "text/plain": [
       "<Figure size 640x480 with 1 Axes>"
      ]
     },
     "metadata": {},
     "output_type": "display_data"
    }
   ],
   "source": [
    "# histogram for NP signal (n = number of events per bin)\n",
    "# density=True gives bin's raw count divided by the total number of counts and the bin width, i.e. density = counts / (sum(counts) * np.diff(bins))\n",
    "n_signal_jl, bins_jl, _ =plt.hist(jlead_pt,bins=jl_bins,range=(30,800),label='non-linear axion', alpha=0.5,density=True,color = \"red\", ec=\"k\",histtype='stepfilled',log=False)\n",
    "plt.xlim(30, 800)\n",
    "plt.tight_layout()\n",
    "plt.title(r'signal distribution for $p_T^{j,lead}$ ',fontsize=15)\n",
    "plt.xlabel(r'$p_T^{j,lead}$ (GeV)',fontsize=15)\n",
    "plt.ylabel(r'Normalized distributions',fontsize=15)\n",
    "#plt.savefig(\"mHHdist.pdf\")\n",
    "plt.show()"
   ]
  },
  {
   "cell_type": "code",
   "execution_count": 77,
   "id": "73b1de4d-2cfc-41a6-8fd1-fc823c18679b",
   "metadata": {},
   "outputs": [
    {
     "data": {
      "text/plain": [
       "1.0"
      ]
     },
     "execution_count": 77,
     "metadata": {},
     "output_type": "execute_result"
    }
   ],
   "source": [
    "(n_signal_jl*np.diff(jl_bins)).sum()"
   ]
  },
  {
   "cell_type": "markdown",
   "id": "6a2164a1-6a9c-4767-a51a-10b52af8c558",
   "metadata": {},
   "source": [
    "## Compare signal with background and data"
   ]
  },
  {
   "cell_type": "code",
   "execution_count": 78,
   "id": "686fd53b-602c-453f-a1c5-a2743ec00fdd",
   "metadata": {},
   "outputs": [],
   "source": [
    "# careful! the lumi is given in fb, and so is the differential cross section. \n",
    "# So we need the cross section from MadGraph in fb as well, which explains the additional factor of 1000.\n",
    "lumi = 137\n",
    "acc = 0.0673 * acc_bins # BR of Z into leptons, assume efficiency 1\n",
    "N_events_jl = n_signal_jl * lumi * sigma * acc"
   ]
  },
  {
   "cell_type": "code",
   "execution_count": 79,
   "id": "11124cc9-b124-4b47-963e-f79acbb501a2",
   "metadata": {},
   "outputs": [
    {
     "data": {
      "text/plain": [
       "0.005797535391337517"
      ]
     },
     "execution_count": 79,
     "metadata": {},
     "output_type": "execute_result"
    }
   ],
   "source": [
    "sigma"
   ]
  },
  {
   "cell_type": "code",
   "execution_count": 80,
   "id": "33930c34-0375-4ecb-af9f-4870a2cb7825",
   "metadata": {},
   "outputs": [
    {
     "data": {
      "image/png": "[encoded data removed]",
      "text/plain": [
       "<Figure size 640x480 with 1 Axes>"
      ]
     },
     "metadata": {},
     "output_type": "display_data"
    }
   ],
   "source": [
    "plt.bar(bins_jl[:-1], background_jl*lumi+n_signal_jl*sigma*1000*lumi*acc, width=np.diff(bins_jl), align='edge', alpha=1, color='orangered', label='NP signal + BG')\n",
    "#plt.bar(bins[:-1], n_norm*sigma*lumi, width=np.diff(bins), align='edge', alpha=1, color='orangered', label='NP signal + BG')\n",
    "plt.bar(bins_jl[:-1], background_jl*lumi, width=np.diff(bins_jl), align='edge', alpha=1, color='royalblue',label='SHERPA background')\n",
    "plt.xlim(30, 800)\n",
    "#plt.ylim(0,10000)\n",
    "plt.xlabel('$p_T^{j,lead}$ (GeV)',fontsize=15)\n",
    "plt.ylabel('Number of events',fontsize=15)\n",
    "plt.errorbar(jl_bin_center, data_jl*lumi, data_unc_jl*lumi, color='black', alpha=1,fmt='none')\n",
    "plt.scatter(jl_bin_center, data_jl*lumi, color='black', label='ATLAS data')\n",
    "plt.legend()\n",
    "plt.title(r\"$ALP \\rightarrow \\gamma Z$ in $p_T^{j,lead}$\")\n",
    "plt.tight_layout()\n",
    "#plt.savefig(\"/Users/esser/Documents/PROJECTS/ALPsPheno/ALP GLOBAL/Figures/gammaZ.pdf\")\n",
    "plt.show()"
   ]
  },
  {
   "cell_type": "markdown",
   "id": "53d178e3-3a35-481d-af8e-ba1004328c50",
   "metadata": {},
   "source": [
    "### Output data to Mathematica"
   ]
  },
  {
   "cell_type": "code",
   "execution_count": 81,
   "id": "44b96374-7e4a-4f1d-a90e-4023424c456b",
   "metadata": {},
   "outputs": [
    {
     "name": "stdout",
     "output_type": "stream",
     "text": [
      "{1.9000*10^-02,1.3300*10^-02,5.6000*10^-03,1.0900*10^-03};\n"
     ]
    }
   ],
   "source": [
    "# data\n",
    "Mathematica_data_jl = \"{\" + \",\".join([f\"{x:.4e}\".replace('e', '*10^') for x in data_jl]) + \"}\" + \";\"\n",
    "print(Mathematica_data_jl)"
   ]
  },
  {
   "cell_type": "code",
   "execution_count": 82,
   "id": "b1fbc77b-3c09-463f-b646-ba7be7526a51",
   "metadata": {},
   "outputs": [
    {
     "name": "stdout",
     "output_type": "stream",
     "text": [
      "{1.0000*10^-02,2.6000*10^-03,2.5000*10^-03,3.6000*10^-03};\n"
     ]
    }
   ],
   "source": [
    "# data unc\n",
    "Mathematica_data_unc_jl = \"{\" + \",\".join([f\"{x:.4e}\".replace('e', '*10^') for x in data_unc_jl]) + \"}\" \";\"\n",
    "print(Mathematica_data_unc_jl)"
   ]
  },
  {
   "cell_type": "code",
   "execution_count": 83,
   "id": "e15d7aaf-2462-46a0-9422-729c6ec62c7d",
   "metadata": {},
   "outputs": [
    {
     "name": "stdout",
     "output_type": "stream",
     "text": [
      "{1.7600*10^-02,1.4900*10^-02,5.2000*10^-03,5.9000*10^-04};\n"
     ]
    }
   ],
   "source": [
    "# background\n",
    "Mathematica_background_jl = \"{\" + \",\".join([f\"{x:.4e}\".replace('e', '*10^') for x in background_jl]) + \"}\" \";\"\n",
    "print(Mathematica_background_jl)"
   ]
  },
  {
   "cell_type": "code",
   "execution_count": 84,
   "id": "2ecf1509-bcd5-4077-8843-8215b1ef5490",
   "metadata": {},
   "outputs": [
    {
     "name": "stdout",
     "output_type": "stream",
     "text": [
      "{9.5962*10^-03,1.5910*10^-02,1.1561*10^-02,4.2197*10^-03};\n"
     ]
    }
   ],
   "source": [
    "# signal\n",
    "N_signal_jl = n_signal_jl * sigma * 1000\n",
    "Mathematica_signal_jl = \"{\" + \",\".join([f\"{x:.4e}\".replace('e', '*10^') for x in N_signal_jl]) + \"}\" \";\"\n",
    "print(Mathematica_signal_jl)"
   ]
  },
  {
   "cell_type": "code",
   "execution_count": 85,
   "id": "42fa3bdf-c79f-4d58-b2e1-01107dc076c5",
   "metadata": {},
   "outputs": [
    {
     "name": "stdout",
     "output_type": "stream",
     "text": [
      "{90,200,300,575};\n"
     ]
    }
   ],
   "source": [
    "# bin center\n",
    "Mathematica_bin_center_jl = \"{\" + \",\".join([\"{:.0f}\".format(x) for x in jl_bin_center]) + \"}\" \";\"\n",
    "print(Mathematica_bin_center_jl)"
   ]
  },
  {
   "cell_type": "code",
   "execution_count": null,
   "id": "a85efdf7-fe29-4df7-bd23-355749430e74",
   "metadata": {},
   "outputs": [],
   "source": []
  }
 ],
 "metadata": {
  "kernelspec": {
   "display_name": "Python 3 (ipykernel)",
   "language": "python",
   "name": "python3"
  },
  "language_info": {
   "codemirror_mode": {
    "name": "ipython",
    "version": 3
   },
   "file_extension": ".py",
   "mimetype": "text/x-python",
   "name": "python",
   "nbconvert_exporter": "python",
   "pygments_lexer": "ipython3",
   "version": "3.12.2"
  }
 },
 "nbformat": 4,
 "nbformat_minor": 5
}
