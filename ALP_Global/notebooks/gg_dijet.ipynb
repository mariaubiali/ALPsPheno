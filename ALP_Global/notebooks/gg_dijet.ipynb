{
 "cells": [
  {
   "cell_type": "code",
   "execution_count": 2,
   "id": "33586981-507d-4188-b295-fe52dcc34f01",
   "metadata": {},
   "outputs": [],
   "source": [
    "import numpy as np\n",
    "import pandas as pd\n",
    "import seaborn as sns\n",
    "import json\n",
    "import os\n",
    "import awkward as ak\n",
    "import hist\n",
    "import math\n",
    "import vector\n",
    "import pylhe\n",
    "import uproot\n",
    "import yaml\n",
    "\n",
    "import matplotlib.pyplot as plt\n",
    "from matplotlib import colormaps\n",
    "plt.rcParams['text.usetex'] = True\n",
    "plt.rcParams['text.latex.preamble'] = r'\\usepackage{lmodern}'  # Usar Latin Modern Roman\n",
    "plt.rcParams['font.size'] = 16\n",
    "plt.rcParams['font.family'] = 'serif'\n",
    "plt.rcParams['font.serif'] = ['Latin Modern Roman']\n",
    "\n",
    "from nnpdf_data import path_commondata\n",
    "import nnpdf_data.commondataparser\n",
    "from nnpdf_data.commondataparser import parse_new_metadata\n",
    "from nnpdf_data.commondataparser import load_commondata\n",
    "from validphys.covmats import covmat_from_systematics"
   ]
  },
  {
   "cell_type": "code",
   "execution_count": 3,
   "id": "68fef40a-de69-45c7-8201-0e12836b7c59",
   "metadata": {},
   "outputs": [
    {
     "name": "stdout",
     "output_type": "stream",
     "text": [
      "The operation couldn’t be completed. Unable to locate a Java Runtime that supports apt.\n",
      "Please visit http://www.java.com for information on installing Java.\n",
      "\n"
     ]
    }
   ],
   "source": [
    "!apt install texlive-fonts-recommended texlive-fonts-extra cm-super dvipng"
   ]
  },
  {
   "cell_type": "code",
   "execution_count": 4,
   "id": "64502202-be7d-486d-8306-67b138c95953",
   "metadata": {},
   "outputs": [
    {
     "name": "stdout",
     "output_type": "stream",
     "text": [
      "Requirement already satisfied: latex in /Users/esser/anaconda3/envs/environment_nnpdf/lib/python3.12/site-packages (0.7.0)\n",
      "Requirement already satisfied: tempdir in /Users/esser/anaconda3/envs/environment_nnpdf/lib/python3.12/site-packages (from latex) (0.7.1)\n",
      "Requirement already satisfied: data in /Users/esser/anaconda3/envs/environment_nnpdf/lib/python3.12/site-packages (from latex) (0.4)\n",
      "Requirement already satisfied: future in /Users/esser/anaconda3/envs/environment_nnpdf/lib/python3.12/site-packages (from latex) (1.0.0)\n",
      "Requirement already satisfied: shutilwhich in /Users/esser/anaconda3/envs/environment_nnpdf/lib/python3.12/site-packages (from latex) (1.1.0)\n",
      "Requirement already satisfied: six in /Users/esser/anaconda3/envs/environment_nnpdf/lib/python3.12/site-packages (from data->latex) (1.17.0)\n",
      "Requirement already satisfied: decorator in /Users/esser/anaconda3/envs/environment_nnpdf/lib/python3.12/site-packages (from data->latex) (5.2.1)\n",
      "Requirement already satisfied: funcsigs in /Users/esser/anaconda3/envs/environment_nnpdf/lib/python3.12/site-packages (from data->latex) (1.0.2)\n",
      "Note: you may need to restart the kernel to use updated packages.\n"
     ]
    }
   ],
   "source": [
    "%pip install latex"
   ]
  },
  {
   "cell_type": "code",
   "execution_count": 5,
   "id": "88c56b09-5bb9-4412-8da8-f1c310cae4dc",
   "metadata": {},
   "outputs": [
    {
     "data": {
      "text/plain": [
       "'/Users/esser/Documents/PROJECTS/ALPsPheno/ALP GLOBAL/github/ALP_Global/notebooks'"
      ]
     },
     "execution_count": 5,
     "metadata": {},
     "output_type": "execute_result"
    }
   ],
   "source": [
    "os.getcwd()"
   ]
  },
  {
   "cell_type": "markdown",
   "id": "09703be4-3358-4153-b443-3061b5096003",
   "metadata": {},
   "source": [
    "# Signal events"
   ]
  },
  {
   "cell_type": "markdown",
   "id": "b6b4d210-6407-43c8-b44f-d73c993ebad5",
   "metadata": {},
   "source": [
    "## Read in the data"
   ]
  },
  {
   "cell_type": "code",
   "execution_count": 6,
   "id": "76a48c40-fb95-49b2-8094-f4e4eeadbc6e",
   "metadata": {},
   "outputs": [],
   "source": [
    "fileg = \"../MadGraph/ppaxgg_dijet/Events/run_02/unweighted_events.lhe\""
   ]
  },
  {
   "cell_type": "code",
   "execution_count": 8,
   "id": "14c03780-e5b0-4907-b753-5aa2ff0aba63",
   "metadata": {},
   "outputs": [],
   "source": [
    "events = pylhe.to_awkward(pylhe.read_lhe_with_attributes(fileg))"
   ]
  },
  {
   "cell_type": "markdown",
   "id": "95014594-cac5-463e-a815-3d7f3b67040d",
   "metadata": {},
   "source": [
    "## Start with R1"
   ]
  },
  {
   "cell_type": "markdown",
   "id": "7eca4450-cf95-4aa6-94d6-524fb262f62b",
   "metadata": {},
   "source": [
    "Identify the particles"
   ]
  },
  {
   "cell_type": "code",
   "execution_count": 9,
   "id": "2b3dff5e-2e9d-4102-893c-bed0e80d5691",
   "metadata": {},
   "outputs": [],
   "source": [
    "g1=events.particles.vector[:,-2]\n",
    "g2=events.particles.vector[:,-1]\n",
    "\n",
    "gtot = g1+g2;\n",
    "y1 = g1.rapidity;\n",
    "y2 = g2.rapidity;\n",
    "ystar = np.abs(y1-y2)/2;"
   ]
  },
  {
   "cell_type": "markdown",
   "id": "c43da8b4-fbbf-4331-a527-5b8d8ce8811d",
   "metadata": {},
   "source": [
    "Function to read in the total cross section and total number of events from the lhe file. Note that for different processes the rows may shift."
   ]
  },
  {
   "cell_type": "code",
   "execution_count": 10,
   "id": "74f49db5-24ab-4ace-8681-c338a60db3ed",
   "metadata": {},
   "outputs": [],
   "source": [
    "def read_sigma_nevents(filename):\n",
    "    with open(filename,'r') as f:\n",
    "        data = f.readlines()\n",
    "    f.close()\n",
    "    sigma = float(data[400].split(' ')[13])\n",
    "    nevents = float(data[148].split(' ')[2])\n",
    "    return sigma, nevents"
   ]
  },
  {
   "cell_type": "code",
   "execution_count": 11,
   "id": "40ca326f-fd73-4485-a4f7-146fa4a26536",
   "metadata": {},
   "outputs": [],
   "source": [
    "sigma, Ntot = read_sigma_nevents(fileg)"
   ]
  },
  {
   "cell_type": "code",
   "execution_count": 12,
   "id": "ffad685f-6abc-49ba-8455-96e5d67a222a",
   "metadata": {},
   "outputs": [
    {
     "data": {
      "text/plain": [
       "694.6500163015603"
      ]
     },
     "execution_count": 12,
     "metadata": {},
     "output_type": "execute_result"
    }
   ],
   "source": [
    "sigma"
   ]
  },
  {
   "cell_type": "markdown",
   "id": "9fc6aa16-dc91-4cdf-9556-0dfb2c80dc68",
   "metadata": {},
   "source": [
    "## Data Visualisation!"
   ]
  },
  {
   "cell_type": "code",
   "execution_count": 13,
   "id": "954c6b90-7da1-4de9-b1c0-7573426cfbfa",
   "metadata": {},
   "outputs": [
    {
     "data": {
      "text/html": [
       "<pre>[570,\n",
       " 391,\n",
       " 492,\n",
       " 1.03e+03,\n",
       " 550,\n",
       " 645,\n",
       " 314,\n",
       " 811,\n",
       " 415,\n",
       " 776,\n",
       " ...,\n",
       " 441,\n",
       " 751,\n",
       " 480,\n",
       " 1.79e+03,\n",
       " 336,\n",
       " 481,\n",
       " 491,\n",
       " 935,\n",
       " 502]\n",
       "----------------------\n",
       "backend: cpu\n",
       "nbytes: 800.0 kB\n",
       "type: 100000 * float64</pre>"
      ],
      "text/plain": [
       "<Array [570, 391, 492, 1.03e+03, ..., 491, 935, 502] type='100000 * float64'>"
      ]
     },
     "execution_count": 13,
     "metadata": {},
     "output_type": "execute_result"
    }
   ],
   "source": [
    "gtot.mass"
   ]
  },
  {
   "cell_type": "code",
   "execution_count": 14,
   "id": "7e02a4d0-f914-4b28-83a4-bfb7292db95c",
   "metadata": {},
   "outputs": [
    {
     "data": {
      "text/plain": [
       "260.0034676569467"
      ]
     },
     "execution_count": 14,
     "metadata": {},
     "output_type": "execute_result"
    }
   ],
   "source": [
    "min(gtot.mass)"
   ]
  },
  {
   "cell_type": "code",
   "execution_count": 15,
   "id": "a1a7c7fa-eb3e-431b-acd1-403e99b9fb96",
   "metadata": {},
   "outputs": [
    {
     "data": {
      "text/plain": [
       "5727.729612672303"
      ]
     },
     "execution_count": 15,
     "metadata": {},
     "output_type": "execute_result"
    }
   ],
   "source": [
    "max(gtot.mass)"
   ]
  },
  {
   "cell_type": "code",
   "execution_count": 16,
   "id": "6aacefb5-97c7-4295-b5a4-7015452ff2ab",
   "metadata": {},
   "outputs": [
    {
     "data": {
      "image/png": "[encoded data removed]",
      "text/plain": [
       "<Figure size 640x480 with 1 Axes>"
      ]
     },
     "metadata": {},
     "output_type": "display_data"
    }
   ],
   "source": [
    "# histogram for NP signal (n = number of events per bin)\n",
    "# density=True gives bin's raw count divided by the total number of counts and the bin width, i.e. density = counts / (sum(counts) * np.diff(bins)\n",
    "n, bins, _ =plt.hist(gtot.mass,bins=30,range=(300, 9000),label='non-linear axion', alpha=0.5,density=False,color = \"blue\", ec=\"k\",histtype='stepfilled',log=False)\n",
    "plt.xlim(300,9000)\n",
    "plt.tight_layout()\n",
    "#plt.title(r'$m_{\\gamma \\gamma}$ ',fontsize=15)\n",
    "plt.xlabel(r'$m_{jj}$ (GeV)',fontsize=15)\n",
    "plt.ylabel(r'events per bin',fontsize=15)\n",
    "#plt.savefig(\"mZZ.pdf\")\n",
    "plt.show()"
   ]
  },
  {
   "cell_type": "code",
   "execution_count": 17,
   "id": "2232fc05-e803-41d5-8ede-0d1804c525b0",
   "metadata": {},
   "outputs": [
    {
     "data": {
      "text/plain": [
       "-2.99933194302748"
      ]
     },
     "execution_count": 17,
     "metadata": {},
     "output_type": "execute_result"
    }
   ],
   "source": [
    "min(y1)"
   ]
  },
  {
   "cell_type": "code",
   "execution_count": 18,
   "id": "d0e4cd70-6688-44ee-baab-777c47c2c833",
   "metadata": {},
   "outputs": [
    {
     "data": {
      "text/plain": [
       "2.998805953712909"
      ]
     },
     "execution_count": 18,
     "metadata": {},
     "output_type": "execute_result"
    }
   ],
   "source": [
    "max(y1)"
   ]
  },
  {
   "cell_type": "code",
   "execution_count": 19,
   "id": "63fee7f1-0852-4207-8141-9bc7d6265a7d",
   "metadata": {},
   "outputs": [
    {
     "data": {
      "text/plain": [
       "2.9979237027502377"
      ]
     },
     "execution_count": 19,
     "metadata": {},
     "output_type": "execute_result"
    }
   ],
   "source": [
    "max(y2)"
   ]
  },
  {
   "cell_type": "code",
   "execution_count": 20,
   "id": "e2b35699-95a2-4df9-a492-3b39f4a64782",
   "metadata": {},
   "outputs": [],
   "source": [
    "# define the events for R1 with 0 < y* < 0.5\n",
    "ystar_R1 = [ys for ys in ystar if 0 < ys <= 0.5];\n",
    "mjj_R1 = [gtot.mass[i] for i in range(len(events)) if 0 < ystar[i] <= 0.5];"
   ]
  },
  {
   "cell_type": "code",
   "execution_count": 21,
   "id": "6458667f-55aa-4784-98a9-b6de21da281a",
   "metadata": {},
   "outputs": [],
   "source": [
    "# define the events for R2 with 0.5 < y* < 1\n",
    "ystar_R2 = [ys for ys in ystar if 0.5 < ys <= 1];\n",
    "mjj_R2 = [gtot.mass[i] for i in range(len(events)) if 0.5 < ystar[i] <= 1];"
   ]
  },
  {
   "cell_type": "code",
   "execution_count": 22,
   "id": "d5632dd3-40c7-4e0f-aae4-5394cf51a2e0",
   "metadata": {},
   "outputs": [],
   "source": [
    "# define the events for R3 with 1 < y* < 1.5\n",
    "ystar_R3 = [ys for ys in ystar if 1 < ys <= 1.5];\n",
    "mjj_R3 = [gtot.mass[i] for i in range(len(events)) if 1 < ystar[i] <= 1.5];"
   ]
  },
  {
   "cell_type": "code",
   "execution_count": 23,
   "id": "0655c393-ea1f-487f-97e9-df87bf4fc493",
   "metadata": {},
   "outputs": [],
   "source": [
    "# define the events for R4 with 1.5 < y* < 2\n",
    "ystar_R4 = [ys for ys in ystar if 1.5 < ys <= 2];\n",
    "mjj_R4 = [gtot.mass[i] for i in range(len(events)) if 1.5 < ystar[i] <= 2];"
   ]
  },
  {
   "cell_type": "code",
   "execution_count": 24,
   "id": "daebad9b-b2a7-416f-bffa-06e725584861",
   "metadata": {},
   "outputs": [],
   "source": [
    "# define the events for R5 with 2 < y* < 2.5\n",
    "ystar_R5 = [ys for ys in ystar if 2 < ys <= 2.5];\n",
    "mjj_R5 = [gtot.mass[i] for i in range(len(events)) if 2 < ystar[i] <= 2.5];"
   ]
  },
  {
   "cell_type": "code",
   "execution_count": 25,
   "id": "32744570-0831-49f0-9b0b-451ee8867fcb",
   "metadata": {},
   "outputs": [],
   "source": [
    "# define the events for R6 with 2.5 < y* < 3\n",
    "ystar_R6 = [ys for ys in ystar if 2.5 < ys <+ 3];\n",
    "mjj_R6 = [gtot.mass[i] for i in range(len(events)) if 2.5 < ystar[i] <= 3];"
   ]
  },
  {
   "cell_type": "code",
   "execution_count": 26,
   "id": "6010092d-5249-438c-8589-cb6c4a9285eb",
   "metadata": {},
   "outputs": [
    {
     "name": "stdout",
     "output_type": "stream",
     "text": [
      "52796\n",
      "32651\n",
      "11697\n",
      "2520\n",
      "322\n",
      "14\n"
     ]
    }
   ],
   "source": [
    "print(len(mjj_R1))\n",
    "print(len(mjj_R2))\n",
    "print(len(mjj_R3))\n",
    "print(len(mjj_R4))\n",
    "print(len(mjj_R5))\n",
    "print(len(mjj_R6))"
   ]
  },
  {
   "cell_type": "code",
   "execution_count": null,
   "id": "640c1335-5b56-4044-ba44-12bb57f8de32",
   "metadata": {},
   "outputs": [],
   "source": [
    "max(mjj_R1)"
   ]
  },
  {
   "cell_type": "code",
   "execution_count": null,
   "id": "9ed02f63-e230-4bba-8d83-0a55b4d981da",
   "metadata": {},
   "outputs": [],
   "source": [
    "# histogram for NP signal (n = number of events per bin)\n",
    "# density=True gives bin's raw count divided by the total number of counts and the bin width, i.e. density = counts / (sum(counts) * np.diff(bins)\n",
    "n, bins, _ =plt.hist(mjj_R1,bins=30,range=(260,7000),label='$0 < y* < 0.5$', alpha=0.5,density=False,color = \"blue\", ec=\"k\",histtype='stepfilled',log=False)\n",
    "n, bins, _ =plt.hist(mjj_R2,bins=30,range=(260,7000),label='$0.5 < y* < 1$', alpha=0.5,density=False,color = \"red\", ec=\"k\",histtype='stepfilled',log=False)\n",
    "n, bins, _ =plt.hist(mjj_R3,bins=30,range=(260,7000),label='$1 < y* < 1.5$', alpha=0.5,density=False,color = \"green\", ec=\"k\",histtype='stepfilled',log=False)\n",
    "n, bins, _ =plt.hist(mjj_R4,bins=30,range=(260,7000),label='$1.5 < y* < 2$', alpha=0.5,density=False,color = \"yellow\", ec=\"k\",histtype='stepfilled',log=False)\n",
    "n, bins, _ =plt.hist(mjj_R5,bins=30,range=(260,7000),label='$2 < y* < 2.5$', alpha=0.5,density=False,color = \"orange\", ec=\"k\",histtype='stepfilled',log=False)\n",
    "n, bins, _ =plt.hist(mjj_R6,bins=30,range=(260,7000),label='$2.5 < y* < 3$', alpha=0.5,density=False,color = \"purple\", ec=\"k\",histtype='stepfilled',log=False)\n",
    "plt.xlim(260, 7000)\n",
    "plt.tight_layout()\n",
    "plt.title(r'$m_{jj}$ for different y*',fontsize=15)\n",
    "plt.xlabel(r'$m_{jj}$',fontsize=15)\n",
    "plt.ylabel(r'events per bin',fontsize=15)\n",
    "plt.legend()\n",
    "#plt.savefig(\"mZZ.pdf\")\n",
    "plt.show()"
   ]
  },
  {
   "cell_type": "markdown",
   "id": "ae39df20-6dc0-4cf2-a915-e50ca6b55bde",
   "metadata": {},
   "source": [
    "# Double differential distribution $\\frac{d^2 \\sigma}{d y* d m_{jj}}$"
   ]
  },
  {
   "cell_type": "markdown",
   "id": "5897ff77-12ab-4be7-a2d1-459e40257df5",
   "metadata": {},
   "source": [
    "## Read in data from NNPDF dataset"
   ]
  },
  {
   "cell_type": "code",
   "execution_count": 27,
   "id": "6379e94a-a657-41c0-b162-89d09053b68b",
   "metadata": {},
   "outputs": [],
   "source": [
    "def parse_dataset(dataset, observable, variant=None):\n",
    "    metadata_file = path_commondata / dataset / \"metadata.yaml\"\n",
    "    metadata = parse_new_metadata(metadata_file, observable, variant=variant)\n",
    "    return metadata"
   ]
  },
  {
   "cell_type": "code",
   "execution_count": 28,
   "id": "373da9e9-957f-4a2d-88fd-9791a4a5653a",
   "metadata": {},
   "outputs": [
    {
     "name": "stdout",
     "output_type": "stream",
     "text": [
      "CommonData(setname='ATLAS_2JET_13TEV_DIF_MJJ-Y', ndata=136, commondataproc='DIJET', nkin=3, nsys=336, legacy=False, legacy_names=None, kin_variables=['ystar', 'm_jj', 'sqrts'])\n"
     ]
    }
   ],
   "source": [
    "# read in metadata and commondata\n",
    "dataset=\"ATLAS_2JET_13TEV_DIF\"\n",
    "observable = \"MJJ-Y\"\n",
    "metadata = parse_dataset(dataset, observable)\n",
    "cd = load_commondata(metadata)\n",
    "print(cd)"
   ]
  },
  {
   "cell_type": "code",
   "execution_count": 29,
   "id": "c37555d8-0533-4991-ab45-b2ad30cad99d",
   "metadata": {},
   "outputs": [],
   "source": [
    "# get the central values, i.e. the measurement for each bins.\n",
    "# central_values gives a vector of length ndata which concatenates the bins for different values of y*\n",
    "# 136 = 28+28+27+24+21+8\n",
    "data=cd.central_values"
   ]
  },
  {
   "cell_type": "code",
   "execution_count": 30,
   "id": "fe3f5537-9e31-4e14-b81f-9a45cee1db98",
   "metadata": {},
   "outputs": [
    {
     "name": "stdout",
     "output_type": "stream",
     "text": [
      "additive_errors\n",
      "central_values\n",
      "commondata_table\n",
      "commondataproc\n",
      "export\n",
      "export_data\n",
      "export_uncertainties\n",
      "get_cv\n",
      "get_kintable\n",
      "kin_variables\n",
      "kinematics\n",
      "legacy\n",
      "legacy_names\n",
      "multiplicative_errors\n",
      "ndata\n",
      "nkin\n",
      "nsys\n",
      "setname\n",
      "stat_errors\n",
      "systematic_errors\n",
      "systematics_table\n",
      "systype_table\n",
      "with_central_value\n",
      "with_cuts\n"
     ]
    }
   ],
   "source": [
    "for attr in dir(cd):\n",
    "    if not attr.startswith(\"__\"):\n",
    "        print(attr)"
   ]
  },
  {
   "cell_type": "code",
   "execution_count": 31,
   "id": "b56c7851-5128-4193-8a71-dc7d16206ce6",
   "metadata": {},
   "outputs": [
    {
     "data": {
      "text/html": [
       "<div>\n",
       "<style scoped>\n",
       "    .dataframe tbody tr th:only-of-type {\n",
       "        vertical-align: middle;\n",
       "    }\n",
       "\n",
       "    .dataframe tbody tr th {\n",
       "        vertical-align: top;\n",
       "    }\n",
       "\n",
       "    .dataframe thead th {\n",
       "        text-align: right;\n",
       "    }\n",
       "</style>\n",
       "<table border=\"1\" class=\"dataframe\">\n",
       "  <thead>\n",
       "    <tr style=\"text-align: right;\">\n",
       "      <th></th>\n",
       "      <th>kin1</th>\n",
       "      <th>kin2</th>\n",
       "      <th>kin3</th>\n",
       "    </tr>\n",
       "    <tr>\n",
       "      <th>entry</th>\n",
       "      <th></th>\n",
       "      <th></th>\n",
       "      <th></th>\n",
       "    </tr>\n",
       "  </thead>\n",
       "  <tbody>\n",
       "    <tr>\n",
       "      <th>1</th>\n",
       "      <td>0.25</td>\n",
       "      <td>285.0</td>\n",
       "      <td>13000.0</td>\n",
       "    </tr>\n",
       "    <tr>\n",
       "      <th>2</th>\n",
       "      <td>0.25</td>\n",
       "      <td>340.0</td>\n",
       "      <td>13000.0</td>\n",
       "    </tr>\n",
       "    <tr>\n",
       "      <th>3</th>\n",
       "      <td>0.25</td>\n",
       "      <td>405.0</td>\n",
       "      <td>13000.0</td>\n",
       "    </tr>\n",
       "    <tr>\n",
       "      <th>4</th>\n",
       "      <td>0.25</td>\n",
       "      <td>475.0</td>\n",
       "      <td>13000.0</td>\n",
       "    </tr>\n",
       "    <tr>\n",
       "      <th>5</th>\n",
       "      <td>0.25</td>\n",
       "      <td>550.0</td>\n",
       "      <td>13000.0</td>\n",
       "    </tr>\n",
       "    <tr>\n",
       "      <th>...</th>\n",
       "      <td>...</td>\n",
       "      <td>...</td>\n",
       "      <td>...</td>\n",
       "    </tr>\n",
       "    <tr>\n",
       "      <th>132</th>\n",
       "      <td>2.75</td>\n",
       "      <td>3045.0</td>\n",
       "      <td>13000.0</td>\n",
       "    </tr>\n",
       "    <tr>\n",
       "      <th>133</th>\n",
       "      <td>2.75</td>\n",
       "      <td>3620.0</td>\n",
       "      <td>13000.0</td>\n",
       "    </tr>\n",
       "    <tr>\n",
       "      <th>134</th>\n",
       "      <td>2.75</td>\n",
       "      <td>4285.0</td>\n",
       "      <td>13000.0</td>\n",
       "    </tr>\n",
       "    <tr>\n",
       "      <th>135</th>\n",
       "      <td>2.75</td>\n",
       "      <td>5540.0</td>\n",
       "      <td>13000.0</td>\n",
       "    </tr>\n",
       "    <tr>\n",
       "      <th>136</th>\n",
       "      <td>2.75</td>\n",
       "      <td>7753.0</td>\n",
       "      <td>13000.0</td>\n",
       "    </tr>\n",
       "  </tbody>\n",
       "</table>\n",
       "<p>136 rows × 3 columns</p>\n",
       "</div>"
      ],
      "text/plain": [
       "       kin1    kin2     kin3\n",
       "entry                       \n",
       "1      0.25   285.0  13000.0\n",
       "2      0.25   340.0  13000.0\n",
       "3      0.25   405.0  13000.0\n",
       "4      0.25   475.0  13000.0\n",
       "5      0.25   550.0  13000.0\n",
       "...     ...     ...      ...\n",
       "132    2.75  3045.0  13000.0\n",
       "133    2.75  3620.0  13000.0\n",
       "134    2.75  4285.0  13000.0\n",
       "135    2.75  5540.0  13000.0\n",
       "136    2.75  7753.0  13000.0\n",
       "\n",
       "[136 rows x 3 columns]"
      ]
     },
     "execution_count": 31,
     "metadata": {},
     "output_type": "execute_result"
    }
   ],
   "source": [
    "cd.kinematics"
   ]
  },
  {
   "cell_type": "code",
   "execution_count": 32,
   "id": "74a1efc5-7b0f-42e1-8e67-2ad0ec46ce44",
   "metadata": {},
   "outputs": [],
   "source": [
    "mjj_bincenter = cd.kinematics['kin2']"
   ]
  },
  {
   "cell_type": "code",
   "execution_count": 33,
   "id": "853101b2-9f9d-45d2-9019-8a71c70dfa4f",
   "metadata": {},
   "outputs": [
    {
     "name": "stdout",
     "output_type": "stream",
     "text": [
      "entry\n",
      "1      2262.803310\n",
      "2       957.009005\n",
      "3       399.559614\n",
      "4       170.726264\n",
      "5        77.356923\n",
      "          ...     \n",
      "132       0.116200\n",
      "133       0.036131\n",
      "134       0.007508\n",
      "135       0.000707\n",
      "136       0.000010\n",
      "Name: data, Length: 136, dtype: float64\n"
     ]
    }
   ],
   "source": [
    "print(data)"
   ]
  },
  {
   "cell_type": "code",
   "execution_count": 34,
   "id": "e1462bf3-e185-44ee-b299-593ffef21239",
   "metadata": {},
   "outputs": [
    {
     "data": {
      "text/plain": [
       "136"
      ]
     },
     "execution_count": 34,
     "metadata": {},
     "output_type": "execute_result"
    }
   ],
   "source": [
    "len(data)"
   ]
  },
  {
   "cell_type": "code",
   "execution_count": 35,
   "id": "049d062b-6f47-4bff-b9f6-421282f2ebb7",
   "metadata": {},
   "outputs": [],
   "source": [
    "data_R1=data[0:28];\n",
    "data_R2=data[28:56];\n",
    "data_R3=data[56:83];\n",
    "data_R4=data[83:107];\n",
    "data_R5=data[107:128];\n",
    "data_R6=data[128:136];"
   ]
  },
  {
   "cell_type": "code",
   "execution_count": 36,
   "id": "1cd309a8-7f9b-442a-97fd-c697754d59e3",
   "metadata": {},
   "outputs": [
    {
     "data": {
      "text/plain": [
       "28"
      ]
     },
     "execution_count": 36,
     "metadata": {},
     "output_type": "execute_result"
    }
   ],
   "source": [
    "len(data_R2)"
   ]
  },
  {
   "cell_type": "code",
   "execution_count": 37,
   "id": "fd9374c7-02e7-4c47-b889-37398b1e6701",
   "metadata": {},
   "outputs": [
    {
     "data": {
      "text/plain": [
       "1993.71337"
      ]
     },
     "execution_count": 37,
     "metadata": {},
     "output_type": "execute_result"
    }
   ],
   "source": [
    "data_R2[29]"
   ]
  },
  {
   "cell_type": "code",
   "execution_count": 38,
   "id": "e5270b44-fa8f-4e27-9e46-cee48a52b819",
   "metadata": {},
   "outputs": [],
   "source": [
    "mjj_bincenter_R1=mjj_bincenter[0:28]\n",
    "mjj_bincenter_R2=mjj_bincenter[28:56]\n",
    "mjj_bincenter_R3=mjj_bincenter[56:83]\n",
    "mjj_bincenter_R4=mjj_bincenter[83:107]\n",
    "mjj_bincenter_R5=mjj_bincenter[107:128]\n",
    "mjj_bincenter_R6=mjj_bincenter[128:136]"
   ]
  },
  {
   "cell_type": "code",
   "execution_count": 39,
   "id": "6a158cc3-a8bd-4290-b7ff-2afe193a1c3d",
   "metadata": {},
   "outputs": [
    {
     "data": {
      "text/plain": [
       "entry\n",
       "1      285.0\n",
       "2      340.0\n",
       "3      405.0\n",
       "4      475.0\n",
       "5      550.0\n",
       "6      630.0\n",
       "7      715.0\n",
       "8      805.0\n",
       "9      900.0\n",
       "10    1005.0\n",
       "11    1120.0\n",
       "12    1245.0\n",
       "13    1380.0\n",
       "14    1525.0\n",
       "15    1680.0\n",
       "16    1850.0\n",
       "17    2030.0\n",
       "18    2225.0\n",
       "19    2440.0\n",
       "20    2665.0\n",
       "21    2910.0\n",
       "22    3175.0\n",
       "23    3460.0\n",
       "24    3770.0\n",
       "25    4100.0\n",
       "26    4455.0\n",
       "27    4840.0\n",
       "28    6020.0\n",
       "Name: kin2, dtype: float64"
      ]
     },
     "execution_count": 39,
     "metadata": {},
     "output_type": "execute_result"
    }
   ],
   "source": [
    "mjj_bincenter_R1"
   ]
  },
  {
   "cell_type": "code",
   "execution_count": null,
   "id": "2588cd9c-3d14-47c2-8773-b69f5c87fdad",
   "metadata": {},
   "outputs": [],
   "source": [
    "# calculate the covariance matrix which is a (ndata, ndata) matrix with the statistical uncertainty and systematical correlation among the bins\n",
    "covmat= covmat_from_systematics(loaded_commondata_with_cuts=cd,\n",
    "                                         dataset_input=None,\n",
    "                                         use_weights_in_covmat=False)"
   ]
  },
  {
   "cell_type": "code",
   "execution_count": 60,
   "id": "e6032ed7-0c8d-4476-a269-88ddc3037408",
   "metadata": {},
   "outputs": [],
   "source": [
    "# get the bins directly from HEPdata:\n",
    "raw_data_R1 = pd.read_csv('../MadGraph/ppaxgg_dijet/data_R1.csv', sep=';', nrows=28, header=10).values\n",
    "#raw_data_R2 = pd.read_csv('../MadGraph/ppaxgg_dijet/data_R2.csv', sep=';', nrows=28, header=10).values\n",
    "#raw_data_R3 = pd.read_csv('../MadGraph/ppaxgg_dijet/data_R3.csv', sep=';', nrows=28, header=10).values\n",
    "#raw_data_R4 = pd.read_csv('../MadGraph/ppaxgg_dijet/data_R4.csv', sep=';', nrows=28, header=10).values\n",
    "#raw_data_R5 = pd.read_csv('../MadGraph/ppaxgg_dijet/data_R5.csv', sep=';', nrows=28, header=10).values\n",
    "#raw_data_R6 = pd.read_csv('../MadGraph/ppaxgg_dijet/data_R6.csv', sep=';', nrows=28, header=10).values"
   ]
  },
  {
   "cell_type": "code",
   "execution_count": 42,
   "id": "c0408940-20fe-4a8d-acad-77a8d053cf52",
   "metadata": {},
   "outputs": [
    {
     "data": {
      "text/plain": [
       "28"
      ]
     },
     "execution_count": 42,
     "metadata": {},
     "output_type": "execute_result"
    }
   ],
   "source": [
    "len(raw_data)"
   ]
  },
  {
   "cell_type": "code",
   "execution_count": 43,
   "id": "8a3abf33-e0ac-4cc7-bf0d-8b8eafe75c41",
   "metadata": {},
   "outputs": [
    {
     "data": {
      "text/plain": [
       "285.0"
      ]
     },
     "execution_count": 43,
     "metadata": {},
     "output_type": "execute_result"
    }
   ],
   "source": [
    "raw_data[0,0]"
   ]
  },
  {
   "cell_type": "code",
   "execution_count": 61,
   "id": "24c76cef-6bc6-41d9-94d6-74cd55c2be87",
   "metadata": {},
   "outputs": [],
   "source": [
    "mjj_bincenter_R1 = raw_data_R1[:,0]"
   ]
  },
  {
   "cell_type": "code",
   "execution_count": 62,
   "id": "0bfe74a5-d9df-406f-8358-3b34c13c8696",
   "metadata": {},
   "outputs": [],
   "source": [
    "mjj_bin_lower_R1=raw_data_R1[:,1];\n",
    "mjj_bin_upper_R1=raw_data_R1[:,2];\n",
    "mjj_bins_R1 = np.append(mjj_bin_lower_R1, mjj_bin_upper_R1[-1])"
   ]
  },
  {
   "cell_type": "code",
   "execution_count": 47,
   "id": "e047fe59-01ea-49a0-8ca7-1a6ffa10941a",
   "metadata": {},
   "outputs": [],
   "source": [
    "#mjj_bin_lower_R2=raw_data[:,1];\n",
    "#mjj_bin_upper_R2=raw_data[:,2];\n",
    "#mjj_bins_R2 = np.append(mjj_bin_lower_R2, mjj_bin_upper_R2[-1])"
   ]
  },
  {
   "cell_type": "code",
   "execution_count": 48,
   "id": "678ce188-b329-4444-8cdc-67350b1b1b04",
   "metadata": {},
   "outputs": [],
   "source": [
    "#mjj_bin_lower_R3=raw_data[:,1];\n",
    "#mjj_bin_upper_R3=raw_data[:,2];\n",
    "#mjj_bins_R3 = np.append(mjj_bin_lower_R3, mjj_bin_upper_R3[-1])"
   ]
  },
  {
   "cell_type": "code",
   "execution_count": 49,
   "id": "626642b5-c7c6-4b73-a9c5-5e34d3a5b203",
   "metadata": {},
   "outputs": [],
   "source": [
    "#mjj_bin_lower_R4=raw_data[:,1];\n",
    "#mjj_bin_upper_R4=raw_data[:,2];\n",
    "#mjj_bins_R4 = np.append(mjj_bin_lower_R4, mjj_bin_upper_R4[-1])"
   ]
  },
  {
   "cell_type": "code",
   "execution_count": 50,
   "id": "724fd433-c36c-4937-b8dc-ee3a0da2aaf7",
   "metadata": {},
   "outputs": [],
   "source": [
    "#mjj_bin_lower_R5=raw_data[:,1];\n",
    "#mjj_bin_upper_R5=raw_data[:,2];\n",
    "#mjj_bins_R5 = np.append(mjj_bin_lower_R5, mjj_bin_upper_R5[-1])"
   ]
  },
  {
   "cell_type": "code",
   "execution_count": 51,
   "id": "a6f7917e-1228-4937-b56a-cbdb8c47130b",
   "metadata": {},
   "outputs": [],
   "source": [
    "#mjj_bin_lower_R6=raw_data[:,1];\n",
    "#mjj_bin_upper_R6=raw_data[:,2];\n",
    "#mjj_bins_R6 = np.append(mjj_bin_lower_R6, mjj_bin_upper_R6[-1])"
   ]
  },
  {
   "cell_type": "code",
   "execution_count": 46,
   "id": "c035e5a2-509e-4de9-93e3-60b5672c0a4e",
   "metadata": {},
   "outputs": [
    {
     "data": {
      "text/plain": [
       "array([260, 310, 370, 440, 510, 590, 670, 760, 850, 950, 1060, 1180, 1310,\n",
       "       1450, 1600, 1760, 1940, 2120, 2330, 2550, 2780, 3040, 3310, 3610,\n",
       "       3930, 4270, 4640, 5040, 7000], dtype=object)"
      ]
     },
     "execution_count": 46,
     "metadata": {},
     "output_type": "execute_result"
    }
   ],
   "source": [
    "mjj_bins_R1"
   ]
  },
  {
   "cell_type": "code",
   "execution_count": null,
   "id": "57b12dec-8ed5-429e-b42c-f2f54e16cb06",
   "metadata": {},
   "outputs": [],
   "source": [
    "plt.scatter(mjj_bincenter_R1, data_R1, color='black', label='data')"
   ]
  },
  {
   "cell_type": "code",
   "execution_count": null,
   "id": "75960d13-1a40-4e05-aa3d-f4c8e15809a3",
   "metadata": {},
   "outputs": [],
   "source": [
    "(data_R1*np.diff(mjj_bins_R1)).sum()"
   ]
  },
  {
   "cell_type": "markdown",
   "id": "d203b2c0-bc9a-458c-a7d7-4a1fea91369d",
   "metadata": {},
   "source": [
    "## Read in the background"
   ]
  },
  {
   "cell_type": "markdown",
   "id": "65f3e3a9-3fb2-44f8-9d57-f5a8884c65f7",
   "metadata": {},
   "source": [
    "I deal with the double-differential distribution in y* and m_jj by splitting it into different regions R, given by the bins in y*."
   ]
  },
  {
   "cell_type": "code",
   "execution_count": null,
   "id": "9a7ba0af-3bcc-4e00-8e97-e5115ce640e2",
   "metadata": {},
   "outputs": [],
   "source": [
    "#Legend:\n",
    "# R1 with 0 < y* < 0.5\n",
    "# R2 with 0.5 < y* < 1\n",
    "# R3 with 1 < y* < 1.5\n",
    "# R4 with 1.5 < y* < 2\n",
    "# R5 with 2 < y* < 2.5\n",
    "# R6 with 2.5 < y* < 3"
   ]
  },
  {
   "cell_type": "markdown",
   "id": "b16a896a-2614-4a6b-92f4-fcd9eff59f8b",
   "metadata": {},
   "source": [
    "Currently, I have only read in the data for R1, the are given by:"
   ]
  },
  {
   "cell_type": "code",
   "execution_count": 64,
   "id": "704223cb-82ef-40f6-812c-258f42d431e7",
   "metadata": {},
   "outputs": [
    {
     "data": {
      "text/plain": [
       "array([260, 310, 370, 440, 510, 590, 670, 760, 850, 950, 1060, 1180, 1310,\n",
       "       1450, 1600, 1760, 1940, 2120, 2330, 2550, 2780, 3040, 3310, 3610,\n",
       "       3930, 4270, 4640, 5040, 7000], dtype=object)"
      ]
     },
     "execution_count": 64,
     "metadata": {},
     "output_type": "execute_result"
    }
   ],
   "source": [
    "mjj_bins_R1"
   ]
  },
  {
   "cell_type": "code",
   "execution_count": null,
   "id": "8b840094-9e85-4693-b240-9b19f34d35a3",
   "metadata": {},
   "outputs": [],
   "source": [
    "# background_R1 = ... should be an array with the number of background events in the bins mjj_bins_R1\n"
   ]
  },
  {
   "cell_type": "markdown",
   "id": "09f868e6-e63b-4f32-aaf2-2ba0fc6f9077",
   "metadata": {},
   "source": [
    "## Histogram with signal events in the right binning"
   ]
  },
  {
   "cell_type": "code",
   "execution_count": null,
   "id": "34c9c8d4-58e6-47ae-ac27-d32065537591",
   "metadata": {},
   "outputs": [],
   "source": [
    "# histogram for NP signal (n = number of events per bin)\n",
    "# density=True gives bin's raw count divided by the total number of counts and the bin width, i.e. density = counts / (sum(counts) * np.diff(bins))\n",
    "n_signal, bins, _ =plt.hist(mjj_R1, bins=mjj_bins_R1,range=(260,7000),label='$0 < y* < 0.5$', alpha=0.5,density=True,color = \"red\", ec=\"k\",histtype='stepfilled',log=False)\n",
    "plt.xlim(260, 7000)\n",
    "plt.tight_layout()\n",
    "plt.title(r'signal distribution for $m_{jj}$ for $0 < y* < 0.5 $',fontsize=15)\n",
    "plt.xlabel(r'$m_{jj}$',fontsize=15)\n",
    "plt.ylabel(r'Normalized distributions',fontsize=15)\n",
    "#plt.savefig(\"mHHdist.pdf\")\n",
    "plt.show()"
   ]
  },
  {
   "cell_type": "code",
   "execution_count": null,
   "id": "5dca04e8-2b53-46fa-a10f-2b27b11bf252",
   "metadata": {},
   "outputs": [],
   "source": [
    "(n_signal*np.diff(mjj_bins_R1)).sum()"
   ]
  },
  {
   "cell_type": "markdown",
   "id": "f11e7729-5de2-49a4-8552-201048673b1a",
   "metadata": {},
   "source": [
    "ATLAS gives the data and background in events per bin and per bin width normalised by the total cross section, meaning that we do not have to multiply with the bin width to compare the signal, but with the measured cross section."
   ]
  },
  {
   "cell_type": "markdown",
   "id": "9658ddc2-963f-4c16-9a6b-397d5cf909c9",
   "metadata": {},
   "source": [
    "## Compare signal with data and background\n"
   ]
  },
  {
   "cell_type": "code",
   "execution_count": null,
   "id": "25c457c7-ff01-426c-a27c-596bede2291d",
   "metadata": {},
   "outputs": [],
   "source": [
    "# we don't have the background yet, we needed some N^nLO simulations with some grids?\n",
    "# for the experimental uncertainty, we need to evaluate the covariance matrix"
   ]
  },
  {
   "cell_type": "code",
   "execution_count": null,
   "id": "8e29d2b2-42b8-4b7d-9e90-24f21b89c8a7",
   "metadata": {},
   "outputs": [],
   "source": [
    "# rescale the MG5 signal events to compare with the data: N_events = n_events * L * sigma * acc\n",
    "# acc = acceptence to the phase space cuts = number of events that pass the cuts / number of all events\n",
    "# sigma in lhe file: total cross section including BR (unless we generate the process with decaying the Higgses or Z), sigma in pb\n",
    "# cross check with more severe cuts that sigma * acc is the same\n",
    "\n",
    "# careful! the lumi is given in fb, and so is the differential cross section. \n",
    "# So we need the cross section from MadGraph in fb as well, which explains the additional factor of 1000.\n",
    "lumi = 3.2\n",
    "delta_y = 0.5 # width of the y* bins\n",
    "acc = 1  # not post-selection cuts\n",
    "#N_events = n_signal * lumi * sigma \n",
    "# the total experimental cross section is around 360 fb, the ALP signal cross section 2.7 pb, so almost a factor 10 higher"
   ]
  },
  {
   "cell_type": "code",
   "execution_count": null,
   "id": "9f9d1446-8bc9-4f26-8057-eddaba507d57",
   "metadata": {},
   "outputs": [],
   "source": [
    "plt.bar(bins[:-1], n_signal*sigma*lumi*1000, width=np.diff(bins), align='edge', alpha=1, color='orangered', label='NP signal ( + BG)')\n",
    "#plt.bar(bins[:-1], n_norm*sigma*lumi, width=np.diff(bins), align='edge', alpha=1, color='orangered', label='NP signal + BG')\n",
    "#plt.bar(bins[:-1], background*lumi, width=np.diff(bins), align='edge', alpha=1, color='royalblue',label='SM background')\n",
    "plt.xlim(260, 7000)\n",
    "#plt.ylim(0,10000)\n",
    "plt.xlabel('$m_{jj}$',fontsize=15)\n",
    "plt.ylabel('Number of events',fontsize=15)\n",
    "#plt.errorbar(mjj_bin_center, data*lumi, data_unc*lumi, color='black', alpha=1,fmt='none')\n",
    "plt.scatter(mjj_bincenter_R1, data_R1*lumi*delta_y, color='black', label='ATLAS data')\n",
    "plt.legend()\n",
    "plt.title(r\"$ALP \\rightarrow gg$ in $m_{jj}$\")\n",
    "plt.tight_layout()\n",
    "#plt.savefig(\"/Users/esser/Documents/PROJECTS/ALPsPheno/ALP GLOBAL/Figures/gg_dijet.pdf\")\n",
    "plt.show()"
   ]
  },
  {
   "cell_type": "markdown",
   "id": "1de414cc-8232-4fff-8175-836cad6adfec",
   "metadata": {},
   "source": [
    "### Output data to Mathematica"
   ]
  },
  {
   "cell_type": "code",
   "execution_count": null,
   "id": "ab82f90c-0b6e-46d2-b248-880de1c3b69a",
   "metadata": {},
   "outputs": [],
   "source": [
    "# data\n",
    "Mathematica_data = \"{\" + \",\".join([f\"{x:.4e}\".replace('e', '*10^') for x in data_R1]) + \"}\" + \";\"\n",
    "print(Mathematica_data)"
   ]
  }
 ],
 "metadata": {
  "kernelspec": {
   "display_name": "environment_nnpdf",
   "language": "python",
   "name": "environment_nnpdf"
  },
  "language_info": {
   "codemirror_mode": {
    "name": "ipython",
    "version": 3
   },
   "file_extension": ".py",
   "mimetype": "text/x-python",
   "name": "python",
   "nbconvert_exporter": "python",
   "pygments_lexer": "ipython3",
   "version": "3.12.9"
  }
 },
 "nbformat": 4,
 "nbformat_minor": 5
}
