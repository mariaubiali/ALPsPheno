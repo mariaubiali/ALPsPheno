{
 "cells": [
  {
   "cell_type": "code",
   "execution_count": 1,
   "id": "33586981-507d-4188-b295-fe52dcc34f01",
   "metadata": {},
   "outputs": [],
   "source": [
    "import pandas as pd\n",
    "import datetime\n",
    "import seaborn as sns\n",
    "import matplotlib.pyplot as plt\n",
    "from matplotlib import rcParams\n",
    "plt.rcParams['text.usetex'] = True\n",
    "plt.rcParams['text.latex.preamble'] = r'\\usepackage{lmodern}'  # Usar Latin Modern Roman\n",
    "rcParams['font.family'] = 'serif'\n",
    "rcParams['font.serif'] = ['Latin Modern Roman']\n",
    "import numpy as np\n",
    "from tensorflow import keras\n",
    "#sns.set_style('dark')\n",
    "plt.rcParams['font.size'] = 16\n",
    "import json\n",
    "import os\n",
    "import copy\n",
    "from IPython.display import display, HTML\n",
    "\n",
    "# from sklearn.metrics import mean_squared_error\n",
    "# from sklearn.metrics import r2_score\n",
    "\n",
    "import scipy as sp\n",
    "from scipy.optimize import curve_fit\n",
    "\n",
    "import uproot\n",
    "import awkward as ak\n",
    "\n",
    "import awkward as ak\n",
    "import matplotlib.pyplot as plt\n",
    "import hist\n",
    "import math\n",
    "import numpy as np\n",
    "import vector\n",
    "import pylhe\n",
    "import seaborn as sns\n",
    "from matplotlib import colormaps"
   ]
  },
  {
   "cell_type": "code",
   "execution_count": 2,
   "id": "68fef40a-de69-45c7-8201-0e12836b7c59",
   "metadata": {},
   "outputs": [
    {
     "name": "stdout",
     "output_type": "stream",
     "text": [
      "The operation couldn’t be completed. Unable to locate a Java Runtime that supports apt.\n",
      "Please visit http://www.java.com for information on installing Java.\n",
      "\n"
     ]
    }
   ],
   "source": [
    "!apt install texlive-fonts-recommended texlive-fonts-extra cm-super dvipng"
   ]
  },
  {
   "cell_type": "code",
   "execution_count": 3,
   "id": "64502202-be7d-486d-8306-67b138c95953",
   "metadata": {},
   "outputs": [
    {
     "name": "stdout",
     "output_type": "stream",
     "text": [
      "Requirement already satisfied: latex in /Users/esser/anaconda3/lib/python3.12/site-packages (0.7.0)\n",
      "Requirement already satisfied: tempdir in /Users/esser/anaconda3/lib/python3.12/site-packages (from latex) (0.7.1)\n",
      "Requirement already satisfied: data in /Users/esser/anaconda3/lib/python3.12/site-packages (from latex) (0.4)\n",
      "Requirement already satisfied: future in /Users/esser/anaconda3/lib/python3.12/site-packages (from latex) (1.0.0)\n",
      "Requirement already satisfied: shutilwhich in /Users/esser/anaconda3/lib/python3.12/site-packages (from latex) (1.1.0)\n",
      "Requirement already satisfied: six in /Users/esser/anaconda3/lib/python3.12/site-packages (from data->latex) (1.16.0)\n",
      "Requirement already satisfied: decorator in /Users/esser/anaconda3/lib/python3.12/site-packages (from data->latex) (5.1.1)\n",
      "Requirement already satisfied: funcsigs in /Users/esser/anaconda3/lib/python3.12/site-packages (from data->latex) (1.0.2)\n",
      "Note: you may need to restart the kernel to use updated packages.\n"
     ]
    }
   ],
   "source": [
    "%pip install latex"
   ]
  },
  {
   "cell_type": "code",
   "execution_count": 4,
   "id": "88c56b09-5bb9-4412-8da8-f1c310cae4dc",
   "metadata": {},
   "outputs": [
    {
     "data": {
      "text/plain": [
       "'/Users/esser/Documents/PROJECTS/ALPsPheno/ALP GLOBAL/github/notebooks'"
      ]
     },
     "execution_count": 4,
     "metadata": {},
     "output_type": "execute_result"
    }
   ],
   "source": [
    "os.getcwd()"
   ]
  },
  {
   "cell_type": "markdown",
   "id": "09703be4-3358-4153-b443-3061b5096003",
   "metadata": {},
   "source": [
    "# Signal events"
   ]
  },
  {
   "cell_type": "markdown",
   "id": "b6b4d210-6407-43c8-b44f-d73c993ebad5",
   "metadata": {},
   "source": [
    "## Read in the data"
   ]
  },
  {
   "cell_type": "code",
   "execution_count": 5,
   "id": "adfc1da8-8302-4b66-af3c-f3c59528fb7a",
   "metadata": {},
   "outputs": [],
   "source": [
    "fileg = \"../MadGraph/ppaxZZ/Events/run_01/unweighted_events.lhe\"\n",
    "events = pylhe.to_awkward(pylhe.read_lhe_with_attributes(fileg))"
   ]
  },
  {
   "cell_type": "markdown",
   "id": "7eca4450-cf95-4aa6-94d6-524fb262f62b",
   "metadata": {},
   "source": [
    "Identify the particles"
   ]
  },
  {
   "cell_type": "code",
   "execution_count": 6,
   "id": "2b3dff5e-2e9d-4102-893c-bed0e80d5691",
   "metadata": {},
   "outputs": [],
   "source": [
    "g1=events.particles.vector[:,0]\n",
    "g2=events.particles.vector[:,1]\n",
    "l1=events.particles.vector[:,-4]\n",
    "l2=events.particles.vector[:,-3]\n",
    "l3=events.particles.vector[:,-2]\n",
    "l4=events.particles.vector[:,-1]\n",
    "\n",
    "ll1=l1+l2;\n",
    "ll2=l3+l4;\n",
    "ltot=ll1+ll2;"
   ]
  },
  {
   "cell_type": "markdown",
   "id": "c43da8b4-fbbf-4331-a527-5b8d8ce8811d",
   "metadata": {},
   "source": [
    "Function to read in the total cross section and total number of events from the lhe file. Note that for different processes the rows may shift."
   ]
  },
  {
   "cell_type": "code",
   "execution_count": 7,
   "id": "74f49db5-24ab-4ace-8681-c338a60db3ed",
   "metadata": {},
   "outputs": [],
   "source": [
    "def read_sigma_nevents(filename):\n",
    "    with open(filename,'r') as f:\n",
    "        data = f.readlines()\n",
    "    f.close()\n",
    "    sigma = float(data[410].split(' ')[13])\n",
    "    nevents = float(data[148].split(' ')[2])\n",
    "    return sigma, nevents"
   ]
  },
  {
   "cell_type": "code",
   "execution_count": 8,
   "id": "40ca326f-fd73-4485-a4f7-146fa4a26536",
   "metadata": {},
   "outputs": [],
   "source": [
    "(sigma, Ntot) = read_sigma_nevents(fileg)"
   ]
  },
  {
   "cell_type": "code",
   "execution_count": 9,
   "id": "ffad685f-6abc-49ba-8455-96e5d67a222a",
   "metadata": {},
   "outputs": [
    {
     "data": {
      "text/plain": [
       "0.202806"
      ]
     },
     "execution_count": 9,
     "metadata": {},
     "output_type": "execute_result"
    }
   ],
   "source": [
    "sigma"
   ]
  },
  {
   "cell_type": "markdown",
   "id": "9fc6aa16-dc91-4cdf-9556-0dfb2c80dc68",
   "metadata": {},
   "source": [
    "##### Data Visualisation!"
   ]
  },
  {
   "cell_type": "code",
   "execution_count": 10,
   "id": "da7fb92e-10be-4664-847d-fdb9050f0306",
   "metadata": {},
   "outputs": [
    {
     "data": {
      "text/plain": [
       "53.78410301981132"
      ]
     },
     "execution_count": 10,
     "metadata": {},
     "output_type": "execute_result"
    }
   ],
   "source": [
    "# checks the cuts in the invariant masses\n",
    "min(ll1.mass)"
   ]
  },
  {
   "cell_type": "code",
   "execution_count": 11,
   "id": "5b28e3e2-3d14-4d5a-a336-a4036a167f1b",
   "metadata": {},
   "outputs": [
    {
     "data": {
      "text/plain": [
       "53.764053872280414"
      ]
     },
     "execution_count": 11,
     "metadata": {},
     "output_type": "execute_result"
    }
   ],
   "source": [
    "min(ll2.mass)"
   ]
  },
  {
   "cell_type": "code",
   "execution_count": 12,
   "id": "3112f96a-1a42-4ff7-b82f-966bc3ead510",
   "metadata": {},
   "outputs": [
    {
     "data": {
      "text/plain": [
       "180.11482645195815"
      ]
     },
     "execution_count": 12,
     "metadata": {},
     "output_type": "execute_result"
    }
   ],
   "source": [
    "min(ltot.mass)"
   ]
  },
  {
   "cell_type": "markdown",
   "id": "a81c41f2-5c24-4669-9cea-7a372e9d195c",
   "metadata": {},
   "source": [
    "Invariant mass for the lepton pairs"
   ]
  },
  {
   "cell_type": "code",
   "execution_count": 13,
   "id": "756d8d6c-251c-483b-8c68-a715dfadac74",
   "metadata": {},
   "outputs": [
    {
     "data": {
      "image/png": "[encoded data removed]",
      "text/plain": [
       "<Figure size 640x480 with 1 Axes>"
      ]
     },
     "metadata": {},
     "output_type": "display_data"
    }
   ],
   "source": [
    "# histogram for NP signal (n = number of events per bin)\n",
    "# density=True gives bin's raw count divided by the total number of counts and the bin width, i.e. density = counts / (sum(counts) * np.diff(bins)\n",
    "n, bins, _ =plt.hist(ll1.mass,bins=30,range=(50,150),label='non-linear axion', alpha=0.5,density=False,color = \"blue\", ec=\"k\",histtype='stepfilled',log=False)\n",
    "plt.xlim(50, 150)\n",
    "plt.tight_layout()\n",
    "#plt.title(r'$m_{\\gamma \\gamma}$ ',fontsize=15)\n",
    "plt.xlabel(r'$m_{ll1}$ (GeV)',fontsize=15)\n",
    "plt.ylabel(r'events per bin',fontsize=15)\n",
    "#plt.savefig(\"mZZ.pdf\")\n",
    "plt.show()"
   ]
  },
  {
   "cell_type": "code",
   "execution_count": 14,
   "id": "482dca4e-8c51-4399-a297-1a7198ee036e",
   "metadata": {},
   "outputs": [
    {
     "data": {
      "image/png": "[encoded data removed]",
      "text/plain": [
       "<Figure size 640x480 with 1 Axes>"
      ]
     },
     "metadata": {},
     "output_type": "display_data"
    }
   ],
   "source": [
    "# histogram for NP signal (n = number of events per bin)\n",
    "# density=True gives bin's raw count divided by the total number of counts and the bin width, i.e. density = counts / (sum(counts) * np.diff(bins)\n",
    "n, bins, _ =plt.hist(ll2.mass,bins=30,range=(50,150),label='non-linear axion', alpha=0.5,density=False,color = \"blue\", ec=\"k\",histtype='stepfilled',log=False)\n",
    "plt.xlim(50, 150)\n",
    "plt.tight_layout()\n",
    "#plt.title(r'$m_{\\gamma \\gamma}$ ',fontsize=15)\n",
    "plt.xlabel(r'$m_{ll2}$ (GeV)',fontsize=15)\n",
    "plt.ylabel(r'events per bin',fontsize=15)\n",
    "#plt.savefig(\"mZZ.pdf\")\n",
    "plt.show()"
   ]
  },
  {
   "cell_type": "markdown",
   "id": "c76a5311-41be-4b68-8bf1-c2386f8df22a",
   "metadata": {},
   "source": [
    "Plot the distribution for the invariant mass $m_{4l}$"
   ]
  },
  {
   "cell_type": "code",
   "execution_count": 15,
   "id": "244b8334-4d99-4f42-82cf-9a153df9c8ff",
   "metadata": {},
   "outputs": [
    {
     "data": {
      "image/png": "[encoded data removed]",
      "text/plain": [
       "<Figure size 640x480 with 1 Axes>"
      ]
     },
     "metadata": {},
     "output_type": "display_data"
    }
   ],
   "source": [
    "# histogram for NP signal (n = number of events per bin)\n",
    "# density=True gives bin's raw count divided by the total number of counts and the bin width, i.e. density = counts / (sum(counts) * np.diff(bins)\n",
    "n, bins, _ =plt.hist(ltot.mass,bins=30,range=(180,1200),label='non-linear axion', alpha=0.5,density=False,color = \"blue\", ec=\"k\",histtype='stepfilled',log=False)\n",
    "plt.xlim(0, 1200)\n",
    "plt.tight_layout()\n",
    "#plt.title(r'$m_{\\gamma \\gamma}$ ',fontsize=15)\n",
    "plt.xlabel(r'$m_{4l}$ (GeV)',fontsize=15)\n",
    "plt.ylabel(r'events per bin',fontsize=15)\n",
    "#plt.savefig(\"mZZ.pdf\")\n",
    "plt.show()"
   ]
  },
  {
   "cell_type": "code",
   "execution_count": 16,
   "id": "e285fb9c-867a-4bb3-acbe-426a6283a6dc",
   "metadata": {},
   "outputs": [
    {
     "data": {
      "text/plain": [
       "87963.0"
      ]
     },
     "execution_count": 16,
     "metadata": {},
     "output_type": "execute_result"
    }
   ],
   "source": [
    "n.sum()"
   ]
  },
  {
   "cell_type": "code",
   "execution_count": 17,
   "id": "847d5634-8ce3-4d0d-abf5-49add78c7547",
   "metadata": {},
   "outputs": [],
   "source": [
    "# acceptance factor to the experimental bins\n",
    "acc = n.sum()/Ntot"
   ]
  },
  {
   "cell_type": "code",
   "execution_count": 18,
   "id": "e2acd484-2acc-4e53-8862-3fc2c221726b",
   "metadata": {},
   "outputs": [
    {
     "data": {
      "text/plain": [
       "0.87963"
      ]
     },
     "execution_count": 18,
     "metadata": {},
     "output_type": "execute_result"
    }
   ],
   "source": [
    "acc"
   ]
  },
  {
   "cell_type": "code",
   "execution_count": 19,
   "id": "fca63183-5f77-46ae-aeca-7a6ab1819810",
   "metadata": {},
   "outputs": [
    {
     "data": {
      "image/png": "[encoded data removed]",
      "text/plain": [
       "<Figure size 640x480 with 1 Axes>"
      ]
     },
     "metadata": {},
     "output_type": "display_data"
    }
   ],
   "source": [
    "# histogram for NP signal (n = number of events per bin)\n",
    "# density=True gives bin's raw count divided by the total number of counts and the bin width, i.e. density = counts / (sum(counts) * np.diff(bins)\n",
    "n_pt, bins_pt, _ =plt.hist(l1.pt,bins=50,range=(0,300),label='non-linear axion', alpha=0.5,density=False,color = \"blue\", ec=\"k\",histtype='stepfilled',log=False)\n",
    "plt.xlim(0, 300)\n",
    "plt.tight_layout()\n",
    "plt.xlabel(r'$p_{T,1}$ ',fontsize=15)\n",
    "plt.ylabel(r'events per bin',fontsize=15)\n",
    "#plt.savefig(\"mgammagamma.pdf\")\n",
    "plt.show()"
   ]
  },
  {
   "cell_type": "code",
   "execution_count": 20,
   "id": "475b213f-1e78-4f28-8fd1-09d7f98513fc",
   "metadata": {},
   "outputs": [
    {
     "data": {
      "text/plain": [
       "89422.0"
      ]
     },
     "execution_count": 20,
     "metadata": {},
     "output_type": "execute_result"
    }
   ],
   "source": [
    "n_pt.sum()"
   ]
  },
  {
   "cell_type": "markdown",
   "id": "2614aeec-fda4-4b23-a4e3-8ae11d8f11a6",
   "metadata": {},
   "source": [
    "Distribution in $\\Delta R_{\\gamma \\gamma}$: The photons are well separated, even though we only applied a cut of $\\Delta R_{\\gamma \\gamma} > 0.4$"
   ]
  },
  {
   "cell_type": "code",
   "execution_count": 21,
   "id": "b84a32e0-0499-4fff-a990-9571decf7dab",
   "metadata": {},
   "outputs": [
    {
     "data": {
      "text/plain": [
       "0.06244513162012743"
      ]
     },
     "execution_count": 21,
     "metadata": {},
     "output_type": "execute_result"
    }
   ],
   "source": [
    "min(l1.deltaR(l2))"
   ]
  },
  {
   "cell_type": "code",
   "execution_count": 22,
   "id": "d0233650-7ae9-4bd5-8cd7-ba0424e55bd6",
   "metadata": {},
   "outputs": [
    {
     "data": {
      "image/png": "[encoded data removed]",
      "text/plain": [
       "<Figure size 640x480 with 1 Axes>"
      ]
     },
     "metadata": {},
     "output_type": "display_data"
    }
   ],
   "source": [
    "# histogram for NP signal (n = number of events per bin)\n",
    "# density=True gives bin's raw count divided by the total number of counts and the bin width, i.e. density = counts / (sum(counts) * np.diff(bins)\n",
    "n_dR, bins_dR, _ =plt.hist(l1.deltaR(l2),bins=20,range=(0,6),label='non-linear axion', alpha=0.5,density=False,color = \"blue\", ec=\"k\",histtype='stepfilled',log=False)\n",
    "plt.xlim(0, 6)\n",
    "plt.tight_layout()\n",
    "plt.xlabel(r'$\\Delta R_{ll1}$ ',fontsize=15)\n",
    "plt.ylabel(r'events per bin',fontsize=15)\n",
    "#plt.savefig(\"mgammagamma.pdf\")\n",
    "plt.show()"
   ]
  },
  {
   "cell_type": "code",
   "execution_count": 23,
   "id": "106d6673-a2c3-4a58-aa52-03743b8b042d",
   "metadata": {},
   "outputs": [
    {
     "data": {
      "text/plain": [
       "-7.051439704561817"
      ]
     },
     "execution_count": 23,
     "metadata": {},
     "output_type": "execute_result"
    }
   ],
   "source": [
    "min(l1.rapidity)"
   ]
  },
  {
   "cell_type": "code",
   "execution_count": 24,
   "id": "ae8592cf-1b3b-4285-8b75-98727f3c14c8",
   "metadata": {},
   "outputs": [
    {
     "data": {
      "text/plain": [
       "-6.956366536050746"
      ]
     },
     "execution_count": 24,
     "metadata": {},
     "output_type": "execute_result"
    }
   ],
   "source": [
    "min(l2.rapidity)"
   ]
  },
  {
   "cell_type": "code",
   "execution_count": 25,
   "id": "be108f78-0e10-4c07-b2e4-3456a41753f3",
   "metadata": {},
   "outputs": [
    {
     "data": {
      "image/png": "[encoded data removed]",
      "text/plain": [
       "<Figure size 640x480 with 1 Axes>"
      ]
     },
     "metadata": {},
     "output_type": "display_data"
    }
   ],
   "source": [
    "# histogram for NP signal (n = number of events per bin)\n",
    "# density=True gives bin's raw count divided by the total number of counts and the bin width, i.e. density = counts / (sum(counts) * np.diff(bins)\n",
    "n_eta, bins_eta, _ =plt.hist(l1.rapidity,bins=20,range=(-2.4,2.4),label='non-linear axion', alpha=0.5,density=False,color = \"blue\", ec=\"k\",histtype='stepfilled',log=False)\n",
    "plt.xlim(-2.5, 2.5)\n",
    "plt.tight_layout()\n",
    "plt.xlabel(r'$\\eta_{l1}$ ',fontsize=15)\n",
    "plt.ylabel(r'events per bin',fontsize=15)\n",
    "#plt.savefig(\"mgammagamma.pdf\")\n",
    "plt.show()"
   ]
  },
  {
   "cell_type": "code",
   "execution_count": 26,
   "id": "ab9bd6d4-2994-4ff3-8814-a1c541f30fab",
   "metadata": {},
   "outputs": [
    {
     "data": {
      "text/plain": [
       "93190.0"
      ]
     },
     "execution_count": 26,
     "metadata": {},
     "output_type": "execute_result"
    }
   ],
   "source": [
    "n_eta.sum()"
   ]
  },
  {
   "cell_type": "markdown",
   "id": "ae39df20-6dc0-4cf2-a915-e50ca6b55bde",
   "metadata": {},
   "source": [
    "# Invariant mass $𝑚_{ZZ}$ distribution"
   ]
  },
  {
   "cell_type": "markdown",
   "id": "5897ff77-12ab-4be7-a2d1-459e40257df5",
   "metadata": {},
   "source": [
    "## Read in data and background from Fig. 3a"
   ]
  },
  {
   "cell_type": "code",
   "execution_count": 27,
   "id": "cd24ceaf-7ab6-4153-a255-916e7d8e761f",
   "metadata": {},
   "outputs": [],
   "source": [
    "#data (rows 11-23)\n",
    "raw_data = pd.read_csv('../MadGraph/ppaxZZ/data_ZZ.csv', sep=',', nrows=12, header=10).values"
   ]
  },
  {
   "cell_type": "code",
   "execution_count": 28,
   "id": "d25aa5fa-4b60-406c-9661-b3f7ee8c20a5",
   "metadata": {},
   "outputs": [
    {
     "data": {
      "text/plain": [
       "8"
      ]
     },
     "execution_count": 28,
     "metadata": {},
     "output_type": "execute_result"
    }
   ],
   "source": [
    "len(raw_data[0])"
   ]
  },
  {
   "cell_type": "code",
   "execution_count": 29,
   "id": "47c8c88f-e2f6-4733-8076-7a99ee0e80a8",
   "metadata": {},
   "outputs": [
    {
     "data": {
      "text/plain": [
       "910.0"
      ]
     },
     "execution_count": 29,
     "metadata": {},
     "output_type": "execute_result"
    }
   ],
   "source": [
    "raw_data[-1,0]"
   ]
  },
  {
   "cell_type": "code",
   "execution_count": 30,
   "id": "02682ba5-efe4-48ff-8f41-03b5d19ceec1",
   "metadata": {},
   "outputs": [],
   "source": [
    "mZZ_bin_center = raw_data[:,0]"
   ]
  },
  {
   "cell_type": "code",
   "execution_count": 31,
   "id": "b45c32c5-153e-46fd-8811-2af5b6b095a2",
   "metadata": {},
   "outputs": [
    {
     "data": {
      "text/plain": [
       "array([190. , 210. , 230. , 252.5, 277.5, 305. , 335. , 370. , 415. ,\n",
       "       480. , 570. , 910. ])"
      ]
     },
     "execution_count": 31,
     "metadata": {},
     "output_type": "execute_result"
    }
   ],
   "source": [
    "mZZ_bin_center"
   ]
  },
  {
   "cell_type": "code",
   "execution_count": 32,
   "id": "1f2f99fd-7950-4fdd-82e4-a14c4c71caa0",
   "metadata": {},
   "outputs": [],
   "source": [
    "mZZ_bin_lower=raw_data[:,1]"
   ]
  },
  {
   "cell_type": "code",
   "execution_count": 33,
   "id": "4fb68487-e880-42f5-b269-d7879bc34a75",
   "metadata": {},
   "outputs": [],
   "source": [
    "mZZ_bin_upper=raw_data[:,2]"
   ]
  },
  {
   "cell_type": "code",
   "execution_count": 34,
   "id": "b9e9cfb7-2e48-40d0-8949-46ce8cb37a6e",
   "metadata": {},
   "outputs": [],
   "source": [
    "mZZ_bins = np.append(mZZ_bin_lower, mZZ_bin_upper[-1])"
   ]
  },
  {
   "cell_type": "code",
   "execution_count": 35,
   "id": "dab7b824-0080-48d6-b41f-645e825fc50c",
   "metadata": {},
   "outputs": [
    {
     "data": {
      "text/plain": [
       "array([ 180.,  200.,  220.,  240.,  265.,  290.,  320.,  350.,  390.,\n",
       "        440.,  520.,  620., 1200.])"
      ]
     },
     "execution_count": 35,
     "metadata": {},
     "output_type": "execute_result"
    }
   ],
   "source": [
    "mZZ_bins"
   ]
  },
  {
   "cell_type": "code",
   "execution_count": 36,
   "id": "ed5d7076-a548-4e0e-bdf6-8590dcf2b15f",
   "metadata": {},
   "outputs": [],
   "source": [
    "data = raw_data[:,3]"
   ]
  },
  {
   "cell_type": "code",
   "execution_count": 37,
   "id": "38cefc89-2bd3-4eb7-914b-5212c8cee409",
   "metadata": {},
   "outputs": [
    {
     "data": {
      "text/plain": [
       "12"
      ]
     },
     "execution_count": 37,
     "metadata": {},
     "output_type": "execute_result"
    }
   ],
   "source": [
    "len(data)"
   ]
  },
  {
   "cell_type": "code",
   "execution_count": 38,
   "id": "488416ec-72f8-4f76-929f-e9f789581d74",
   "metadata": {},
   "outputs": [
    {
     "name": "stdout",
     "output_type": "stream",
     "text": [
      "[0.2679 0.3626 0.2393 0.2312 0.1434 0.0905 0.0573 0.0334 0.0289 0.0201\n",
      " 0.0046 0.001 ]\n"
     ]
    }
   ],
   "source": [
    "print(data)\n",
    "# last bin 1??"
   ]
  },
  {
   "cell_type": "code",
   "execution_count": 39,
   "id": "07da90db-2838-424d-b02e-d924ae059be7",
   "metadata": {},
   "outputs": [
    {
     "name": "stdout",
     "output_type": "stream",
     "text": [
      "[0.2679 0.3626 0.2393 0.2312 0.1434 0.0905 0.0573 0.0334 0.0289 0.0201\n",
      " 0.0046 0.0012]\n"
     ]
    }
   ],
   "source": [
    "data[-1] = 0.0012;\n",
    "print(data)"
   ]
  },
  {
   "cell_type": "code",
   "execution_count": 40,
   "id": "112c6d6e-a453-4f21-b6ad-8d1b95d18795",
   "metadata": {},
   "outputs": [],
   "source": [
    "# total uncertainty, the uncertainty bands are symmetric\n",
    "data_unc = raw_data[:,-2]"
   ]
  },
  {
   "cell_type": "code",
   "execution_count": 41,
   "id": "d44bb3ea-96ed-40bd-84eb-79be401523fa",
   "metadata": {},
   "outputs": [
    {
     "name": "stdout",
     "output_type": "stream",
     "text": [
      "[0.0352 0.0392 0.0316 0.0277 0.0217 0.0156 0.0126 0.0084 0.0069 0.0045\n",
      " 0.0019 0.0003]\n"
     ]
    }
   ],
   "source": [
    "print(data_unc)"
   ]
  },
  {
   "cell_type": "code",
   "execution_count": 42,
   "id": "f1faa9dd-c2e7-4923-92ec-78755fd3bc10",
   "metadata": {},
   "outputs": [
    {
     "data": {
      "text/plain": [
       "array([0.3031, 0.4018, 0.2709, 0.2589, 0.1651, 0.1061, 0.0699, 0.0418,\n",
       "       0.0358, 0.0246, 0.0065, 0.0015])"
      ]
     },
     "execution_count": 42,
     "metadata": {},
     "output_type": "execute_result"
    }
   ],
   "source": [
    "data+data_unc"
   ]
  },
  {
   "cell_type": "code",
   "execution_count": 43,
   "id": "ea3a955f-e28a-44a1-9727-18d63f274059",
   "metadata": {},
   "outputs": [],
   "source": [
    "#background, take SHERPA (rows 84-154)\n",
    "raw_background = pd.read_csv('../MadGraph/ppaxZZ/data_ZZ.csv', sep=',', nrows=12, header=25).values"
   ]
  },
  {
   "cell_type": "code",
   "execution_count": 44,
   "id": "341b9fcd-005c-46fd-a9cb-b68680210406",
   "metadata": {},
   "outputs": [
    {
     "data": {
      "text/plain": [
       "190.0"
      ]
     },
     "execution_count": 44,
     "metadata": {},
     "output_type": "execute_result"
    }
   ],
   "source": [
    "raw_background[0,0]"
   ]
  },
  {
   "cell_type": "code",
   "execution_count": 45,
   "id": "df874010-5e73-47df-9616-5c37802a7d0d",
   "metadata": {},
   "outputs": [],
   "source": [
    "background = raw_background[:,3]"
   ]
  },
  {
   "cell_type": "code",
   "execution_count": 46,
   "id": "1d7e48ec-932e-4ba3-964b-43035a6840fb",
   "metadata": {},
   "outputs": [
    {
     "name": "stdout",
     "output_type": "stream",
     "text": [
      "[0.2904 0.3452 0.2685 0.1964 0.1351 0.0935 0.0641 0.0432 0.0274 0.0151\n",
      " 0.0068 0.0012]\n"
     ]
    }
   ],
   "source": [
    "print(background)"
   ]
  },
  {
   "cell_type": "code",
   "execution_count": 47,
   "id": "01d21d7d-d86f-4f67-9cf0-eec1ad32321d",
   "metadata": {},
   "outputs": [],
   "source": [
    "background_unc = raw_background[:,4]"
   ]
  },
  {
   "cell_type": "code",
   "execution_count": 48,
   "id": "ddba6d3d-218f-4830-85fe-944836725ea2",
   "metadata": {},
   "outputs": [
    {
     "name": "stdout",
     "output_type": "stream",
     "text": [
      "[0.033  0.038  0.0309 0.023  0.0165 0.0116 0.0079 0.0056 0.0034 0.0021\n",
      " 0.0014 0.0002]\n"
     ]
    }
   ],
   "source": [
    "# systematic background uncertainty\n",
    "# wtf, 33??? is this true??\n",
    "print(background_unc)"
   ]
  },
  {
   "cell_type": "code",
   "execution_count": 49,
   "id": "9d8aa7b9-a573-4867-9a08-943b9c6f6ab4",
   "metadata": {},
   "outputs": [
    {
     "data": {
      "text/plain": [
       "<matplotlib.legend.Legend at 0x286ac17c0>"
      ]
     },
     "execution_count": 49,
     "metadata": {},
     "output_type": "execute_result"
    },
    {
     "data": {
      "image/png": "[encoded data removed]",
      "text/plain": [
       "<Figure size 640x480 with 1 Axes>"
      ]
     },
     "metadata": {},
     "output_type": "display_data"
    }
   ],
   "source": [
    "plt.bar(mZZ_bins[:-1], background, width=np.diff(mZZ_bins), align='edge', alpha=1, color='royalblue',label='background')\n",
    "#plt.bar(mZZ_bins[:-1], background_unc, width=np.diff(mZZ_bins), align='edge', alpha=0.3, color='royalblue',label='background unc')\n",
    "plt.scatter(mZZ_bin_center, data, color='black', label='data')\n",
    "plt.xlim(180,1200)\n",
    "plt.errorbar(mZZ_bin_center, data, data_unc, color='black', alpha=1,fmt='none')\n",
    "plt.xlabel('$m_{ZZ}$ (GeV) ')\n",
    "plt.ylabel(r'$\\frac{d \\sigma}{d m_{ZZ}}$ [fb/GeV]')\n",
    "plt.title(\"Data and background distribution in $m_{4l}$\")\n",
    "plt.legend()"
   ]
  },
  {
   "cell_type": "code",
   "execution_count": 50,
   "id": "03cbae64-995c-42e5-962a-d919832cd77e",
   "metadata": {},
   "outputs": [
    {
     "data": {
      "text/plain": [
       "36.739999999999995"
      ]
     },
     "execution_count": 50,
     "metadata": {},
     "output_type": "execute_result"
    }
   ],
   "source": [
    "# integrate the measured cross section\n",
    "(data*np.diff(mZZ_bins)).sum()"
   ]
  },
  {
   "cell_type": "markdown",
   "id": "09f868e6-e63b-4f32-aaf2-2ba0fc6f9077",
   "metadata": {},
   "source": [
    "## Histogram with signal events in the right binning"
   ]
  },
  {
   "cell_type": "code",
   "execution_count": 51,
   "id": "34c9c8d4-58e6-47ae-ac27-d32065537591",
   "metadata": {},
   "outputs": [
    {
     "data": {
      "image/png": "[encoded data removed]",
      "text/plain": [
       "<Figure size 640x480 with 1 Axes>"
      ]
     },
     "metadata": {},
     "output_type": "display_data"
    }
   ],
   "source": [
    "# histogram for NP signal (n = number of events per bin)\n",
    "# density=True gives bin's raw count divided by the total number of counts and the bin width, i.e. density = counts / (sum(counts) * np.diff(bins))\n",
    "n_signal, bins, _ =plt.hist(ltot.mass,bins=mZZ_bins,range=(180,1200),label='non-linear axion', alpha=0.5,density=True,color = \"red\", ec=\"k\",histtype='stepfilled',log=False)\n",
    "plt.xlim(180, 1200)\n",
    "plt.tight_layout()\n",
    "plt.title(r'signal distribution for $m_{4l}$ ',fontsize=15)\n",
    "plt.xlabel(r'$m_{4l}$ (GeV)',fontsize=15)\n",
    "plt.ylabel(r'Normalized distributions',fontsize=15)\n",
    "#plt.savefig(\"mHHdist.pdf\")\n",
    "plt.show()"
   ]
  },
  {
   "cell_type": "code",
   "execution_count": 52,
   "id": "5dca04e8-2b53-46fa-a10f-2b27b11bf252",
   "metadata": {},
   "outputs": [
    {
     "data": {
      "text/plain": [
       "1.0"
      ]
     },
     "execution_count": 52,
     "metadata": {},
     "output_type": "execute_result"
    }
   ],
   "source": [
    "(n_signal*np.diff(mZZ_bins)).sum()"
   ]
  },
  {
   "cell_type": "markdown",
   "id": "f11e7729-5de2-49a4-8552-201048673b1a",
   "metadata": {},
   "source": [
    "ATLAS also gives the data and background in events per bin and per bin width, meaning that we do not have to multiply with the bin width to compare the signal."
   ]
  },
  {
   "cell_type": "markdown",
   "id": "9658ddc2-963f-4c16-9a6b-397d5cf909c9",
   "metadata": {},
   "source": [
    "## Compare signal with data and background\n"
   ]
  },
  {
   "cell_type": "code",
   "execution_count": 53,
   "id": "8e29d2b2-42b8-4b7d-9e90-24f21b89c8a7",
   "metadata": {},
   "outputs": [],
   "source": [
    "# rescale the MG5 signal events to compare with the data: N_events = n_events * L * sigma * acc\n",
    "# acc = acceptence to the phase space cuts = number of events that pass the cuts / number of all events\n",
    "# sigma in lhe file: total cross section including BR (unless we generate the process with decaying the Higgses or Z), sigma in pb\n",
    "# cross check with more severe cuts that sigma * acc is the same\n",
    "\n",
    "# careful! the lumi is given in fb, and so is the differential cross section. \n",
    "# So we need the cross section from MadGraph in fb as well, which explains the additional factor of 1000.\n",
    "# lumi = 29 (fb)^(-1)\n",
    "lumi = 29\n",
    "#acc to the bins calculated above\n",
    "N_events = n_signal * lumi * sigma * acc"
   ]
  },
  {
   "cell_type": "code",
   "execution_count": 54,
   "id": "9f9d1446-8bc9-4f26-8057-eddaba507d57",
   "metadata": {},
   "outputs": [
    {
     "data": {
      "image/png": "[encoded data removed]",
      "text/plain": [
       "<Figure size 640x480 with 1 Axes>"
      ]
     },
     "metadata": {},
     "output_type": "display_data"
    }
   ],
   "source": [
    "plt.bar(bins[:-1], background*lumi+n_signal*1000*sigma*lumi*acc, width=np.diff(bins), align='edge', alpha=1, color='orangered', label='NP signal + BG')\n",
    "#plt.bar(bins[:-1], n_norm*sigma*lumi, width=np.diff(bins), align='edge', alpha=1, color='orangered', label='NP signal + BG')\n",
    "plt.bar(bins[:-1], background*lumi, width=np.diff(bins), align='edge', alpha=1, color='royalblue',label='SHERPA background')\n",
    "plt.xlim(80, 1000)\n",
    "#plt.ylim(0,10000)\n",
    "plt.xlabel('$m_{4l}$ (GeV)',fontsize=15)\n",
    "plt.ylabel('Number of events',fontsize=15)\n",
    "plt.errorbar(mZZ_bin_center, data*lumi, data_unc*lumi, color='black', alpha=1,fmt='none')\n",
    "plt.scatter(mZZ_bin_center, data*lumi, color='black', label='ATLAS data')\n",
    "plt.legend()\n",
    "plt.title(r\"$ALP \\rightarrow ZZ \\rightarrow 4l$ in $m_{4l}$\")\n",
    "plt.tight_layout()\n",
    "#plt.savefig(\"/Users/esser/Documents/PROJECTS/ALPsPheno/ALP GLOBAL/Figures/ZZ.pdf\")\n",
    "plt.show()"
   ]
  },
  {
   "cell_type": "markdown",
   "id": "1de414cc-8232-4fff-8175-836cad6adfec",
   "metadata": {},
   "source": [
    "### Output data to Mathematica"
   ]
  },
  {
   "cell_type": "code",
   "execution_count": 55,
   "id": "ab82f90c-0b6e-46d2-b248-880de1c3b69a",
   "metadata": {},
   "outputs": [
    {
     "name": "stdout",
     "output_type": "stream",
     "text": [
      "{2.6790*10^-01,3.6260*10^-01,2.3930*10^-01,2.3120*10^-01,1.4340*10^-01,9.0500*10^-02,5.7300*10^-02,3.3400*10^-02,2.8900*10^-02,2.0100*10^-02,4.6000*10^-03,1.2000*10^-03};\n"
     ]
    }
   ],
   "source": [
    "# data\n",
    "Mathematica_data = \"{\" + \",\".join([f\"{x:.4e}\".replace('e', '*10^') for x in data]) + \"}\" + \";\"\n",
    "print(Mathematica_data)"
   ]
  },
  {
   "cell_type": "code",
   "execution_count": 56,
   "id": "a690888c-d047-4a6c-a239-5d19bdb407f3",
   "metadata": {},
   "outputs": [
    {
     "data": {
      "text/plain": [
       "12"
      ]
     },
     "execution_count": 56,
     "metadata": {},
     "output_type": "execute_result"
    }
   ],
   "source": [
    "len(mZZ_bin_center)"
   ]
  },
  {
   "cell_type": "code",
   "execution_count": 57,
   "id": "17c12787-3c9d-442f-9cd9-feea5f6d35ff",
   "metadata": {
    "scrolled": true
   },
   "outputs": [
    {
     "name": "stdout",
     "output_type": "stream",
     "text": [
      "{3.5200*10^-02,3.9200*10^-02,3.1600*10^-02,2.7700*10^-02,2.1700*10^-02,1.5600*10^-02,1.2600*10^-02,8.4000*10^-03,6.9000*10^-03,4.5000*10^-03,1.9000*10^-03,3.0000*10^-04};\n"
     ]
    }
   ],
   "source": [
    "# data\n",
    "Mathematica_data_unc = \"{\" + \",\".join([f\"{x:.4e}\".replace('e', '*10^') for x in data_unc]) + \"}\" \";\"\n",
    "print(Mathematica_data_unc)"
   ]
  },
  {
   "cell_type": "code",
   "execution_count": 58,
   "id": "ff18b167-a114-4cf9-bd6e-2cf5e72bef4e",
   "metadata": {},
   "outputs": [
    {
     "name": "stdout",
     "output_type": "stream",
     "text": [
      "{2.9040*10^-01,3.4520*10^-01,2.6850*10^-01,1.9640*10^-01,1.3510*10^-01,9.3500*10^-02,6.4100*10^-02,4.3200*10^-02,2.7400*10^-02,1.5100*10^-02,6.8000*10^-03,1.2000*10^-03};\n"
     ]
    }
   ],
   "source": [
    "# background\n",
    "Mathematica_background = \"{\" + \",\".join([f\"{x:.4e}\".replace('e', '*10^') for x in background]) + \"}\" \";\"\n",
    "print(Mathematica_background)"
   ]
  },
  {
   "cell_type": "code",
   "execution_count": 59,
   "id": "6e801a1f-5265-44cc-86c0-d7854d5fd93d",
   "metadata": {},
   "outputs": [
    {
     "name": "stdout",
     "output_type": "stream",
     "text": [
      "{2.8596*10^-02,1.1408*10^-01,1.8962*10^-01,2.5545*10^-01,3.0437*10^-01,3.2787*10^-01,3.4578*10^-01,3.3858*10^-01,3.1820*10^-01,2.7929*10^-01,2.3138*10^-01,1.0795*10^-01};\n"
     ]
    }
   ],
   "source": [
    "# signal\n",
    "N_signal = n_signal * sigma * 1000 * acc\n",
    "Mathematica_signal = \"{\" + \",\".join([f\"{x:.4e}\".replace('e', '*10^') for x in N_signal]) + \"}\" \";\"\n",
    "print(Mathematica_signal)"
   ]
  },
  {
   "cell_type": "code",
   "execution_count": 60,
   "id": "89296bfa-e680-4254-991f-52c44a2477da",
   "metadata": {},
   "outputs": [
    {
     "name": "stdout",
     "output_type": "stream",
     "text": [
      "{190,210,230,252,278,305,335,370,415,480,570,910};\n"
     ]
    }
   ],
   "source": [
    "# bin center\n",
    "Mathematica_bin_center = \"{\" + \",\".join([\"{:.0f}\".format(x) for x in mZZ_bin_center]) + \"}\" \";\"\n",
    "print(Mathematica_bin_center)"
   ]
  }
 ],
 "metadata": {
  "kernelspec": {
   "display_name": "Python 3 (ipykernel)",
   "language": "python",
   "name": "python3"
  },
  "language_info": {
   "codemirror_mode": {
    "name": "ipython",
    "version": 3
   },
   "file_extension": ".py",
   "mimetype": "text/x-python",
   "name": "python",
   "nbconvert_exporter": "python",
   "pygments_lexer": "ipython3",
   "version": "3.12.2"
  }
 },
 "nbformat": 4,
 "nbformat_minor": 5
}
