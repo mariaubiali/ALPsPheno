{
 "cells": [
  {
   "cell_type": "code",
   "execution_count": 1,
   "id": "33586981-507d-4188-b295-fe52dcc34f01",
   "metadata": {},
   "outputs": [],
   "source": [
    "import pandas as pd\n",
    "import datetime\n",
    "import seaborn as sns\n",
    "import matplotlib.pyplot as plt\n",
    "from matplotlib import rcParams\n",
    "plt.rcParams['text.usetex'] = True\n",
    "plt.rcParams['text.latex.preamble'] = r'\\usepackage{lmodern}'  # Usar Latin Modern Roman\n",
    "rcParams['font.family'] = 'serif'\n",
    "rcParams['font.serif'] = ['Latin Modern Roman']\n",
    "import numpy as np\n",
    "from tensorflow import keras\n",
    "#sns.set_style('dark')\n",
    "plt.rcParams['font.size'] = 16\n",
    "import json\n",
    "import os\n",
    "import copy\n",
    "from IPython.display import display, HTML\n",
    "\n",
    "# from sklearn.metrics import mean_squared_error\n",
    "# from sklearn.metrics import r2_score\n",
    "\n",
    "import scipy as sp\n",
    "from scipy.optimize import curve_fit\n",
    "\n",
    "import uproot\n",
    "import awkward as ak\n",
    "\n",
    "import awkward as ak\n",
    "import matplotlib.pyplot as plt\n",
    "import hist\n",
    "import math\n",
    "import numpy as np\n",
    "import vector\n",
    "import pylhe\n",
    "import seaborn as sns\n",
    "from matplotlib import colormaps"
   ]
  },
  {
   "cell_type": "code",
   "execution_count": 2,
   "id": "68fef40a-de69-45c7-8201-0e12836b7c59",
   "metadata": {},
   "outputs": [
    {
     "name": "stdout",
     "output_type": "stream",
     "text": [
      "The operation couldn’t be completed. Unable to locate a Java Runtime that supports apt.\n",
      "Please visit http://www.java.com for information on installing Java.\n",
      "\n"
     ]
    }
   ],
   "source": [
    "!apt install texlive-fonts-recommended texlive-fonts-extra cm-super dvipng"
   ]
  },
  {
   "cell_type": "code",
   "execution_count": 3,
   "id": "64502202-be7d-486d-8306-67b138c95953",
   "metadata": {},
   "outputs": [
    {
     "name": "stdout",
     "output_type": "stream",
     "text": [
      "Requirement already satisfied: latex in /Users/esser/anaconda3/lib/python3.12/site-packages (0.7.0)\n",
      "Requirement already satisfied: tempdir in /Users/esser/anaconda3/lib/python3.12/site-packages (from latex) (0.7.1)\n",
      "Requirement already satisfied: data in /Users/esser/anaconda3/lib/python3.12/site-packages (from latex) (0.4)\n",
      "Requirement already satisfied: future in /Users/esser/anaconda3/lib/python3.12/site-packages (from latex) (1.0.0)\n",
      "Requirement already satisfied: shutilwhich in /Users/esser/anaconda3/lib/python3.12/site-packages (from latex) (1.1.0)\n",
      "Requirement already satisfied: six in /Users/esser/anaconda3/lib/python3.12/site-packages (from data->latex) (1.16.0)\n",
      "Requirement already satisfied: decorator in /Users/esser/anaconda3/lib/python3.12/site-packages (from data->latex) (5.1.1)\n",
      "Requirement already satisfied: funcsigs in /Users/esser/anaconda3/lib/python3.12/site-packages (from data->latex) (1.0.2)\n",
      "Note: you may need to restart the kernel to use updated packages.\n"
     ]
    }
   ],
   "source": [
    "%pip install latex"
   ]
  },
  {
   "cell_type": "code",
   "execution_count": 4,
   "id": "88c56b09-5bb9-4412-8da8-f1c310cae4dc",
   "metadata": {},
   "outputs": [
    {
     "data": {
      "text/plain": [
       "'/Users/esser/Documents/PROJECTS/ALPsPheno/ALP GLOBAL/github/notebooks'"
      ]
     },
     "execution_count": 4,
     "metadata": {},
     "output_type": "execute_result"
    }
   ],
   "source": [
    "os.getcwd()"
   ]
  },
  {
   "cell_type": "markdown",
   "id": "09703be4-3358-4153-b443-3061b5096003",
   "metadata": {},
   "source": [
    "# Signal events"
   ]
  },
  {
   "cell_type": "markdown",
   "id": "b6b4d210-6407-43c8-b44f-d73c993ebad5",
   "metadata": {},
   "source": [
    "## Read in the data"
   ]
  },
  {
   "cell_type": "code",
   "execution_count": 5,
   "id": "adfc1da8-8302-4b66-af3c-f3c59528fb7a",
   "metadata": {},
   "outputs": [],
   "source": [
    "fileg = \"../MadGraph/ppaxWW/Events/run_02/unweighted_events.lhe\"\n",
    "events = pylhe.to_awkward(pylhe.read_lhe_with_attributes(fileg))"
   ]
  },
  {
   "cell_type": "markdown",
   "id": "7eca4450-cf95-4aa6-94d6-524fb262f62b",
   "metadata": {},
   "source": [
    "Identify the particles"
   ]
  },
  {
   "cell_type": "code",
   "execution_count": 6,
   "id": "2b3dff5e-2e9d-4102-893c-bed0e80d5691",
   "metadata": {},
   "outputs": [],
   "source": [
    "l1=events.particles.vector[:,-4]\n",
    "nu1=events.particles.vector[:,-3]\n",
    "l2=events.particles.vector[:,-2]\n",
    "nu2=events.particles.vector[:,-1]\n",
    "\n",
    "ltot = l1+l2;"
   ]
  },
  {
   "cell_type": "markdown",
   "id": "c43da8b4-fbbf-4331-a527-5b8d8ce8811d",
   "metadata": {},
   "source": [
    "Function to read in the total cross section and total number of events from the lhe file. Note that for different processes the rows may shift."
   ]
  },
  {
   "cell_type": "code",
   "execution_count": 7,
   "id": "74f49db5-24ab-4ace-8681-c338a60db3ed",
   "metadata": {},
   "outputs": [],
   "source": [
    "def read_sigma_nevents(filename):\n",
    "    with open(filename,'r') as f:\n",
    "        data = f.readlines()\n",
    "    f.close()\n",
    "    sigma = float(data[384].split(' ')[13])\n",
    "    nevents = float(data[149].split(' ')[2])\n",
    "    return sigma, nevents"
   ]
  },
  {
   "cell_type": "code",
   "execution_count": 8,
   "id": "40ca326f-fd73-4485-a4f7-146fa4a26536",
   "metadata": {},
   "outputs": [],
   "source": [
    "(sigma, Ntot) = read_sigma_nevents(fileg)"
   ]
  },
  {
   "cell_type": "code",
   "execution_count": 9,
   "id": "ffad685f-6abc-49ba-8455-96e5d67a222a",
   "metadata": {},
   "outputs": [
    {
     "data": {
      "text/plain": [
       "2.782"
      ]
     },
     "execution_count": 9,
     "metadata": {},
     "output_type": "execute_result"
    }
   ],
   "source": [
    "sigma"
   ]
  },
  {
   "cell_type": "markdown",
   "id": "9fc6aa16-dc91-4cdf-9556-0dfb2c80dc68",
   "metadata": {},
   "source": [
    "## Data Visualisation!"
   ]
  },
  {
   "cell_type": "code",
   "execution_count": 10,
   "id": "954c6b90-7da1-4de9-b1c0-7573426cfbfa",
   "metadata": {},
   "outputs": [
    {
     "data": {
      "text/html": [
       "<pre>[75.7,\n",
       " 222,\n",
       " 400,\n",
       " 213,\n",
       " 89.9,\n",
       " 304,\n",
       " 541,\n",
       " 492,\n",
       " 687,\n",
       " 80,\n",
       " ...,\n",
       " 254,\n",
       " 266,\n",
       " 633,\n",
       " 476,\n",
       " 155,\n",
       " 110,\n",
       " 42.8,\n",
       " 175,\n",
       " 394]\n",
       "----------------------\n",
       "type: 100000 * float64</pre>"
      ],
      "text/plain": [
       "<Array [75.7, 222, 400, 213, ..., 110, 42.8, 175, 394] type='100000 * float64'>"
      ]
     },
     "execution_count": 10,
     "metadata": {},
     "output_type": "execute_result"
    }
   ],
   "source": [
    "ltot.mass"
   ]
  },
  {
   "cell_type": "code",
   "execution_count": 11,
   "id": "7e02a4d0-f914-4b28-83a4-bfb7292db95c",
   "metadata": {},
   "outputs": [
    {
     "data": {
      "text/plain": [
       "0.5298858425116066"
      ]
     },
     "execution_count": 11,
     "metadata": {},
     "output_type": "execute_result"
    }
   ],
   "source": [
    "min(ltot.mass)"
   ]
  },
  {
   "cell_type": "code",
   "execution_count": 12,
   "id": "a1a7c7fa-eb3e-431b-acd1-403e99b9fb96",
   "metadata": {},
   "outputs": [
    {
     "data": {
      "text/plain": [
       "3345.6475516119986"
      ]
     },
     "execution_count": 12,
     "metadata": {},
     "output_type": "execute_result"
    }
   ],
   "source": [
    "max(ltot.mass)"
   ]
  },
  {
   "cell_type": "code",
   "execution_count": 13,
   "id": "6aacefb5-97c7-4295-b5a4-7015452ff2ab",
   "metadata": {},
   "outputs": [
    {
     "data": {
      "image/png": "[encoded data removed]",
      "text/plain": [
       "<Figure size 640x480 with 1 Axes>"
      ]
     },
     "metadata": {},
     "output_type": "display_data"
    }
   ],
   "source": [
    "# histogram for NP signal (n = number of events per bin)\n",
    "# density=True gives bin's raw count divided by the total number of counts and the bin width, i.e. density = counts / (sum(counts) * np.diff(bins)\n",
    "n, bins, _ =plt.hist(ltot.mass,bins=30,range=(55,1500),label='non-linear axion', alpha=0.5,density=False,color = \"blue\", ec=\"k\",histtype='stepfilled',log=False)\n",
    "plt.xlim(0, 1500)\n",
    "plt.tight_layout()\n",
    "#plt.title(r'$m_{\\gamma \\gamma}$ ',fontsize=15)\n",
    "plt.xlabel(r'$m_{e\\mu}$ (GeV)',fontsize=15)\n",
    "plt.ylabel(r'events per bin',fontsize=15)\n",
    "#plt.savefig(\"mZZ.pdf\")\n",
    "plt.show()"
   ]
  },
  {
   "cell_type": "code",
   "execution_count": 14,
   "id": "91104502-a811-4cef-a85e-283e9999ae70",
   "metadata": {},
   "outputs": [],
   "source": [
    "acc_bins = n.sum()/Ntot"
   ]
  },
  {
   "cell_type": "code",
   "execution_count": 15,
   "id": "9e28225b-5e09-49ae-b337-605f0024ad4b",
   "metadata": {},
   "outputs": [
    {
     "data": {
      "text/plain": [
       "0.92823"
      ]
     },
     "execution_count": 15,
     "metadata": {},
     "output_type": "execute_result"
    }
   ],
   "source": [
    "acc_bins"
   ]
  },
  {
   "cell_type": "markdown",
   "id": "ae39df20-6dc0-4cf2-a915-e50ca6b55bde",
   "metadata": {},
   "source": [
    "# $m_{e\\mu}$ distribution"
   ]
  },
  {
   "cell_type": "markdown",
   "id": "5897ff77-12ab-4be7-a2d1-459e40257df5",
   "metadata": {},
   "source": [
    "## Read in data from Table 7 in HEPdata and manually digitise the background from Figure 7b"
   ]
  },
  {
   "cell_type": "code",
   "execution_count": 16,
   "id": "cd24ceaf-7ab6-4153-a255-916e7d8e761f",
   "metadata": {},
   "outputs": [],
   "source": [
    "#data (rows 10-14)\n",
    "raw_data = pd.read_csv('../MadGraph/ppaxWW/data_WW.csv', sep=';', nrows=13, header=20).values"
   ]
  },
  {
   "cell_type": "code",
   "execution_count": 17,
   "id": "d25aa5fa-4b60-406c-9661-b3f7ee8c20a5",
   "metadata": {},
   "outputs": [
    {
     "data": {
      "text/plain": [
       "array([ 6.500e+01,  5.500e+01,  7.500e+01,  3.453e+00,  1.080e+02,\n",
       "       -1.080e+02,  3.500e+01, -3.500e+01,  4.600e+01, -4.600e+01,\n",
       "        8.600e+01, -8.600e+01,  5.600e+01, -5.600e+01,  6.200e+01,\n",
       "       -6.200e+01,  4.900e+01, -4.900e+01,  7.100e+01, -7.100e+01,\n",
       "        1.250e+02, -1.250e+02,  7.700e+01, -7.700e+01,  3.300e+01,\n",
       "       -3.300e+01,  4.000e-02, -4.000e-02])"
      ]
     },
     "execution_count": 17,
     "metadata": {},
     "output_type": "execute_result"
    }
   ],
   "source": [
    "raw_data[0]"
   ]
  },
  {
   "cell_type": "code",
   "execution_count": 18,
   "id": "47c8c88f-e2f6-4733-8076-7a99ee0e80a8",
   "metadata": {},
   "outputs": [
    {
     "data": {
      "text/plain": [
       "1050.0"
      ]
     },
     "execution_count": 18,
     "metadata": {},
     "output_type": "execute_result"
    }
   ],
   "source": [
    "raw_data[-1,0]"
   ]
  },
  {
   "cell_type": "code",
   "execution_count": 19,
   "id": "02682ba5-efe4-48ff-8f41-03b5d19ceec1",
   "metadata": {},
   "outputs": [],
   "source": [
    "mWW_bin_center = raw_data[:,0]"
   ]
  },
  {
   "cell_type": "code",
   "execution_count": 20,
   "id": "b45c32c5-153e-46fd-8811-2af5b6b095a2",
   "metadata": {},
   "outputs": [
    {
     "data": {
      "text/plain": [
       "array([  65. ,   80. ,   90. ,  102.5,  117.5,  132.5,  150. ,  172.5,\n",
       "        202.5,  250. ,  330. ,  490. , 1050. ])"
      ]
     },
     "execution_count": 20,
     "metadata": {},
     "output_type": "execute_result"
    }
   ],
   "source": [
    "mWW_bin_center"
   ]
  },
  {
   "cell_type": "code",
   "execution_count": 21,
   "id": "1f2f99fd-7950-4fdd-82e4-a14c4c71caa0",
   "metadata": {},
   "outputs": [],
   "source": [
    "mWW_bin_lower=raw_data[:,1]"
   ]
  },
  {
   "cell_type": "code",
   "execution_count": 22,
   "id": "4fb68487-e880-42f5-b269-d7879bc34a75",
   "metadata": {},
   "outputs": [],
   "source": [
    "mWW_bin_upper=raw_data[:,2]"
   ]
  },
  {
   "cell_type": "code",
   "execution_count": 23,
   "id": "b9e9cfb7-2e48-40d0-8949-46ce8cb37a6e",
   "metadata": {},
   "outputs": [],
   "source": [
    "mWW_bins = np.append(mWW_bin_lower, mWW_bin_upper[-1])"
   ]
  },
  {
   "cell_type": "code",
   "execution_count": 24,
   "id": "dab7b824-0080-48d6-b41f-645e825fc50c",
   "metadata": {},
   "outputs": [
    {
     "data": {
      "text/plain": [
       "array([  55.,   75.,   85.,   95.,  110.,  125.,  140.,  160.,  185.,\n",
       "        220.,  280.,  380.,  600., 1500.])"
      ]
     },
     "execution_count": 24,
     "metadata": {},
     "output_type": "execute_result"
    }
   ],
   "source": [
    "mWW_bins"
   ]
  },
  {
   "cell_type": "code",
   "execution_count": 25,
   "id": "ed5d7076-a548-4e0e-bdf6-8590dcf2b15f",
   "metadata": {},
   "outputs": [],
   "source": [
    "data = raw_data[:,3]"
   ]
  },
  {
   "cell_type": "code",
   "execution_count": 26,
   "id": "38cefc89-2bd3-4eb7-914b-5212c8cee409",
   "metadata": {},
   "outputs": [
    {
     "data": {
      "text/plain": [
       "13"
      ]
     },
     "execution_count": 26,
     "metadata": {},
     "output_type": "execute_result"
    }
   ],
   "source": [
    "len(data)"
   ]
  },
  {
   "cell_type": "code",
   "execution_count": 27,
   "id": "488416ec-72f8-4f76-929f-e9f789581d74",
   "metadata": {},
   "outputs": [
    {
     "name": "stdout",
     "output_type": "stream",
     "text": [
      "[3.453e+00 3.767e+00 3.538e+00 3.094e+00 2.228e+00 1.899e+00 1.558e+00\n",
      " 1.145e+00 6.746e-01 3.516e-01 1.407e-01 2.837e-02 1.270e-03]\n"
     ]
    }
   ],
   "source": [
    "print(data)"
   ]
  },
  {
   "cell_type": "code",
   "execution_count": 28,
   "id": "bfcf25be-3dff-4b89-8295-ea7aa403b727",
   "metadata": {},
   "outputs": [
    {
     "data": {
      "text/plain": [
       "array([1.08e+02, 1.37e+02, 1.31e+02, 1.04e+02, 8.80e+01, 8.10e+01,\n",
       "       6.30e+01, 4.90e+01, 3.33e-02, 1.82e-02, 9.10e-03, 2.86e-03,\n",
       "       2.70e-04])"
      ]
     },
     "execution_count": 28,
     "metadata": {},
     "output_type": "execute_result"
    }
   ],
   "source": [
    "raw_data[:,4]"
   ]
  },
  {
   "cell_type": "code",
   "execution_count": 29,
   "id": "112c6d6e-a453-4f21-b6ad-8d1b95d18795",
   "metadata": {},
   "outputs": [],
   "source": [
    "# statistical uncertainty, the uncertainty bands are symmetric\n",
    "data_unc = raw_data[:,4]"
   ]
  },
  {
   "cell_type": "code",
   "execution_count": 30,
   "id": "8adb0b52-3173-4f7a-8d11-eaaa2665690d",
   "metadata": {},
   "outputs": [],
   "source": [
    "for i in range(8):\n",
    "    data_unc[i]*=1e-3"
   ]
  },
  {
   "cell_type": "code",
   "execution_count": 31,
   "id": "d44bb3ea-96ed-40bd-84eb-79be401523fa",
   "metadata": {},
   "outputs": [
    {
     "name": "stdout",
     "output_type": "stream",
     "text": [
      "[0.108   0.137   0.131   0.104   0.088   0.081   0.063   0.049   0.0333\n",
      " 0.0182  0.0091  0.00286 0.00027]\n"
     ]
    }
   ],
   "source": [
    "print(data_unc)"
   ]
  },
  {
   "cell_type": "code",
   "execution_count": 32,
   "id": "f1faa9dd-c2e7-4923-92ec-78755fd3bc10",
   "metadata": {},
   "outputs": [
    {
     "data": {
      "text/plain": [
       "array([3.561e+00, 3.904e+00, 3.669e+00, 3.198e+00, 2.316e+00, 1.980e+00,\n",
       "       1.621e+00, 1.194e+00, 7.079e-01, 3.698e-01, 1.498e-01, 3.123e-02,\n",
       "       1.540e-03])"
      ]
     },
     "execution_count": 32,
     "metadata": {},
     "output_type": "execute_result"
    }
   ],
   "source": [
    "data+data_unc"
   ]
  },
  {
   "cell_type": "code",
   "execution_count": 33,
   "id": "ea3a955f-e28a-44a1-9727-18d63f274059",
   "metadata": {},
   "outputs": [],
   "source": [
    "#background, take pink stars in Fig. 7b\n",
    "raw_background = pd.read_csv('../MadGraph/ppaxWW/background_WW.csv', sep=';', nrows=13, header=None).values"
   ]
  },
  {
   "cell_type": "code",
   "execution_count": 34,
   "id": "4f3ff01a-7732-47cd-ab7d-becda8a18ce1",
   "metadata": {},
   "outputs": [
    {
     "data": {
      "text/plain": [
       "array([18.09213629,  2.89161119])"
      ]
     },
     "execution_count": 34,
     "metadata": {},
     "output_type": "execute_result"
    }
   ],
   "source": [
    "raw_background[0]"
   ]
  },
  {
   "cell_type": "code",
   "execution_count": 35,
   "id": "df874010-5e73-47df-9616-5c37802a7d0d",
   "metadata": {},
   "outputs": [],
   "source": [
    "background = raw_background[:,1]"
   ]
  },
  {
   "cell_type": "code",
   "execution_count": 36,
   "id": "1d7e48ec-932e-4ba3-964b-43035a6840fb",
   "metadata": {},
   "outputs": [
    {
     "name": "stdout",
     "output_type": "stream",
     "text": [
      "[2.89161119e+00 3.33669156e+00 3.10618973e+00 2.69185594e+00\n",
      " 2.25077253e+00 1.81579726e+00 1.36368802e+00 1.06146758e+00\n",
      " 6.43117245e-01 3.37673834e-01 1.28471942e-01 2.56641228e-02\n",
      " 1.26948316e-03]\n"
     ]
    }
   ],
   "source": [
    "print(background)"
   ]
  },
  {
   "cell_type": "code",
   "execution_count": 37,
   "id": "9d8aa7b9-a573-4867-9a08-943b9c6f6ab4",
   "metadata": {},
   "outputs": [
    {
     "name": "stderr",
     "output_type": "stream",
     "text": [
      "<>:6: SyntaxWarning: invalid escape sequence '\\m'\n",
      "<>:8: SyntaxWarning: invalid escape sequence '\\g'\n",
      "<>:6: SyntaxWarning: invalid escape sequence '\\m'\n",
      "<>:8: SyntaxWarning: invalid escape sequence '\\g'\n",
      "/var/folders/d0/vjgg68h93_q2fcyzx7cftx_h0000gn/T/ipykernel_34527/858429966.py:6: SyntaxWarning: invalid escape sequence '\\m'\n",
      "  plt.xlabel('$m_{e\\mu}$ (GeV) ')\n",
      "/var/folders/d0/vjgg68h93_q2fcyzx7cftx_h0000gn/T/ipykernel_34527/858429966.py:8: SyntaxWarning: invalid escape sequence '\\g'\n",
      "  plt.title(\"Data and background distribution in $p_T^{\\gamma}$\")\n"
     ]
    },
    {
     "data": {
      "text/plain": [
       "<matplotlib.legend.Legend at 0x2839b1760>"
      ]
     },
     "execution_count": 37,
     "metadata": {},
     "output_type": "execute_result"
    },
    {
     "data": {
      "image/png": "[encoded data removed]",
      "text/plain": [
       "<Figure size 640x480 with 1 Axes>"
      ]
     },
     "metadata": {},
     "output_type": "display_data"
    }
   ],
   "source": [
    "plt.bar(mWW_bins[:-1], background, width=np.diff(mWW_bins), align='edge', alpha=1, color='royalblue',label='background')\n",
    "#plt.bar(mZZ_bins[:-1], background_unc, width=np.diff(mZZ_bins), align='edge', alpha=0.3, color='royalblue',label='background unc')\n",
    "plt.scatter(mWW_bin_center, data, color='black', label='data')\n",
    "plt.xlim(55,1500)\n",
    "plt.errorbar(mWW_bin_center, data, data_unc, color='black', alpha=1,fmt='none')\n",
    "plt.xlabel('$m_{e\\mu}$ (GeV) ')\n",
    "plt.ylabel(r'$\\frac{d \\sigma}{d m_{e\\mu}}$')\n",
    "plt.title(\"Data and background distribution in $p_T^{\\gamma}$\")\n",
    "plt.legend()"
   ]
  },
  {
   "cell_type": "code",
   "execution_count": 38,
   "id": "75960d13-1a40-4e05-aa3d-f4c8e15809a3",
   "metadata": {},
   "outputs": [
    {
     "data": {
      "text/plain": [
       "376.37139999999994"
      ]
     },
     "execution_count": 38,
     "metadata": {},
     "output_type": "execute_result"
    }
   ],
   "source": [
    "(data*np.diff(mWW_bins)).sum()"
   ]
  },
  {
   "cell_type": "markdown",
   "id": "09f868e6-e63b-4f32-aaf2-2ba0fc6f9077",
   "metadata": {},
   "source": [
    "## Histogram with signal events in the right binning"
   ]
  },
  {
   "cell_type": "code",
   "execution_count": 39,
   "id": "34c9c8d4-58e6-47ae-ac27-d32065537591",
   "metadata": {},
   "outputs": [
    {
     "data": {
      "image/png": "[encoded data removed]",
      "text/plain": [
       "<Figure size 640x480 with 1 Axes>"
      ]
     },
     "metadata": {},
     "output_type": "display_data"
    }
   ],
   "source": [
    "# histogram for NP signal (n = number of events per bin)\n",
    "# density=True gives bin's raw count divided by the total number of counts and the bin width, i.e. density = counts / (sum(counts) * np.diff(bins))\n",
    "n_signal, bins, _ =plt.hist(ltot.mass,bins=mWW_bins,range=(55,1500),label='non-linear axion', alpha=0.5,density=True,color = \"red\", ec=\"k\",histtype='stepfilled',log=False)\n",
    "plt.xlim(55, 1500)\n",
    "plt.tight_layout()\n",
    "plt.title(r'signal distribution for $m_{e\\mu}$ ',fontsize=15)\n",
    "plt.xlabel(r'$m_{e\\mu}$ (GeV)',fontsize=15)\n",
    "plt.ylabel(r'Normalized distributions',fontsize=15)\n",
    "#plt.savefig(\"mHHdist.pdf\")\n",
    "plt.show()"
   ]
  },
  {
   "cell_type": "code",
   "execution_count": 40,
   "id": "5dca04e8-2b53-46fa-a10f-2b27b11bf252",
   "metadata": {},
   "outputs": [
    {
     "data": {
      "text/plain": [
       "1.0"
      ]
     },
     "execution_count": 40,
     "metadata": {},
     "output_type": "execute_result"
    }
   ],
   "source": [
    "(n_signal*np.diff(mWW_bins)).sum()"
   ]
  },
  {
   "cell_type": "markdown",
   "id": "f11e7729-5de2-49a4-8552-201048673b1a",
   "metadata": {},
   "source": [
    "ATLAS also gives the data and background in events per bin and per bin width, meaning that we do not have to multiply with the bin width to compare the signal."
   ]
  },
  {
   "cell_type": "markdown",
   "id": "9658ddc2-963f-4c16-9a6b-397d5cf909c9",
   "metadata": {},
   "source": [
    "## Compare signal with data and background\n"
   ]
  },
  {
   "cell_type": "code",
   "execution_count": 41,
   "id": "8e29d2b2-42b8-4b7d-9e90-24f21b89c8a7",
   "metadata": {},
   "outputs": [],
   "source": [
    "# rescale the MG5 signal events to compare with the data: N_events = n_events * L * sigma * acc\n",
    "# acc = acceptence to the phase space cuts = number of events that pass the cuts / number of all events\n",
    "# sigma in lhe file: total cross section including BR (unless we generate the process with decaying the Higgses or Z), sigma in pb\n",
    "# cross check with more severe cuts that sigma * acc is the same\n",
    "\n",
    "# careful! the lumi is given in fb, and so is the differential cross section. \n",
    "# So we need the cross section from MadGraph in fb as well, which explains the additional factor of 1000.\n",
    "lumi = 36.1\n",
    "acc = acc_bins  # not post-selection cuts\n",
    "#N_events = n_signal * lumi * sigma \n",
    "# the total experimental cross section is around 360 fb, the ALP signal cross section 2.7 pb, so almost a factor 10 higher"
   ]
  },
  {
   "cell_type": "code",
   "execution_count": 42,
   "id": "9f9d1446-8bc9-4f26-8057-eddaba507d57",
   "metadata": {},
   "outputs": [
    {
     "name": "stderr",
     "output_type": "stream",
     "text": [
      "<>:6: SyntaxWarning: invalid escape sequence '\\m'\n",
      "<>:6: SyntaxWarning: invalid escape sequence '\\m'\n",
      "/var/folders/d0/vjgg68h93_q2fcyzx7cftx_h0000gn/T/ipykernel_34527/705527194.py:6: SyntaxWarning: invalid escape sequence '\\m'\n",
      "  plt.xlabel('$m_{e\\mu}$ (GeV)',fontsize=15)\n"
     ]
    },
    {
     "data": {
      "image/png": "[encoded data removed]",
      "text/plain": [
       "<Figure size 640x480 with 1 Axes>"
      ]
     },
     "metadata": {},
     "output_type": "display_data"
    }
   ],
   "source": [
    "plt.bar(bins[:-1], background*lumi+n_signal*sigma*1000*lumi*acc, width=np.diff(bins), align='edge', alpha=1, color='orangered', label='NP signal + BG')\n",
    "#plt.bar(bins[:-1], n_norm*sigma*lumi, width=np.diff(bins), align='edge', alpha=1, color='orangered', label='NP signal + BG')\n",
    "plt.bar(bins[:-1], background*lumi, width=np.diff(bins), align='edge', alpha=1, color='royalblue',label='SM background')\n",
    "plt.xlim(55, 1500)\n",
    "#plt.ylim(0,10000)\n",
    "plt.xlabel('$m_{e\\mu}$ (GeV)',fontsize=15)\n",
    "plt.ylabel('Number of events',fontsize=15)\n",
    "plt.errorbar(mWW_bin_center, data*lumi, data_unc*lumi, color='black', alpha=1,fmt='none')\n",
    "plt.scatter(mWW_bin_center, data*lumi, color='black', label='ATLAS data')\n",
    "plt.legend()\n",
    "plt.title(r\"$ALP \\rightarrow WW$ in $m_{e\\mu}$\")\n",
    "plt.tight_layout()\n",
    "#plt.savefig(\"/Users/esser/Documents/PROJECTS/ALPsPheno/ALP GLOBAL/Figures/WW.pdf\")\n",
    "plt.show()"
   ]
  },
  {
   "cell_type": "markdown",
   "id": "1de414cc-8232-4fff-8175-836cad6adfec",
   "metadata": {},
   "source": [
    "### Output data to Mathematica"
   ]
  },
  {
   "cell_type": "code",
   "execution_count": 43,
   "id": "ab82f90c-0b6e-46d2-b248-880de1c3b69a",
   "metadata": {},
   "outputs": [
    {
     "name": "stdout",
     "output_type": "stream",
     "text": [
      "{3.4530*10^+00,3.7670*10^+00,3.5380*10^+00,3.0940*10^+00,2.2280*10^+00,1.8990*10^+00,1.5580*10^+00,1.1450*10^+00,6.7460*10^-01,3.5160*10^-01,1.4070*10^-01,2.8370*10^-02,1.2700*10^-03};\n"
     ]
    }
   ],
   "source": [
    "# data\n",
    "Mathematica_data = \"{\" + \",\".join([f\"{x:.4e}\".replace('e', '*10^') for x in data]) + \"}\" + \";\"\n",
    "print(Mathematica_data)"
   ]
  },
  {
   "cell_type": "code",
   "execution_count": 44,
   "id": "17c12787-3c9d-442f-9cd9-feea5f6d35ff",
   "metadata": {},
   "outputs": [
    {
     "name": "stdout",
     "output_type": "stream",
     "text": [
      "{1.0800*10^-01,1.3700*10^-01,1.3100*10^-01,1.0400*10^-01,8.8000*10^-02,8.1000*10^-02,6.3000*10^-02,4.9000*10^-02,3.3300*10^-02,1.8200*10^-02,9.1000*10^-03,2.8600*10^-03,2.7000*10^-04};\n"
     ]
    }
   ],
   "source": [
    "# data unc\n",
    "Mathematica_data_unc = \"{\" + \",\".join([f\"{x:.4e}\".replace('e', '*10^') for x in data_unc]) + \"}\" \";\"\n",
    "print(Mathematica_data_unc)"
   ]
  },
  {
   "cell_type": "code",
   "execution_count": 45,
   "id": "ff18b167-a114-4cf9-bd6e-2cf5e72bef4e",
   "metadata": {},
   "outputs": [
    {
     "name": "stdout",
     "output_type": "stream",
     "text": [
      "{2.8916*10^+00,3.3367*10^+00,3.1062*10^+00,2.6919*10^+00,2.2508*10^+00,1.8158*10^+00,1.3637*10^+00,1.0615*10^+00,6.4312*10^-01,3.3767*10^-01,1.2847*10^-01,2.5664*10^-02,1.2695*10^-03};\n"
     ]
    }
   ],
   "source": [
    "# background\n",
    "Mathematica_background = \"{\" + \",\".join([f\"{x:.4e}\".replace('e', '*10^') for x in background]) + \"}\" \";\"\n",
    "print(Mathematica_background)"
   ]
  },
  {
   "cell_type": "code",
   "execution_count": 46,
   "id": "6e801a1f-5265-44cc-86c0-d7854d5fd93d",
   "metadata": {},
   "outputs": [
    {
     "name": "stdout",
     "output_type": "stream",
     "text": [
      "{7.7175*10^+00,8.2990*10^+00,8.8564*10^+00,9.2790*10^+00,9.1112*10^+00,8.8554*10^+00,8.4953*10^+00,8.2097*10^+00,7.1297*10^+00,5.7175*10^+00,3.8732*10^+00,1.8837*10^+00,3.0883*10^-01};\n"
     ]
    }
   ],
   "source": [
    "# signal\n",
    "N_signal = n_signal * sigma * 1000\n",
    "Mathematica_signal = \"{\" + \",\".join([f\"{x:.4e}\".replace('e', '*10^') for x in N_signal]) + \"}\" \";\"\n",
    "print(Mathematica_signal)"
   ]
  },
  {
   "cell_type": "code",
   "execution_count": 47,
   "id": "89296bfa-e680-4254-991f-52c44a2477da",
   "metadata": {},
   "outputs": [
    {
     "name": "stdout",
     "output_type": "stream",
     "text": [
      "{65,80,90,102,118,132,150,172,202,250,330,490,1050};\n"
     ]
    }
   ],
   "source": [
    "# bin center\n",
    "Mathematica_bin_center = \"{\" + \",\".join([\"{:.0f}\".format(x) for x in mWW_bin_center]) + \"}\" \";\"\n",
    "print(Mathematica_bin_center)"
   ]
  }
 ],
 "metadata": {
  "kernelspec": {
   "display_name": "Python 3 (ipykernel)",
   "language": "python",
   "name": "python3"
  },
  "language_info": {
   "codemirror_mode": {
    "name": "ipython",
    "version": 3
   },
   "file_extension": ".py",
   "mimetype": "text/x-python",
   "name": "python",
   "nbconvert_exporter": "python",
   "pygments_lexer": "ipython3",
   "version": "3.12.2"
  }
 },
 "nbformat": 4,
 "nbformat_minor": 5
}
